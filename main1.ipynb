{
 "cells": [
  {
   "cell_type": "markdown",
   "metadata": {},
   "source": [
    "<h2 align='center'>FINAL PROJECT OF ADVANCED STATISTICS FOR PHYSICS ANALYSIS</h2>\n",
    "<img align='Center' width=\"500\" src='https://800anniunipd.it/wp-content/uploads/2018/12/logo_800anni.png' alt='Drawing' style='width:10;'/>\n",
    "\n",
    "\n",
    "<h1 align='center'>Naive Bayes Classifier for Fake News recognition\n",
    "\n",
    "\n",
    "<h3 align='left'>University of Padua - Physics of Data</h3>\n",
    "\n",
    "**Name** \n",
    "    \n",
    "Sarvenaz Babakhani\n",
    "    \n",
    "Reza Rajaee\n",
    "    \n",
    "Bahaor Amjadi"
   ]
  },
  {
   "cell_type": "markdown",
   "metadata": {},
   "source": [
    "## Table of contents:\n",
    "- [Introduction](#Introduction)\n",
    "- [Theoreticl Background](#Theoreticl-Background)\n",
    "- [Reading the Data](#read)\n",
    "- [Preprocessing and Cleaning the Dataset](#clean)\n",
    "- [Splitting into Train and Test](#split)\n",
    "- [Building the Classifer](#building)\n",
    "- [Building the Predictor](#pred)\n",
    "- [Building Functions for Everything](#compact)\n",
    "- [Wrapping Up Everything!](#wrap)\n",
    "- [Multinomial Classification](#multi)\n",
    "- [Binomial Classification](#bino)\n",
    "- [A Deeper Look into the Dataframe](#deep)\n",
    "- [Hyper Parameter Tuning (Multinomial Case)](#hyper)\n",
    "- [Hyper Parameter Tuning (Binomial Case)](#hyperbino)\n",
    "- [Accuracies on Test Set](#acc)\n",
    "- [Computation Time](#comp)\n",
    "- [Testing the Model on LabelLess Dataset](#less)\n",
    "- [Conclusion](#con)\n",
    "- [Bibliograohy](#bib)"
   ]
  },
  {
   "cell_type": "markdown",
   "metadata": {},
   "source": [
    "# Introduction <a class=\"anchor\" id=\"Introduction\"></a>"
   ]
  },
  {
   "cell_type": "markdown",
   "metadata": {},
   "source": [
    "The idea of fake news is not a novel concept. Notably, the idea has been in existence even before the emergence of\n",
    "the Internet as publishers used false and misleading information to further their interests. Following the advent of the web, more and more consumers began forsaking the traditional media channels used to disseminate information for online platforms.They are everywhere in our daily life, and come especially from social media platforms and applications in the online world. The aim of the fake news project is to help news readers to identify bias and misinformation in news articles in a quick and reliable fashion.\n",
    "\n",
    "In this project, we try to implement a Multinomial Naive Bayes classifier in R and test its performances in the classification of social media posts.\n",
    "\n",
    "Data is taken from Kaggle and it consists of a training set with 10,240 instances and a test set wth 1,267 instances."
   ]
  },
  {
   "cell_type": "markdown",
   "metadata": {},
   "source": [
    "# Theoreticl Background <a class=\"anchor\" id=\"Theoreticl-Background\"></a>"
   ]
  },
  {
   "cell_type": "markdown",
   "metadata": {},
   "source": [
    "Naive Bayes is a simple technique for constructing classifiers.This models assigns class labels to problem instances, represented as vectors of feature values, where the class labels are drawn from some finite set. There is not a single algorithm for training such classifiers, but a family of algorithms based on a common principle: all naive Bayes classifiers assume that the value of a particular feature is independent of the value of any other feature, given the class variable.\n",
    "For example, a fruit may be considered to be an apple if it is red, round, and about 10 cm in diameter. A naive Bayes classifier considers each of these features to contribute independently to the probability that this fruit is an apple, regardless of any possible correlations between the color, roundness, and diameter features.\n",
    "it is mostly used for text data analysis and are connected to classification tasks of text in multiple classes.\n",
    "\n",
    "The crux of this probabilistic machine learning model is based on the Bayes theorem:\n",
    "\n",
    "$$P(A|B,I)=\\frac{P(B|A,I)P(A|I)}{P(B|I)}$$\n",
    "\n",
    "In this project A is label for each news and B is set of words in that news.\n",
    "$$B=(b_{1},b_{2},...,b_{n})$$\n",
    "using chain rule and we will have: \n",
    "$$P(A|b_{1},b_{2},...,b_{n},I)=\\frac{P(b_{1}|A,I)P(b_{2}|A,I)...P(b_{n}|A,I)P(A|I)}{P(b_{1}|I)P(b_{2}|I)...P(b_{n}|I)}$$\n",
    "\n",
    "For all entries in each label, the denominator does not change, it remain static. Therefore, the denominator can be removed and a proportionality can be introduced.\n",
    "\n",
    "$$P(A|b_{1},b_{2},...,b_{n},I)\\propto P(A|I)\\prod_{i=1}^{n}P(b_{i}|A)$$\n",
    "\n",
    "Finally, we need to find the class A with maximum probability:\n",
    "$$A = argmax P(A|I)\\prod_{i=1}^{n}P(b_{i}|A)$$\n",
    "\n",
    "### project procedure\n",
    "According to this theory, after preparing data, we build and apply our model on training dataset.\n",
    "\n",
    "Then use two function,\"naiveBayes\"(from e1071 library) and \"fnb.multinomial\"(from  fastNaiveBayes library) to compare accuracy and computation time of them with our model. \n",
    "\n",
    "Finally we apply the model on the Test dataset.\n",
    "\n",
    "#### More detail on Algorithm\n",
    "prepared train dataset is a matrix of all possible words as column names and and thier frequencies in each news.\n",
    "\n",
    "example 1:\n",
    "\n",
    "| label | abort | absolut | abus |accept | access | accid\n",
    "| --- | --- | --- | --- | --- | --- | --- |\n",
    "| 1 | 1 | 0 | 3 | 0 | 0 | 1 |\n",
    "| 1 | 1 | 1 | 5 | 0 | 1 | 2 |\n",
    "| 2 | 2 | 0 | 0 | 0 | 0 | 1 |\n",
    "| 1 | 0 | 0 | 2 | 0 | 1 | 0 |\n",
    "\n",
    "To build the model, we grouped data by labels and sum each words' frequencies. By normalizing them to total sum in each group , we find probability of each world in that label ($P(b_{i}|A)$). we also calculate $P(A|I)$ by finding the ratio of the number of each label to their total number.\n",
    "\n",
    "example 2:\n",
    "\n",
    "| label_prob | label | abort | absolut | abus |accept | access | accid|\n",
    "|---| --- | --- | --- | --- | --- | --- | --- |\n",
    "| 0.2 | 0 | 0.01 | 0 | 0.3 | 0 | 0.5 | 0.001 |\n",
    "| 0.19 | 1 | 0 | 0.004 | 0.02 | 0.1 | 0 | 0.003 |\n",
    "| 0.18 | 2 | 0.04 | 0.09 | 0.01 | 0 | 0| 0 |\n",
    "| 0.21 | 3 | 0 | 0.1 | 0.04 | 0.65 | 0.002 | 0.04 |\n",
    "| 0.23 | 4 | 0 | 0 | 0.2 | 0.16 | 0.87 | 0.002 |\n",
    "| 0.17 | 5 | 0.01 | 0 | 0 | 0.19 | 0.4 | 0.3 |\n",
    "\n",
    "\n",
    "\n",
    "The resulting data frame can be used as model. Since in the next step it will be used to determine prior and likelihood.\n",
    "\n",
    "Test dataset will be prepared same as train set. For each news there are some words and their frequencies. we should calculate:\n",
    "\n",
    "\n",
    "$$P(A|I)\\prod_{\\text{all words of news}}(P(b_{i}|A))^{\\text{it's frequncy in test news}}$$\n",
    "\n",
    "now we just need find which label has the the maximum probabilty.\n",
    "\n",
    "\n",
    "$\\textbf{Notice:}$\n",
    "As it is mentioned, in train set , each word's frequncy is determined. if the frequency of a word in one label is zero the probability of that in model data frame will be zero ($P(b_{i}|A)=0$). so in calculation of test news when it contains that word, the final probability for that label will be zero, even if other words' probability are high. this cause that label is not the choosen by a wrong reason.\n",
    "to solve this problem , we add 1 to all frequencies in train data set and we won't have any zero probability for words in test news.\n",
    "\n",
    "example of the problem:\n",
    "\n",
    "if one news contains \"abort\" and \"abus\", according to tabel in example 2, $p(\\text{\"abort\"}|label_0) = 0$ , to classify this news no matter how $p(\\text{\"abus\"}|label_0)$ is bigger than other labels, $P(lable_0) = 0 $\n",
    "\n"
   ]
  },
  {
   "cell_type": "code",
   "execution_count": 3,
   "metadata": {},
   "outputs": [
    {
     "name": "stderr",
     "output_type": "stream",
     "text": [
      "Warning message:\n",
      "\"package 'tm' was built under R version 3.6.3\"Loading required package: NLP\n",
      "Warning message:\n",
      "\"package 'NLP' was built under R version 3.6.3\"Warning message:\n",
      "\"package 'SnowballC' was built under R version 3.6.3\"Warning message:\n",
      "\"package 'e1071' was built under R version 3.6.3\"Warning message:\n",
      "\"package 'wordcloud' was built under R version 3.6.3\"Loading required package: RColorBrewer\n",
      "Warning message:\n",
      "\"package 'dplyr' was built under R version 3.6.3\"\n",
      "Attaching package: 'dplyr'\n",
      "\n",
      "The following objects are masked from 'package:stats':\n",
      "\n",
      "    filter, lag\n",
      "\n",
      "The following objects are masked from 'package:base':\n",
      "\n",
      "    intersect, setdiff, setequal, union\n",
      "\n",
      "Warning message:\n",
      "\"package 'gridExtra' was built under R version 3.6.3\"\n",
      "Attaching package: 'gridExtra'\n",
      "\n",
      "The following object is masked from 'package:dplyr':\n",
      "\n",
      "    combine\n",
      "\n"
     ]
    }
   ],
   "source": [
    "library(gmodels)\n",
    "library(tm)\n",
    "library(SnowballC)\n",
    "library(e1071)\n",
    "library(wordcloud)\n",
    "# library(ggplot2)\n",
    "library(dplyr)\n",
    "library(lattice)\n",
    "library(gridExtra)\n",
    "# library(fastNaiveBayes)"
   ]
  },
  {
   "cell_type": "markdown",
   "metadata": {},
   "source": [
    "## Reading the Data <a class=\"anchor\" id=\"read\"></a>"
   ]
  },
  {
   "cell_type": "markdown",
   "metadata": {},
   "source": [
    "The data used in this project is a collection of news texts each with different labels which can be found Kaggle dataset: https://www.kaggle.com/datasets/anmolkumar/fake-news-content-detection?select=train.csv"
   ]
  },
  {
   "cell_type": "markdown",
   "metadata": {},
   "source": [
    "<p align=\"left\">\n",
    "<img src=\"figures/labels.png\"  width=\"400\"/> </p>\n",
    "<p align=\"left\">"
   ]
  },
  {
   "cell_type": "markdown",
   "metadata": {},
   "source": [
    "The training set looks like the following:"
   ]
  },
  {
   "cell_type": "code",
   "execution_count": 4,
   "metadata": {},
   "outputs": [
    {
     "data": {
      "text/html": [
       "<table>\n",
       "<thead><tr><th scope=col>Labels</th><th scope=col>Text</th><th scope=col>Text_Tag</th></tr></thead>\n",
       "<tbody>\n",
       "\t<tr><td>1                                                                                                                                                          </td><td>Says the Annies List political group supports third-trimester abortions on demand.                                                                         </td><td>abortion                                                                                                                                                   </td></tr>\n",
       "\t<tr><td>2                                                                                                                                                          </td><td>When did the decline of coal start? It started when natural gas took off that started to begin in (President George W.) Bushs administration.              </td><td>energy,history,job-accomplishments                                                                                                                         </td></tr>\n",
       "\t<tr><td>3                                                                                                                                                          </td><td>Hillary Clinton agrees with John McCain \"by voting to give George Bush the benefit of the doubt on Iran.\"                                                  </td><td>foreign-policy                                                                                                                                             </td></tr>\n",
       "\t<tr><td>1                                                                                                                                                          </td><td>Health care reform legislation is likely to mandate free sex change surgeries.                                                                             </td><td>health-care                                                                                                                                                </td></tr>\n",
       "\t<tr><td>2                                                                                                                                                          </td><td>The economic turnaround started at the end of my term.                                                                                                     </td><td>economy,jobs                                                                                                                                               </td></tr>\n",
       "\t<tr><td>5                                                                                                                                                          </td><td>The Chicago Bears have had more starting quarterbacks in the last 10 years than the total number of tenured (UW) faculty fired during the last two decades.</td><td>education                                                                                                                                                  </td></tr>\n",
       "</tbody>\n",
       "</table>\n"
      ],
      "text/latex": [
       "\\begin{tabular}{r|lll}\n",
       " Labels & Text & Text\\_Tag\\\\\n",
       "\\hline\n",
       "\t 1                                                                                                                                                           & Says the Annies List political group supports third-trimester abortions on demand.                                                                          & abortion                                                                                                                                                   \\\\\n",
       "\t 2                                                                                                                                                           & When did the decline of coal start? It started when natural gas took off that started to begin in (President George W.) Bushs administration.               & energy,history,job-accomplishments                                                                                                                         \\\\\n",
       "\t 3                                                                                                                                                           & Hillary Clinton agrees with John McCain \"by voting to give George Bush the benefit of the doubt on Iran.\"                                                   & foreign-policy                                                                                                                                             \\\\\n",
       "\t 1                                                                                                                                                           & Health care reform legislation is likely to mandate free sex change surgeries.                                                                              & health-care                                                                                                                                                \\\\\n",
       "\t 2                                                                                                                                                           & The economic turnaround started at the end of my term.                                                                                                      & economy,jobs                                                                                                                                               \\\\\n",
       "\t 5                                                                                                                                                           & The Chicago Bears have had more starting quarterbacks in the last 10 years than the total number of tenured (UW) faculty fired during the last two decades. & education                                                                                                                                                  \\\\\n",
       "\\end{tabular}\n"
      ],
      "text/markdown": [
       "\n",
       "| Labels | Text | Text_Tag |\n",
       "|---|---|---|\n",
       "| 1                                                                                                                                                           | Says the Annies List political group supports third-trimester abortions on demand.                                                                          | abortion                                                                                                                                                    |\n",
       "| 2                                                                                                                                                           | When did the decline of coal start? It started when natural gas took off that started to begin in (President George W.) Bushs administration.               | energy,history,job-accomplishments                                                                                                                          |\n",
       "| 3                                                                                                                                                           | Hillary Clinton agrees with John McCain \"by voting to give George Bush the benefit of the doubt on Iran.\"                                                   | foreign-policy                                                                                                                                              |\n",
       "| 1                                                                                                                                                           | Health care reform legislation is likely to mandate free sex change surgeries.                                                                              | health-care                                                                                                                                                 |\n",
       "| 2                                                                                                                                                           | The economic turnaround started at the end of my term.                                                                                                      | economy,jobs                                                                                                                                                |\n",
       "| 5                                                                                                                                                           | The Chicago Bears have had more starting quarterbacks in the last 10 years than the total number of tenured (UW) faculty fired during the last two decades. | education                                                                                                                                                   |\n",
       "\n"
      ],
      "text/plain": [
       "  Labels\n",
       "1 1     \n",
       "2 2     \n",
       "3 3     \n",
       "4 1     \n",
       "5 2     \n",
       "6 5     \n",
       "  Text                                                                                                                                                       \n",
       "1 Says the Annies List political group supports third-trimester abortions on demand.                                                                         \n",
       "2 When did the decline of coal start? It started when natural gas took off that started to begin in (President George W.) Bushs administration.              \n",
       "3 Hillary Clinton agrees with John McCain \"by voting to give George Bush the benefit of the doubt on Iran.\"                                                  \n",
       "4 Health care reform legislation is likely to mandate free sex change surgeries.                                                                             \n",
       "5 The economic turnaround started at the end of my term.                                                                                                     \n",
       "6 The Chicago Bears have had more starting quarterbacks in the last 10 years than the total number of tenured (UW) faculty fired during the last two decades.\n",
       "  Text_Tag                          \n",
       "1 abortion                          \n",
       "2 energy,history,job-accomplishments\n",
       "3 foreign-policy                    \n",
       "4 health-care                       \n",
       "5 economy,jobs                      \n",
       "6 education                         "
      ]
     },
     "metadata": {},
     "output_type": "display_data"
    },
    {
     "name": "stdout",
     "output_type": "stream",
     "text": [
      "dataset size: 10240"
     ]
    }
   ],
   "source": [
    "DF <- read.csv(\"./data/train.csv\")\n",
    "head(DF)\n",
    "cat(\"dataset size:\", nrow(DF))"
   ]
  },
  {
   "cell_type": "markdown",
   "metadata": {},
   "source": [
    "And the test set:"
   ]
  },
  {
   "cell_type": "code",
   "execution_count": 15,
   "metadata": {},
   "outputs": [
    {
     "data": {
      "text/html": [
       "<table>\n",
       "<thead><tr><th scope=col>Text</th><th scope=col>Text_Tag</th></tr></thead>\n",
       "<tbody>\n",
       "\t<tr><td>Building a wall on the U.S.-Mexico border will take literally years.                                                                                 </td><td>immigration                                                                                                                                          </td></tr>\n",
       "\t<tr><td>Wisconsin is on pace to double the number of layoffs this year.                                                                                      </td><td>jobs                                                                                                                                                 </td></tr>\n",
       "\t<tr><td>Says John McCain has done nothing to help the vets.                                                                                                  </td><td>military,veterans,voting-record                                                                                                                      </td></tr>\n",
       "\t<tr><td>Suzanne Bonamici supports a plan that will cut choice for Medicare Advantage seniors.                                                                </td><td>medicare,message-machine-2012,campaign-advertising                                                                                                   </td></tr>\n",
       "\t<tr><td>When asked by a reporter whether hes at the center of a criminal scheme to violate campaign laws, Gov. Scott Walker nodded yes.                      </td><td>campaign-finance,legal-issues,campaign-advertising                                                                                                   </td></tr>\n",
       "\t<tr><td>Over the past five years the federal government has paid out $601 million in retirement and disability benefits to deceased former federal employees.</td><td>federal-budget,pensions,retirement                                                                                                                   </td></tr>\n",
       "</tbody>\n",
       "</table>\n"
      ],
      "text/latex": [
       "\\begin{tabular}{r|ll}\n",
       " Text & Text\\_Tag\\\\\n",
       "\\hline\n",
       "\t Building a wall on the U.S.-Mexico border will take literally years.                                                                                  & immigration                                                                                                                                          \\\\\n",
       "\t Wisconsin is on pace to double the number of layoffs this year.                                                                                       & jobs                                                                                                                                                 \\\\\n",
       "\t Says John McCain has done nothing to help the vets.                                                                                                   & military,veterans,voting-record                                                                                                                      \\\\\n",
       "\t Suzanne Bonamici supports a plan that will cut choice for Medicare Advantage seniors.                                                                 & medicare,message-machine-2012,campaign-advertising                                                                                                   \\\\\n",
       "\t When asked by a reporter whether hes at the center of a criminal scheme to violate campaign laws, Gov. Scott Walker nodded yes.                       & campaign-finance,legal-issues,campaign-advertising                                                                                                   \\\\\n",
       "\t Over the past five years the federal government has paid out \\$601 million in retirement and disability benefits to deceased former federal employees. & federal-budget,pensions,retirement                                                                                                                     \\\\\n",
       "\\end{tabular}\n"
      ],
      "text/markdown": [
       "\n",
       "| Text | Text_Tag |\n",
       "|---|---|\n",
       "| Building a wall on the U.S.-Mexico border will take literally years.                                                                                  | immigration                                                                                                                                           |\n",
       "| Wisconsin is on pace to double the number of layoffs this year.                                                                                       | jobs                                                                                                                                                  |\n",
       "| Says John McCain has done nothing to help the vets.                                                                                                   | military,veterans,voting-record                                                                                                                       |\n",
       "| Suzanne Bonamici supports a plan that will cut choice for Medicare Advantage seniors.                                                                 | medicare,message-machine-2012,campaign-advertising                                                                                                    |\n",
       "| When asked by a reporter whether hes at the center of a criminal scheme to violate campaign laws, Gov. Scott Walker nodded yes.                       | campaign-finance,legal-issues,campaign-advertising                                                                                                    |\n",
       "| Over the past five years the federal government has paid out $601 million in retirement and disability benefits to deceased former federal employees. | federal-budget,pensions,retirement                                                                                                                    |\n",
       "\n"
      ],
      "text/plain": [
       "  Text                                                                                                                                                 \n",
       "1 Building a wall on the U.S.-Mexico border will take literally years.                                                                                 \n",
       "2 Wisconsin is on pace to double the number of layoffs this year.                                                                                      \n",
       "3 Says John McCain has done nothing to help the vets.                                                                                                  \n",
       "4 Suzanne Bonamici supports a plan that will cut choice for Medicare Advantage seniors.                                                                \n",
       "5 When asked by a reporter whether hes at the center of a criminal scheme to violate campaign laws, Gov. Scott Walker nodded yes.                      \n",
       "6 Over the past five years the federal government has paid out $601 million in retirement and disability benefits to deceased former federal employees.\n",
       "  Text_Tag                                          \n",
       "1 immigration                                       \n",
       "2 jobs                                              \n",
       "3 military,veterans,voting-record                   \n",
       "4 medicare,message-machine-2012,campaign-advertising\n",
       "5 campaign-finance,legal-issues,campaign-advertising\n",
       "6 federal-budget,pensions,retirement                "
      ]
     },
     "metadata": {},
     "output_type": "display_data"
    },
    {
     "name": "stdout",
     "output_type": "stream",
     "text": [
      "dataset size: 1267"
     ]
    }
   ],
   "source": [
    "DF.test <- read.csv(\"./data/test.csv\")\n",
    "head(DF.test)\n",
    "cat(\"dataset size:\", nrow(DF.test))"
   ]
  },
  {
   "cell_type": "markdown",
   "metadata": {},
   "source": [
    "As one can see the test.csv file which was supposed to be used as the test set of the project does not contain lables for the news. Therefore there is no way to evaluate the performace of model on the latter. To deal with this issue we dedicate a portion of the training set as a new test set with labels."
   ]
  },
  {
   "cell_type": "code",
   "execution_count": 21,
   "metadata": {},
   "outputs": [],
   "source": [
    "label.list <- c(0,1,2,3,4,5)   #the lables we want to be considered in the model"
   ]
  },
  {
   "cell_type": "code",
   "execution_count": 22,
   "metadata": {},
   "outputs": [
    {
     "name": "stdout",
     "output_type": "stream",
     "text": [
      "filtered dataset size: 10240"
     ]
    },
    {
     "data": {
      "image/png": "[encoded data removed]",
      "text/plain": [
       "Plot with title \"Histogram of df$Labels\""
      ]
     },
     "metadata": {},
     "output_type": "display_data"
    }
   ],
   "source": [
    "df <- DF[DF$Labels %in% label.list, ]   #filtering the dataframe for the lables in label.list\n",
    "cat(\"filtered dataset size:\", nrow(df))\n",
    "options(repr.plot.width=4, repr.plot.height =3)    #changing size of plots\n",
    "hm <- hist(df$Labels)  #saving for later use in the predictor function"
   ]
  },
  {
   "cell_type": "markdown",
   "metadata": {},
   "source": [
    "# Preprocessing and Cleaning the Data <a class=\"anchor\" id=\"clean\"></a>"
   ]
  },
  {
   "cell_type": "markdown",
   "metadata": {},
   "source": [
    "Preprocessing the data is usually an essential step in any machine learning tasks. We start by converting our dataframe to a Corpus, then apply some text mining transformations to obtain a clear collection of text documents. All document are then shrinked in a tabular form called Document Term Matrix which provides us with the frequency of each word in a sentence. This structure will later help us when building our classifer. "
   ]
  },
  {
   "cell_type": "markdown",
   "metadata": {},
   "source": [
    "## Dataframe to Corpus"
   ]
  },
  {
   "cell_type": "markdown",
   "metadata": {},
   "source": [
    "#### The main structure for managing documents in tm library is a so-called Corpus, representing a collection of text documents. "
   ]
  },
  {
   "cell_type": "code",
   "execution_count": 18,
   "metadata": {},
   "outputs": [
    {
     "data": {
      "text/plain": [
       "<<VCorpus>>\n",
       "Metadata:  corpus specific: 0, document level (indexed): 0\n",
       "Content:  documents: 10240"
      ]
     },
     "metadata": {},
     "output_type": "display_data"
    }
   ],
   "source": [
    "df_corp <- VCorpus(VectorSource(as.character(df$Text)))\n",
    "df_corp"
   ]
  },
  {
   "cell_type": "markdown",
   "metadata": {},
   "source": [
    "We can gain some information on the corpus using inspect()"
   ]
  },
  {
   "cell_type": "code",
   "execution_count": 19,
   "metadata": {},
   "outputs": [
    {
     "name": "stdout",
     "output_type": "stream",
     "text": [
      "<<VCorpus>>\n",
      "Metadata:  corpus specific: 0, document level (indexed): 0\n",
      "Content:  documents: 2\n",
      "\n",
      "[[1]]\n",
      "<<PlainTextDocument>>\n",
      "Metadata:  7\n",
      "Content:  chars: 82\n",
      "\n",
      "[[2]]\n",
      "<<PlainTextDocument>>\n",
      "Metadata:  7\n",
      "Content:  chars: 141\n",
      "\n"
     ]
    }
   ],
   "source": [
    "inspect(df_corp[1:2])"
   ]
  },
  {
   "cell_type": "markdown",
   "metadata": {},
   "source": [
    "To access and view a specific document:"
   ]
  },
  {
   "cell_type": "code",
   "execution_count": 20,
   "metadata": {},
   "outputs": [
    {
     "name": "stdout",
     "output_type": "stream",
     "text": [
      "<<PlainTextDocument>>\n",
      "Metadata:  7\n",
      "Content:  chars: 141\n",
      "\n",
      "When did the decline of coal start? It started when natural gas took off that started to begin in (President George W.) Bushs administration.\n"
     ]
    }
   ],
   "source": [
    "inspect(df_corp[[2]])   #accessing a sepecific element"
   ]
  },
  {
   "cell_type": "markdown",
   "metadata": {},
   "source": [
    "And to view multiple document texts at the same time:"
   ]
  },
  {
   "cell_type": "code",
   "execution_count": 21,
   "metadata": {},
   "outputs": [
    {
     "data": {
      "text/html": [
       "<dl>\n",
       "\t<dt>$`1`</dt>\n",
       "\t\t<dd>'Says the Annies List political group supports third-trimester abortions on demand.'</dd>\n",
       "\t<dt>$`2`</dt>\n",
       "\t\t<dd>'When did the decline of coal start? It started when natural gas took off that started to begin in (President George W.) Bushs administration.'</dd>\n",
       "\t<dt>$`3`</dt>\n",
       "\t\t<dd>'Hillary Clinton agrees with John McCain \"by voting to give George Bush the benefit of the doubt on Iran.\"'</dd>\n",
       "</dl>\n"
      ],
      "text/latex": [
       "\\begin{description}\n",
       "\\item[\\$`1`] 'Says the Annies List political group supports third-trimester abortions on demand.'\n",
       "\\item[\\$`2`] 'When did the decline of coal start? It started when natural gas took off that started to begin in (President George W.) Bushs administration.'\n",
       "\\item[\\$`3`] 'Hillary Clinton agrees with John McCain \"by voting to give George Bush the benefit of the doubt on Iran.\"'\n",
       "\\end{description}\n"
      ],
      "text/markdown": [
       "$`1`\n",
       ":   'Says the Annies List political group supports third-trimester abortions on demand.'\n",
       "$`2`\n",
       ":   'When did the decline of coal start? It started when natural gas took off that started to begin in (President George W.) Bushs administration.'\n",
       "$`3`\n",
       ":   'Hillary Clinton agrees with John McCain \"by voting to give George Bush the benefit of the doubt on Iran.\"'\n",
       "\n",
       "\n"
      ],
      "text/plain": [
       "$`1`\n",
       "[1] \"Says the Annies List political group supports third-trimester abortions on demand.\"\n",
       "\n",
       "$`2`\n",
       "[1] \"When did the decline of coal start? It started when natural gas took off that started to begin in (President George W.) Bushs administration.\"\n",
       "\n",
       "$`3`\n",
       "[1] \"Hillary Clinton agrees with John McCain \\\"by voting to give George Bush the benefit of the doubt on Iran.\\\"\"\n"
      ]
     },
     "metadata": {},
     "output_type": "display_data"
    }
   ],
   "source": [
    "lapply(df_corp[1:3], as.character)"
   ]
  },
  {
   "cell_type": "markdown",
   "metadata": {},
   "source": [
    "## Transformations"
   ]
  },
  {
   "cell_type": "markdown",
   "metadata": {},
   "source": [
    "Once having the corpus we typically like to do some transformations:"
   ]
  },
  {
   "cell_type": "code",
   "execution_count": 22,
   "metadata": {},
   "outputs": [
    {
     "data": {
      "text/html": [
       "<dl>\n",
       "\t<dt>$`1`</dt>\n",
       "\t\t<dd><span style=white-space:pre-wrap>'says  annies list political group supports third-trimester abortions  demand.'</span></dd>\n",
       "\t<dt>$`2`</dt>\n",
       "\t\t<dd><span style=white-space:pre-wrap>'   decline  coal start?  started  natural gas took   started  begin  (president george w.) bushs administration.'</span></dd>\n",
       "\t<dt>$`3`</dt>\n",
       "\t\t<dd><span style=white-space:pre-wrap>'hillary clinton agrees  john mccain \" voting  give george bush  benefit   doubt  iran.\"'</span></dd>\n",
       "</dl>\n"
      ],
      "text/latex": [
       "\\begin{description}\n",
       "\\item[\\$`1`] 'says  annies list political group supports third-trimester abortions  demand.'\n",
       "\\item[\\$`2`] '   decline  coal start?  started  natural gas took   started  begin  (president george w.) bushs administration.'\n",
       "\\item[\\$`3`] 'hillary clinton agrees  john mccain \" voting  give george bush  benefit   doubt  iran.\"'\n",
       "\\end{description}\n"
      ],
      "text/markdown": [
       "$`1`\n",
       ":   <span style=white-space:pre-wrap>'says  annies list political group supports third-trimester abortions  demand.'</span>\n",
       "$`2`\n",
       ":   <span style=white-space:pre-wrap>'   decline  coal start?  started  natural gas took   started  begin  (president george w.) bushs administration.'</span>\n",
       "$`3`\n",
       ":   <span style=white-space:pre-wrap>'hillary clinton agrees  john mccain \" voting  give george bush  benefit   doubt  iran.\"'</span>\n",
       "\n",
       "\n"
      ],
      "text/plain": [
       "$`1`\n",
       "[1] \"says  annies list political group supports third-trimester abortions  demand.\"\n",
       "\n",
       "$`2`\n",
       "[1] \"   decline  coal start?  started  natural gas took   started  begin  (president george w.) bushs administration.\"\n",
       "\n",
       "$`3`\n",
       "[1] \"hillary clinton agrees  john mccain \\\" voting  give george bush  benefit   doubt  iran.\\\"\"\n"
      ]
     },
     "metadata": {},
     "output_type": "display_data"
    }
   ],
   "source": [
    "df_corp <- tm_map(df_corp,content_transformer(tolower))  #lowercasing every letter\n",
    "df_corp <- tm_map(df_corp,removeNumbers)                 #removing the numbers\n",
    "df_corp <- tm_map(df_corp,removeWords,stopwords())       #remving words like: and, the, is, it ,..\n",
    "\n",
    "lapply(df_corp[1:3], as.character)"
   ]
  },
  {
   "cell_type": "code",
   "execution_count": 23,
   "metadata": {},
   "outputs": [
    {
     "data": {
      "text/html": [
       "<dl>\n",
       "\t<dt>$`1`</dt>\n",
       "\t\t<dd><span style=white-space:pre-wrap>'says  annies list political group supports thirdtrimester abortions  demand'</span></dd>\n",
       "\t<dt>$`2`</dt>\n",
       "\t\t<dd><span style=white-space:pre-wrap>'   decline  coal start  started  natural gas took   started  begin  president george w bushs administration'</span></dd>\n",
       "\t<dt>$`3`</dt>\n",
       "\t\t<dd><span style=white-space:pre-wrap>'hillary clinton agrees  john mccain  voting  give george bush  benefit   doubt  iran'</span></dd>\n",
       "</dl>\n"
      ],
      "text/latex": [
       "\\begin{description}\n",
       "\\item[\\$`1`] 'says  annies list political group supports thirdtrimester abortions  demand'\n",
       "\\item[\\$`2`] '   decline  coal start  started  natural gas took   started  begin  president george w bushs administration'\n",
       "\\item[\\$`3`] 'hillary clinton agrees  john mccain  voting  give george bush  benefit   doubt  iran'\n",
       "\\end{description}\n"
      ],
      "text/markdown": [
       "$`1`\n",
       ":   <span style=white-space:pre-wrap>'says  annies list political group supports thirdtrimester abortions  demand'</span>\n",
       "$`2`\n",
       ":   <span style=white-space:pre-wrap>'   decline  coal start  started  natural gas took   started  begin  president george w bushs administration'</span>\n",
       "$`3`\n",
       ":   <span style=white-space:pre-wrap>'hillary clinton agrees  john mccain  voting  give george bush  benefit   doubt  iran'</span>\n",
       "\n",
       "\n"
      ],
      "text/plain": [
       "$`1`\n",
       "[1] \"says  annies list political group supports thirdtrimester abortions  demand\"\n",
       "\n",
       "$`2`\n",
       "[1] \"   decline  coal start  started  natural gas took   started  begin  president george w bushs administration\"\n",
       "\n",
       "$`3`\n",
       "[1] \"hillary clinton agrees  john mccain  voting  give george bush  benefit   doubt  iran\"\n"
      ]
     },
     "metadata": {},
     "output_type": "display_data"
    }
   ],
   "source": [
    "df_corp <- tm_map(df_corp,removePunctuation) # removing punctuations like: !,?, ., ;\n",
    "lapply(df_corp[1:3], as.character)"
   ]
  },
  {
   "cell_type": "code",
   "execution_count": 24,
   "metadata": {},
   "outputs": [
    {
     "data": {
      "text/html": [
       "<ol class=list-inline>\n",
       "\t<li>'polit'</li>\n",
       "\t<li>'polit'</li>\n",
       "\t<li>'polit'</li>\n",
       "</ol>\n"
      ],
      "text/latex": [
       "\\begin{enumerate*}\n",
       "\\item 'polit'\n",
       "\\item 'polit'\n",
       "\\item 'polit'\n",
       "\\end{enumerate*}\n"
      ],
      "text/markdown": [
       "1. 'polit'\n",
       "2. 'polit'\n",
       "3. 'polit'\n",
       "\n",
       "\n"
      ],
      "text/plain": [
       "[1] \"polit\" \"polit\" \"polit\""
      ]
     },
     "metadata": {},
     "output_type": "display_data"
    }
   ],
   "source": [
    "wordStem(c(\"political\",\"politic\",\"politics\"))"
   ]
  },
  {
   "cell_type": "code",
   "execution_count": 25,
   "metadata": {},
   "outputs": [],
   "source": [
    "df_corp <- tm_map(df_corp,stemDocument)   #applying word stemming"
   ]
  },
  {
   "cell_type": "code",
   "execution_count": 26,
   "metadata": {},
   "outputs": [
    {
     "data": {
      "text/html": [
       "<dl>\n",
       "\t<dt>$`1`</dt>\n",
       "\t\t<dd>'say anni list polit group support thirdtrimest abort demand'</dd>\n",
       "\t<dt>$`2`</dt>\n",
       "\t\t<dd>'declin coal start start natur gas took start begin presid georg w bush administr'</dd>\n",
       "\t<dt>$`3`</dt>\n",
       "\t\t<dd>'hillari clinton agre john mccain vote give georg bush benefit doubt iran'</dd>\n",
       "</dl>\n"
      ],
      "text/latex": [
       "\\begin{description}\n",
       "\\item[\\$`1`] 'say anni list polit group support thirdtrimest abort demand'\n",
       "\\item[\\$`2`] 'declin coal start start natur gas took start begin presid georg w bush administr'\n",
       "\\item[\\$`3`] 'hillari clinton agre john mccain vote give georg bush benefit doubt iran'\n",
       "\\end{description}\n"
      ],
      "text/markdown": [
       "$`1`\n",
       ":   'say anni list polit group support thirdtrimest abort demand'\n",
       "$`2`\n",
       ":   'declin coal start start natur gas took start begin presid georg w bush administr'\n",
       "$`3`\n",
       ":   'hillari clinton agre john mccain vote give georg bush benefit doubt iran'\n",
       "\n",
       "\n"
      ],
      "text/plain": [
       "$`1`\n",
       "[1] \"say anni list polit group support thirdtrimest abort demand\"\n",
       "\n",
       "$`2`\n",
       "[1] \"declin coal start start natur gas took start begin presid georg w bush administr\"\n",
       "\n",
       "$`3`\n",
       "[1] \"hillari clinton agre john mccain vote give georg bush benefit doubt iran\"\n"
      ]
     },
     "metadata": {},
     "output_type": "display_data"
    }
   ],
   "source": [
    "df_corp <- tm_map(df_corp,stripWhitespace)\n",
    "lapply(df_corp[1:3], as.character)"
   ]
  },
  {
   "cell_type": "markdown",
   "metadata": {},
   "source": [
    "Now that the transformations are done we convert the corpus to another entity called Document Term Matrix:"
   ]
  },
  {
   "cell_type": "markdown",
   "metadata": {},
   "source": [
    "## Document Term Matrix (DTM)"
   ]
  },
  {
   "cell_type": "markdown",
   "metadata": {},
   "source": [
    " A document-term matrix is a mathematical matrix that describes the frequency of terms that occur in a collection of documents. In a document-term matrix, rows correspond to documents in the collection and columns correspond to terms."
   ]
  },
  {
   "cell_type": "markdown",
   "metadata": {},
   "source": [
    "<p align=\"left\">\n",
    "<img src=\"figures/CorpusToDtm.jpg\"  width=\"600\"/> </p>\n",
    "<p align=\"left\">\n",
    "[Ref: Data Science Authority India's First Experiential Learning Program in Data Science]"
   ]
  },
  {
   "cell_type": "code",
   "execution_count": 27,
   "metadata": {},
   "outputs": [
    {
     "data": {
      "text/plain": [
       "<<DocumentTermMatrix (documents: 10240, terms: 8226)>>\n",
       "Non-/sparse entries: 101816/84132424\n",
       "Sparsity           : 100%\n",
       "Maximal term length: 68\n",
       "Weighting          : term frequency (tf)"
      ]
     },
     "metadata": {},
     "output_type": "display_data"
    }
   ],
   "source": [
    "df_dtm  <- DocumentTermMatrix(df_corp)\n",
    "df_dtm"
   ]
  },
  {
   "cell_type": "markdown",
   "metadata": {},
   "source": [
    "#### We can also do the transformations at same time we are converting the corpus to DTM:"
   ]
  },
  {
   "cell_type": "code",
   "execution_count": 16,
   "metadata": {},
   "outputs": [],
   "source": [
    "# df_dtm  <-  DocumentTermMatrix(df_corp,\n",
    "#                            control = list(tolower = TRUE,\n",
    "#                                           removeNumbers = TRUE,\n",
    "#                                           stopwords = TRUE,\n",
    "#                                           removePunctuation = TRUE,\n",
    "#                                           stemming = TRUE))"
   ]
  },
  {
   "cell_type": "markdown",
   "metadata": {},
   "source": [
    "### Removing the Words with Low Number of Repetition"
   ]
  },
  {
   "cell_type": "markdown",
   "metadata": {},
   "source": [
    "an act which is usually done when working with text classifier models is to set a minimum frequency on repetance of the words. Words which are repeated less than a certain number in the whole dataset are removed. As we illustrate later this helps with a reduction in the complexity of the predictor therefore preventing the model the overfit on the test data."
   ]
  },
  {
   "cell_type": "code",
   "execution_count": 17,
   "metadata": {},
   "outputs": [],
   "source": [
    "minfreq     <-  10                                #words with frequency of repetition less that minfreq will be removed\n",
    "freq_words  <-  findFreqTerms(df_dtm, minfreq)   #findFreqTerms finds the list of words with higher frequecny than minfreq\n",
    "df_dtm      <-  df_dtm[,freq_words]              #keeping only the frequent words"
   ]
  },
  {
   "cell_type": "markdown",
   "metadata": {},
   "source": [
    "## Word Visualization"
   ]
  },
  {
   "cell_type": "markdown",
   "metadata": {},
   "source": [
    "Wordcould is a library which helps us to visualize words in a pleasent way based on the frequecny in the whole datset.The higher number of repetitions a word has, larger it fontsize becomes."
   ]
  },
  {
   "cell_type": "code",
   "execution_count": 18,
   "metadata": {},
   "outputs": [],
   "source": [
    "#defining a function which to prepare the needed data before feeding it to wordcloud\n",
    "w_cloud <- function(df){\n",
    "    \n",
    "    #basically applyting the former transformations, nothing new to be discussed\n",
    "    df$Text = as.character(df$Text)\n",
    "    df <- VCorpus(VectorSource(df$Text))\n",
    "    df <- tm_map(df ,content_transformer(tolower)) \n",
    "    df <- tm_map(df ,removeNumbers)              \n",
    "    df <- tm_map(df ,removeWords,stopwords())    \n",
    "    df <- tm_map(df ,removePunctuation)         \n",
    "    df <- tm_map(df ,stemDocument)\n",
    "    df <- tm_map(df ,stripWhitespace)          \n",
    "    \n",
    "    wordcloud(df,min.freq = 10,,colors=brewer.pal(8, \"Dark2\"), rot.per=0.35) #max.words is most common words\n",
    "}"
   ]
  },
  {
   "cell_type": "markdown",
   "metadata": {},
   "source": [
    "#### We plot the wordclouds splitting the fake news(label 1) from the true news(label5). Let's see if we can notice any difference between them."
   ]
  },
  {
   "cell_type": "code",
   "execution_count": 19,
   "metadata": {},
   "outputs": [
    {
     "data": {
      "image/png": "[encoded data removed]",
      "text/plain": [
       "plot without title"
      ]
     },
     "metadata": {},
     "output_type": "display_data"
    }
   ],
   "source": [
    "options(repr.plot.width=12, repr.plot.height =10)  #changing size of plots\n",
    "\n",
    "df_fake <- subset(df,Labels == 1)\n",
    "df_true <- subset(df,Labels == 5)\n",
    "\n",
    "#for the true news:\n",
    "w_cloud(df_true)  "
   ]
  },
  {
   "cell_type": "code",
   "execution_count": 20,
   "metadata": {},
   "outputs": [
    {
     "data": {
      "image/png": "[encoded data removed]",
      "text/plain": [
       "plot without title"
      ]
     },
     "metadata": {},
     "output_type": "display_data"
    }
   ],
   "source": [
    "#for the fake news:\n",
    "w_cloud(df_fake)"
   ]
  },
  {
   "cell_type": "markdown",
   "metadata": {},
   "source": [
    "## Splitting into Train and Test <a class=\"anchor\" id=\"split\"></a>"
   ]
  },
  {
   "cell_type": "markdown",
   "metadata": {},
   "source": [
    "We split the whole dataframe into Train/Test and further a validation set to perform hyper-paramter tuning. As usual the model is trained on the training set and being provided with a classifer/predictor, the performance of the model is tested on the test set. The ratios of splitting is as follows:"
   ]
  },
  {
   "cell_type": "markdown",
   "metadata": {},
   "source": [
    "<p align=\"left\">\n",
    "<img src=\"figures/split.png\"  width=\"400\"/> </p>\n",
    "<p align=\"left\">"
   ]
  },
  {
   "cell_type": "code",
   "execution_count": 40,
   "metadata": {},
   "outputs": [
    {
     "name": "stdout",
     "output_type": "stream",
     "text": [
      "Train  Set Size: 7138\n",
      "Test   Set Size: 1536\n",
      "Valid. Set Size: 1566"
     ]
    }
   ],
   "source": [
    "test_ratio <- 0.15\n",
    "SEED       <- 5\n",
    "\n",
    "X   <- data.frame(as.matrix(df_dtm), stringsAsFactors=FALSE)\n",
    "Y   <- df$Labels\n",
    "\n",
    "set.seed(SEED)\n",
    "test_size  <- as.integer(nrow(X)* test_ratio)\n",
    "train_size <- nrow(X) - test_size\n",
    "\n",
    "test_index <- sample(seq(1:nrow(X)), test_size)\n",
    "\n",
    "X_test    <- X[test_index, ]         #reading the features from the document term matrix\n",
    "Y_test    <- Y[test_index  ]         #reading the labels from the initial dataframe\n",
    "\n",
    "X_train   <- X[! seq(1:nrow(X)) %in% test_index, ]\n",
    "Y_train   <- Y[! seq(1:nrow(X)) %in% test_index  ]\n",
    "\n",
    "X_val     <- X_train[1: (as.integer(nrow(X_train) * 0.18)),]\n",
    "Y_val     <- Y_train[1: (as.integer(nrow(X_train) * 0.18)) ]\n",
    "\n",
    "X_train   <- X_train[((as.integer(nrow(X_train)   * 0.18))+1) : nrow(X_train) ,  ] \n",
    "Y_train   <- Y_train[((as.integer(length(Y_train) * 0.18))+1) : length(Y_train)  ]\n",
    "\n",
    "cat(\"Train  Set Size:\", nrow(X_train))\n",
    "cat(\"\\nTest   Set Size:\", length(Y_test))\n",
    "cat(\"\\nValid. Set Size:\", length(Y_val))\n",
    "# cat(\"\\nThe sum of Samples:\", sum(nrow(X_train), length(Y_test), length(Y_val)))   #sanity check"
   ]
  },
  {
   "cell_type": "markdown",
   "metadata": {},
   "source": [
    "# Building the Classifer <a class=\"anchor\" id=\"building\"></a>"
   ]
  },
  {
   "cell_type": "markdown",
   "metadata": {},
   "source": [
    "Now having all cards on the table we start to build a NaiveBayes Multinomial Classifer exactly as what is described in the introduction part. We start on training set and build up step by step to obtain the probability of each word occuring in a specific labels. We store all these probabilities in a final dataframe. This dataframe is basically our classifer. This classifer is then used to predict the labels of test set samples. \n",
    "\n",
    "Notice: for the goal of presentation we first perform everything step by step to see the result of each part. But all these procedures are wrapped up in functions that makes us able to train and predict on arbitray samples in just a few lines "
   ]
  },
  {
   "cell_type": "markdown",
   "metadata": {},
   "source": [
    "#### We start on the training set dataframe, let's have a look on it:"
   ]
  },
  {
   "cell_type": "code",
   "execution_count": 22,
   "metadata": {},
   "outputs": [
    {
     "data": {
      "text/html": [
       "<table>\n",
       "<thead><tr><th></th><th scope=col>abbott</th><th scope=col>abil</th><th scope=col>abl</th><th scope=col>abolish</th><th scope=col>abort</th><th scope=col>absolut</th><th scope=col>abus</th><th scope=col>accept</th><th scope=col>access</th><th scope=col>accid</th><th scope=col>...</th><th scope=col>year</th><th scope=col>yearold</th><th scope=col>yet</th><th scope=col>york</th><th scope=col>young</th><th scope=col>your</th><th scope=col>youth</th><th scope=col>youv</th><th scope=col>zero</th><th scope=col>zone</th></tr></thead>\n",
       "<tbody>\n",
       "\t<tr><th scope=row>1849</th><td>0  </td><td>0  </td><td>0  </td><td>0  </td><td>0  </td><td>0  </td><td>0  </td><td>0  </td><td>0  </td><td>0  </td><td>...</td><td>0  </td><td>0  </td><td>0  </td><td>0  </td><td>0  </td><td>0  </td><td>0  </td><td>0  </td><td>0  </td><td>0  </td></tr>\n",
       "\t<tr><th scope=row>1850</th><td>0  </td><td>0  </td><td>0  </td><td>0  </td><td>0  </td><td>0  </td><td>0  </td><td>0  </td><td>0  </td><td>0  </td><td>...</td><td>1  </td><td>0  </td><td>0  </td><td>0  </td><td>0  </td><td>0  </td><td>0  </td><td>0  </td><td>0  </td><td>0  </td></tr>\n",
       "\t<tr><th scope=row>1851</th><td>0  </td><td>0  </td><td>0  </td><td>0  </td><td>0  </td><td>0  </td><td>0  </td><td>0  </td><td>0  </td><td>0  </td><td>...</td><td>2  </td><td>0  </td><td>0  </td><td>0  </td><td>0  </td><td>0  </td><td>0  </td><td>0  </td><td>0  </td><td>0  </td></tr>\n",
       "</tbody>\n",
       "</table>\n"
      ],
      "text/latex": [
       "\\begin{tabular}{r|lllllllllllllllllllllllllllllllllllllllllllllllllllllllllllllllllllllllllllllllllllllllllllllllllllllllllllllllllllllllllllllllllllllllllllllllllllllllllllllllllllllllllllllllllllllllllllllllllllllllllllllllllllllllllllllllllllllllllllllllllllllllllllllllllllllllllllllllllllllllllllllllllllllllllllllllllllllllllllllllllllllllllllllllllllllllllllllllllllllllllllllllllllllllllllllllllllllllllllllllllllllllllllllllllllllllllllllllllllllllllllllllllllllllllllllllllllllllllllllllllllllllllllllllllllllllllllllllllllllllllllllllllllllllllllllllllllllllllllllllllllllllllllllllllllllllllllllllllllllllllllllllllllllllllllllllllllllllllllllllllllllllllllllllllllllllllllllllllllllllllllllllllllllllllllllllllllllllllllllllllllllllllllllllllllllllllllllllllllllllllllllllllllllllllllllllllllllllllllllllllllllllllllllllllllllllllllllllllllllllllllllllllllllllllllllllllllllllllllllllllllllllllllllllllllllllllllllllllllllllllllllllllllllllllllllllllllllllllllllllllllllllllllllllllllllllllllllllllllllllllllllllllllllllllllllllllllllllllllllllllllllllllllllllllllllllllllllllllllllllllllllllllllllllllllllllllllllllllllllllllllllllllllllllllllllllllllllllllllllllllllllllllllllllllllllllllllllllllllllllllllllllllllllllllllllllllllllllllllllllllllllllllllllllllllllllllllllllllllllllllllllllllllllllllllllllllllllllllllllllllllllllllllllllllllllllllllllllllllllllllllllllllllllllllllllllllllllllllllllllllllllllllllllllllllllllllllllllllllllllllllllllllllllllllllllllllllllllllllllllllllllllllllllllllllllllllllllllllllllllllllllllllllllllllllllllllllllllllllllllllllllllllllllllllllllllllllllllllllllllllllllllllllllllllllllllllllllllllllllllllllllllll}\n",
       "  & abbott & abil & abl & abolish & abort & absolut & abus & accept & access & accid & ... & year & yearold & yet & york & young & your & youth & youv & zero & zone\\\\\n",
       "\\hline\n",
       "\t1849 & 0   & 0   & 0   & 0   & 0   & 0   & 0   & 0   & 0   & 0   & ... & 0   & 0   & 0   & 0   & 0   & 0   & 0   & 0   & 0   & 0  \\\\\n",
       "\t1850 & 0   & 0   & 0   & 0   & 0   & 0   & 0   & 0   & 0   & 0   & ... & 1   & 0   & 0   & 0   & 0   & 0   & 0   & 0   & 0   & 0  \\\\\n",
       "\t1851 & 0   & 0   & 0   & 0   & 0   & 0   & 0   & 0   & 0   & 0   & ... & 2   & 0   & 0   & 0   & 0   & 0   & 0   & 0   & 0   & 0  \\\\\n",
       "\\end{tabular}\n"
      ],
      "text/markdown": [
       "\n",
       "| <!--/--> | abbott | abil | abl | abolish | abort | absolut | abus | accept | access | accid | ... | year | yearold | yet | york | young | your | youth | youv | zero | zone |\n",
       "|---|---|---|---|---|---|---|---|---|---|---|---|---|---|---|---|---|---|---|---|---|---|\n",
       "| 1849 | 0   | 0   | 0   | 0   | 0   | 0   | 0   | 0   | 0   | 0   | ... | 0   | 0   | 0   | 0   | 0   | 0   | 0   | 0   | 0   | 0   |\n",
       "| 1850 | 0   | 0   | 0   | 0   | 0   | 0   | 0   | 0   | 0   | 0   | ... | 1   | 0   | 0   | 0   | 0   | 0   | 0   | 0   | 0   | 0   |\n",
       "| 1851 | 0   | 0   | 0   | 0   | 0   | 0   | 0   | 0   | 0   | 0   | ... | 2   | 0   | 0   | 0   | 0   | 0   | 0   | 0   | 0   | 0   |\n",
       "\n"
      ],
      "text/plain": [
       "     abbott abil abl abolish abort absolut abus accept access accid ... year\n",
       "1849 0      0    0   0       0     0       0    0      0      0     ... 0   \n",
       "1850 0      0    0   0       0     0       0    0      0      0     ... 1   \n",
       "1851 0      0    0   0       0     0       0    0      0      0     ... 2   \n",
       "     yearold yet york young your youth youv zero zone\n",
       "1849 0       0   0    0     0    0     0    0    0   \n",
       "1850 0       0   0    0     0    0     0    0    0   \n",
       "1851 0       0   0    0     0    0     0    0    0   "
      ]
     },
     "metadata": {},
     "output_type": "display_data"
    }
   ],
   "source": [
    "head(X_train, 3)"
   ]
  },
  {
   "cell_type": "markdown",
   "metadata": {},
   "source": [
    "Each row corresponds to one sample (a news) and the columns are a collection of all the words in the dataframe. Each element of the above table corresponds to the number of repetition a word has in a specific sample. Like if we consider the sample: \"hillary clinton agrees john mccain\" then at the specifit row of this sample, the correponding columns of \"hillary\",\"clinton\",\"agrees\", \"john\", \"mccain\" become 1 and all other words get zero "
   ]
  },
  {
   "cell_type": "markdown",
   "metadata": {},
   "source": [
    "#### Now we bind the corresponding label of each sample to the previous dataframe:"
   ]
  },
  {
   "cell_type": "code",
   "execution_count": 23,
   "metadata": {},
   "outputs": [
    {
     "data": {
      "text/html": [
       "<table>\n",
       "<thead><tr><th></th><th scope=col>abbott</th><th scope=col>abil</th><th scope=col>abl</th><th scope=col>abolish</th><th scope=col>abort</th><th scope=col>absolut</th><th scope=col>abus</th><th scope=col>accept</th><th scope=col>access</th><th scope=col>accid</th><th scope=col>...</th><th scope=col>yearold</th><th scope=col>yet</th><th scope=col>york</th><th scope=col>young</th><th scope=col>your</th><th scope=col>youth</th><th scope=col>youv</th><th scope=col>zero</th><th scope=col>zone</th><th scope=col>Y_train</th></tr></thead>\n",
       "<tbody>\n",
       "\t<tr><th scope=row>1849</th><td>0  </td><td>0  </td><td>0  </td><td>0  </td><td>0  </td><td>0  </td><td>0  </td><td>0  </td><td>0  </td><td>0  </td><td>...</td><td>0  </td><td>0  </td><td>0  </td><td>0  </td><td>0  </td><td>0  </td><td>0  </td><td>0  </td><td>0  </td><td>0  </td></tr>\n",
       "\t<tr><th scope=row>1850</th><td>0  </td><td>0  </td><td>0  </td><td>0  </td><td>0  </td><td>0  </td><td>0  </td><td>0  </td><td>0  </td><td>0  </td><td>...</td><td>0  </td><td>0  </td><td>0  </td><td>0  </td><td>0  </td><td>0  </td><td>0  </td><td>0  </td><td>0  </td><td>2  </td></tr>\n",
       "\t<tr><th scope=row>1851</th><td>0  </td><td>0  </td><td>0  </td><td>0  </td><td>0  </td><td>0  </td><td>0  </td><td>0  </td><td>0  </td><td>0  </td><td>...</td><td>0  </td><td>0  </td><td>0  </td><td>0  </td><td>0  </td><td>0  </td><td>0  </td><td>0  </td><td>0  </td><td>2  </td></tr>\n",
       "</tbody>\n",
       "</table>\n"
      ],
      "text/latex": [
       "\\begin{tabular}{r|llllllllllllllllllllllllllllllllllllllllllllllllllllllllllllllllllllllllllllllllllllllllllllllllllllllllllllllllllllllllllllllllllllllllllllllllllllllllllllllllllllllllllllllllllllllllllllllllllllllllllllllllllllllllllllllllllllllllllllllllllllllllllllllllllllllllllllllllllllllllllllllllllllllllllllllllllllllllllllllllllllllllllllllllllllllllllllllllllllllllllllllllllllllllllllllllllllllllllllllllllllllllllllllllllllllllllllllllllllllllllllllllllllllllllllllllllllllllllllllllllllllllllllllllllllllllllllllllllllllllllllllllllllllllllllllllllllllllllllllllllllllllllllllllllllllllllllllllllllllllllllllllllllllllllllllllllllllllllllllllllllllllllllllllllllllllllllllllllllllllllllllllllllllllllllllllllllllllllllllllllllllllllllllllllllllllllllllllllllllllllllllllllllllllllllllllllllllllllllllllllllllllllllllllllllllllllllllllllllllllllllllllllllllllllllllllllllllllllllllllllllllllllllllllllllllllllllllllllllllllllllllllllllllllllllllllllllllllllllllllllllllllllllllllllllllllllllllllllllllllllllllllllllllllllllllllllllllllllllllllllllllllllllllllllllllllllllllllllllllllllllllllllllllllllllllllllllllllllllllllllllllllllllllllllllllllllllllllllllllllllllllllllllllllllllllllllllllllllllllllllllllllllllllllllllllllllllllllllllllllllllllllllllllllllllllllllllllllllllllllllllllllllllllllllllllllllllllllllllllllllllllllllllllllllllllllllllllllllllllllllllllllllllllllllllllllllllllllllllllllllllllllllllllllllllllllllllllllllllllllllllllllllllllllllllllllllllllllllllllllllllllllllllllllllllllllllllllllllllllllllllllllllllllllllllllllllllllllllllllllllllllllllllllllllllllllllllllllllllllllllllllllllllllllllllllllllllllllllllllllllllllllll}\n",
       "  & abbott & abil & abl & abolish & abort & absolut & abus & accept & access & accid & ... & yearold & yet & york & young & your & youth & youv & zero & zone & Y\\_train\\\\\n",
       "\\hline\n",
       "\t1849 & 0   & 0   & 0   & 0   & 0   & 0   & 0   & 0   & 0   & 0   & ... & 0   & 0   & 0   & 0   & 0   & 0   & 0   & 0   & 0   & 0  \\\\\n",
       "\t1850 & 0   & 0   & 0   & 0   & 0   & 0   & 0   & 0   & 0   & 0   & ... & 0   & 0   & 0   & 0   & 0   & 0   & 0   & 0   & 0   & 2  \\\\\n",
       "\t1851 & 0   & 0   & 0   & 0   & 0   & 0   & 0   & 0   & 0   & 0   & ... & 0   & 0   & 0   & 0   & 0   & 0   & 0   & 0   & 0   & 2  \\\\\n",
       "\\end{tabular}\n"
      ],
      "text/markdown": [
       "\n",
       "| <!--/--> | abbott | abil | abl | abolish | abort | absolut | abus | accept | access | accid | ... | yearold | yet | york | young | your | youth | youv | zero | zone | Y_train |\n",
       "|---|---|---|---|---|---|---|---|---|---|---|---|---|---|---|---|---|---|---|---|---|---|\n",
       "| 1849 | 0   | 0   | 0   | 0   | 0   | 0   | 0   | 0   | 0   | 0   | ... | 0   | 0   | 0   | 0   | 0   | 0   | 0   | 0   | 0   | 0   |\n",
       "| 1850 | 0   | 0   | 0   | 0   | 0   | 0   | 0   | 0   | 0   | 0   | ... | 0   | 0   | 0   | 0   | 0   | 0   | 0   | 0   | 0   | 2   |\n",
       "| 1851 | 0   | 0   | 0   | 0   | 0   | 0   | 0   | 0   | 0   | 0   | ... | 0   | 0   | 0   | 0   | 0   | 0   | 0   | 0   | 0   | 2   |\n",
       "\n"
      ],
      "text/plain": [
       "     abbott abil abl abolish abort absolut abus accept access accid ... yearold\n",
       "1849 0      0    0   0       0     0       0    0      0      0     ... 0      \n",
       "1850 0      0    0   0       0     0       0    0      0      0     ... 0      \n",
       "1851 0      0    0   0       0     0       0    0      0      0     ... 0      \n",
       "     yet york young your youth youv zero zone Y_train\n",
       "1849 0   0    0     0    0     0    0    0    0      \n",
       "1850 0   0    0     0    0     0    0    0    2      \n",
       "1851 0   0    0     0    0     0    0    0    2      "
      ]
     },
     "metadata": {},
     "output_type": "display_data"
    }
   ],
   "source": [
    "head(cbind(X_train, Y_train), 3)"
   ]
  },
  {
   "cell_type": "markdown",
   "metadata": {},
   "source": [
    "#### We group by labels and summing over all the words in each label:"
   ]
  },
  {
   "cell_type": "code",
   "execution_count": 24,
   "metadata": {},
   "outputs": [
    {
     "data": {
      "text/html": [
       "<table>\n",
       "<thead><tr><th scope=col>Y_train</th><th scope=col>abbott</th><th scope=col>abil</th><th scope=col>abl</th><th scope=col>abolish</th><th scope=col>abort</th><th scope=col>absolut</th><th scope=col>abus</th><th scope=col>accept</th><th scope=col>access</th><th scope=col>...</th><th scope=col>year</th><th scope=col>yearold</th><th scope=col>yet</th><th scope=col>york</th><th scope=col>young</th><th scope=col>your</th><th scope=col>youth</th><th scope=col>youv</th><th scope=col>zero</th><th scope=col>zone</th></tr></thead>\n",
       "<tbody>\n",
       "\t<tr><td>0  </td><td>3  </td><td>2  </td><td> 7 </td><td>2  </td><td>19 </td><td>1  </td><td>3  </td><td>4  </td><td>6  </td><td>...</td><td>133</td><td>3  </td><td>7  </td><td> 9 </td><td> 2 </td><td> 8 </td><td>2  </td><td>0  </td><td>4  </td><td>1  </td></tr>\n",
       "\t<tr><td>1  </td><td>2  </td><td>4  </td><td> 6 </td><td>4  </td><td>22 </td><td>2  </td><td>3  </td><td>5  </td><td>2  </td><td>...</td><td>134</td><td>2  </td><td>2  </td><td> 8 </td><td> 5 </td><td>12 </td><td>1  </td><td>1  </td><td>3  </td><td>0  </td></tr>\n",
       "\t<tr><td>2  </td><td>5  </td><td>2  </td><td> 3 </td><td>0  </td><td>21 </td><td>1  </td><td>1  </td><td>4  </td><td>9  </td><td>...</td><td>191</td><td>0  </td><td>7  </td><td> 6 </td><td>12 </td><td> 8 </td><td>3  </td><td>2  </td><td>6  </td><td>5  </td></tr>\n",
       "\t<tr><td>3  </td><td>3  </td><td>5  </td><td>10 </td><td>0  </td><td> 8 </td><td>3  </td><td>1  </td><td>6  </td><td>5  </td><td>...</td><td>189</td><td>2  </td><td>5  </td><td>10 </td><td> 6 </td><td> 9 </td><td>3  </td><td>5  </td><td>4  </td><td>0  </td></tr>\n",
       "\t<tr><td>4  </td><td>0  </td><td>0  </td><td> 1 </td><td>1  </td><td> 6 </td><td>3  </td><td>0  </td><td>3  </td><td>2  </td><td>...</td><td> 36</td><td>1  </td><td>2  </td><td> 3 </td><td> 0 </td><td> 0 </td><td>0  </td><td>0  </td><td>4  </td><td>2  </td></tr>\n",
       "\t<tr><td>5  </td><td>0  </td><td>0  </td><td> 3 </td><td>0  </td><td>18 </td><td>2  </td><td>8  </td><td>4  </td><td>5  </td><td>...</td><td>166</td><td>1  </td><td>3  </td><td>11 </td><td> 6 </td><td> 4 </td><td>1  </td><td>4  </td><td>6  </td><td>0  </td></tr>\n",
       "</tbody>\n",
       "</table>\n"
      ],
      "text/latex": [
       "\\begin{tabular}{r|llllllllllllllllllllllllllllllllllllllllllllllllllllllllllllllllllllllllllllllllllllllllllllllllllllllllllllllllllllllllllllllllllllllllllllllllllllllllllllllllllllllllllllllllllllllllllllllllllllllllllllllllllllllllllllllllllllllllllllllllllllllllllllllllllllllllllllllllllllllllllllllllllllllllllllllllllllllllllllllllllllllllllllllllllllllllllllllllllllllllllllllllllllllllllllllllllllllllllllllllllllllllllllllllllllllllllllllllllllllllllllllllllllllllllllllllllllllllllllllllllllllllllllllllllllllllllllllllllllllllllllllllllllllllllllllllllllllllllllllllllllllllllllllllllllllllllllllllllllllllllllllllllllllllllllllllllllllllllllllllllllllllllllllllllllllllllllllllllllllllllllllllllllllllllllllllllllllllllllllllllllllllllllllllllllllllllllllllllllllllllllllllllllllllllllllllllllllllllllllllllllllllllllllllllllllllllllllllllllllllllllllllllllllllllllllllllllllllllllllllllllllllllllllllllllllllllllllllllllllllllllllllllllllllllllllllllllllllllllllllllllllllllllllllllllllllllllllllllllllllllllllllllllllllllllllllllllllllllllllllllllllllllllllllllllllllllllllllllllllllllllllllllllllllllllllllllllllllllllllllllllllllllllllllllllllllllllllllllllllllllllllllllllllllllllllllllllllllllllllllllllllllllllllllllllllllllllllllllllllllllllllllllllllllllllllllllllllllllllllllllllllllllllllllllllllllllllllllllllllllllllllllllllllllllllllllllllllllllllllllllllllllllllllllllllllllllllllllllllllllllllllllllllllllllllllllllllllllllllllllllllllllllllllllllllllllllllllllllllllllllllllllllllllllllllllllllllllllllllllllllllllllllllllllllllllllllllllllllllllllllllllllllllllllllllllllllllllllllllllllllllllllllllllllllllllllllllllllllllllllllllllllll}\n",
       " Y\\_train & abbott & abil & abl & abolish & abort & absolut & abus & accept & access & ... & year & yearold & yet & york & young & your & youth & youv & zero & zone\\\\\n",
       "\\hline\n",
       "\t 0   & 3   & 2   &  7  & 2   & 19  & 1   & 3   & 4   & 6   & ... & 133 & 3   & 7   &  9  &  2  &  8  & 2   & 0   & 4   & 1  \\\\\n",
       "\t 1   & 2   & 4   &  6  & 4   & 22  & 2   & 3   & 5   & 2   & ... & 134 & 2   & 2   &  8  &  5  & 12  & 1   & 1   & 3   & 0  \\\\\n",
       "\t 2   & 5   & 2   &  3  & 0   & 21  & 1   & 1   & 4   & 9   & ... & 191 & 0   & 7   &  6  & 12  &  8  & 3   & 2   & 6   & 5  \\\\\n",
       "\t 3   & 3   & 5   & 10  & 0   &  8  & 3   & 1   & 6   & 5   & ... & 189 & 2   & 5   & 10  &  6  &  9  & 3   & 5   & 4   & 0  \\\\\n",
       "\t 4   & 0   & 0   &  1  & 1   &  6  & 3   & 0   & 3   & 2   & ... &  36 & 1   & 2   &  3  &  0  &  0  & 0   & 0   & 4   & 2  \\\\\n",
       "\t 5   & 0   & 0   &  3  & 0   & 18  & 2   & 8   & 4   & 5   & ... & 166 & 1   & 3   & 11  &  6  &  4  & 1   & 4   & 6   & 0  \\\\\n",
       "\\end{tabular}\n"
      ],
      "text/markdown": [
       "\n",
       "| Y_train | abbott | abil | abl | abolish | abort | absolut | abus | accept | access | ... | year | yearold | yet | york | young | your | youth | youv | zero | zone |\n",
       "|---|---|---|---|---|---|---|---|---|---|---|---|---|---|---|---|---|---|---|---|---|\n",
       "| 0   | 3   | 2   |  7  | 2   | 19  | 1   | 3   | 4   | 6   | ... | 133 | 3   | 7   |  9  |  2  |  8  | 2   | 0   | 4   | 1   |\n",
       "| 1   | 2   | 4   |  6  | 4   | 22  | 2   | 3   | 5   | 2   | ... | 134 | 2   | 2   |  8  |  5  | 12  | 1   | 1   | 3   | 0   |\n",
       "| 2   | 5   | 2   |  3  | 0   | 21  | 1   | 1   | 4   | 9   | ... | 191 | 0   | 7   |  6  | 12  |  8  | 3   | 2   | 6   | 5   |\n",
       "| 3   | 3   | 5   | 10  | 0   |  8  | 3   | 1   | 6   | 5   | ... | 189 | 2   | 5   | 10  |  6  |  9  | 3   | 5   | 4   | 0   |\n",
       "| 4   | 0   | 0   |  1  | 1   |  6  | 3   | 0   | 3   | 2   | ... |  36 | 1   | 2   |  3  |  0  |  0  | 0   | 0   | 4   | 2   |\n",
       "| 5   | 0   | 0   |  3  | 0   | 18  | 2   | 8   | 4   | 5   | ... | 166 | 1   | 3   | 11  |  6  |  4  | 1   | 4   | 6   | 0   |\n",
       "\n"
      ],
      "text/plain": [
       "  Y_train abbott abil abl abolish abort absolut abus accept access ... year\n",
       "1 0       3      2     7  2       19    1       3    4      6      ... 133 \n",
       "2 1       2      4     6  4       22    2       3    5      2      ... 134 \n",
       "3 2       5      2     3  0       21    1       1    4      9      ... 191 \n",
       "4 3       3      5    10  0        8    3       1    6      5      ... 189 \n",
       "5 4       0      0     1  1        6    3       0    3      2      ...  36 \n",
       "6 5       0      0     3  0       18    2       8    4      5      ... 166 \n",
       "  yearold yet york young your youth youv zero zone\n",
       "1 3       7    9    2     8   2     0    4    1   \n",
       "2 2       2    8    5    12   1     1    3    0   \n",
       "3 0       7    6   12     8   3     2    6    5   \n",
       "4 2       5   10    6     9   3     5    4    0   \n",
       "5 1       2    3    0     0   0     0    4    2   \n",
       "6 1       3   11    6     4   1     4    6    0   "
      ]
     },
     "metadata": {},
     "output_type": "display_data"
    }
   ],
   "source": [
    "df_count <- aggregate(.~Y_train, cbind(X_train, Y_train), sum) #grouping by labels and counting the frequency\n",
    "df_count"
   ]
  },
  {
   "cell_type": "markdown",
   "metadata": {},
   "source": [
    "#### This way know that cosidering a specific label, how many times a specific word is repeated"
   ]
  },
  {
   "cell_type": "markdown",
   "metadata": {},
   "source": [
    "#### Then we go add one to all the elements. The reason for this was discussed in the Introduction part"
   ]
  },
  {
   "cell_type": "code",
   "execution_count": 25,
   "metadata": {},
   "outputs": [
    {
     "data": {
      "text/html": [
       "<table>\n",
       "<thead><tr><th scope=col>Y_train</th><th scope=col>abbott</th><th scope=col>abil</th><th scope=col>abl</th><th scope=col>abolish</th><th scope=col>abort</th><th scope=col>absolut</th><th scope=col>abus</th><th scope=col>accept</th><th scope=col>access</th><th scope=col>...</th><th scope=col>year</th><th scope=col>yearold</th><th scope=col>yet</th><th scope=col>york</th><th scope=col>young</th><th scope=col>your</th><th scope=col>youth</th><th scope=col>youv</th><th scope=col>zero</th><th scope=col>zone</th></tr></thead>\n",
       "<tbody>\n",
       "\t<tr><td>1  </td><td>4  </td><td>3  </td><td> 8 </td><td>3  </td><td>20 </td><td>2  </td><td>4  </td><td>5  </td><td> 7 </td><td>...</td><td>134</td><td>4  </td><td>8  </td><td>10 </td><td> 3 </td><td> 9 </td><td>3  </td><td>1  </td><td>5  </td><td>2  </td></tr>\n",
       "\t<tr><td>2  </td><td>3  </td><td>5  </td><td> 7 </td><td>5  </td><td>23 </td><td>3  </td><td>4  </td><td>6  </td><td> 3 </td><td>...</td><td>135</td><td>3  </td><td>3  </td><td> 9 </td><td> 6 </td><td>13 </td><td>2  </td><td>2  </td><td>4  </td><td>1  </td></tr>\n",
       "\t<tr><td>3  </td><td>6  </td><td>3  </td><td> 4 </td><td>1  </td><td>22 </td><td>2  </td><td>2  </td><td>5  </td><td>10 </td><td>...</td><td>192</td><td>1  </td><td>8  </td><td> 7 </td><td>13 </td><td> 9 </td><td>4  </td><td>3  </td><td>7  </td><td>6  </td></tr>\n",
       "\t<tr><td>4  </td><td>4  </td><td>6  </td><td>11 </td><td>1  </td><td> 9 </td><td>4  </td><td>2  </td><td>7  </td><td> 6 </td><td>...</td><td>190</td><td>3  </td><td>6  </td><td>11 </td><td> 7 </td><td>10 </td><td>4  </td><td>6  </td><td>5  </td><td>1  </td></tr>\n",
       "\t<tr><td>5  </td><td>1  </td><td>1  </td><td> 2 </td><td>2  </td><td> 7 </td><td>4  </td><td>1  </td><td>4  </td><td> 3 </td><td>...</td><td> 37</td><td>2  </td><td>3  </td><td> 4 </td><td> 1 </td><td> 1 </td><td>1  </td><td>1  </td><td>5  </td><td>3  </td></tr>\n",
       "\t<tr><td>6  </td><td>1  </td><td>1  </td><td> 4 </td><td>1  </td><td>19 </td><td>3  </td><td>9  </td><td>5  </td><td> 6 </td><td>...</td><td>167</td><td>2  </td><td>4  </td><td>12 </td><td> 7 </td><td> 5 </td><td>2  </td><td>5  </td><td>7  </td><td>1  </td></tr>\n",
       "</tbody>\n",
       "</table>\n"
      ],
      "text/latex": [
       "\\begin{tabular}{r|llllllllllllllllllllllllllllllllllllllllllllllllllllllllllllllllllllllllllllllllllllllllllllllllllllllllllllllllllllllllllllllllllllllllllllllllllllllllllllllllllllllllllllllllllllllllllllllllllllllllllllllllllllllllllllllllllllllllllllllllllllllllllllllllllllllllllllllllllllllllllllllllllllllllllllllllllllllllllllllllllllllllllllllllllllllllllllllllllllllllllllllllllllllllllllllllllllllllllllllllllllllllllllllllllllllllllllllllllllllllllllllllllllllllllllllllllllllllllllllllllllllllllllllllllllllllllllllllllllllllllllllllllllllllllllllllllllllllllllllllllllllllllllllllllllllllllllllllllllllllllllllllllllllllllllllllllllllllllllllllllllllllllllllllllllllllllllllllllllllllllllllllllllllllllllllllllllllllllllllllllllllllllllllllllllllllllllllllllllllllllllllllllllllllllllllllllllllllllllllllllllllllllllllllllllllllllllllllllllllllllllllllllllllllllllllllllllllllllllllllllllllllllllllllllllllllllllllllllllllllllllllllllllllllllllllllllllllllllllllllllllllllllllllllllllllllllllllllllllllllllllllllllllllllllllllllllllllllllllllllllllllllllllllllllllllllllllllllllllllllllllllllllllllllllllllllllllllllllllllllllllllllllllllllllllllllllllllllllllllllllllllllllllllllllllllllllllllllllllllllllllllllllllllllllllllllllllllllllllllllllllllllllllllllllllllllllllllllllllllllllllllllllllllllllllllllllllllllllllllllllllllllllllllllllllllllllllllllllllllllllllllllllllllllllllllllllllllllllllllllllllllllllllllllllllllllllllllllllllllllllllllllllllllllllllllllllllllllllllllllllllllllllllllllllllllllllllllllllllllllllllllllllllllllllllllllllllllllllllllllllllllllllllllllllllllllllllllllllllllllllllllllllllllllllllllllllllllllllllllllllllllllll}\n",
       " Y\\_train & abbott & abil & abl & abolish & abort & absolut & abus & accept & access & ... & year & yearold & yet & york & young & your & youth & youv & zero & zone\\\\\n",
       "\\hline\n",
       "\t 1   & 4   & 3   &  8  & 3   & 20  & 2   & 4   & 5   &  7  & ... & 134 & 4   & 8   & 10  &  3  &  9  & 3   & 1   & 5   & 2  \\\\\n",
       "\t 2   & 3   & 5   &  7  & 5   & 23  & 3   & 4   & 6   &  3  & ... & 135 & 3   & 3   &  9  &  6  & 13  & 2   & 2   & 4   & 1  \\\\\n",
       "\t 3   & 6   & 3   &  4  & 1   & 22  & 2   & 2   & 5   & 10  & ... & 192 & 1   & 8   &  7  & 13  &  9  & 4   & 3   & 7   & 6  \\\\\n",
       "\t 4   & 4   & 6   & 11  & 1   &  9  & 4   & 2   & 7   &  6  & ... & 190 & 3   & 6   & 11  &  7  & 10  & 4   & 6   & 5   & 1  \\\\\n",
       "\t 5   & 1   & 1   &  2  & 2   &  7  & 4   & 1   & 4   &  3  & ... &  37 & 2   & 3   &  4  &  1  &  1  & 1   & 1   & 5   & 3  \\\\\n",
       "\t 6   & 1   & 1   &  4  & 1   & 19  & 3   & 9   & 5   &  6  & ... & 167 & 2   & 4   & 12  &  7  &  5  & 2   & 5   & 7   & 1  \\\\\n",
       "\\end{tabular}\n"
      ],
      "text/markdown": [
       "\n",
       "| Y_train | abbott | abil | abl | abolish | abort | absolut | abus | accept | access | ... | year | yearold | yet | york | young | your | youth | youv | zero | zone |\n",
       "|---|---|---|---|---|---|---|---|---|---|---|---|---|---|---|---|---|---|---|---|---|\n",
       "| 1   | 4   | 3   |  8  | 3   | 20  | 2   | 4   | 5   |  7  | ... | 134 | 4   | 8   | 10  |  3  |  9  | 3   | 1   | 5   | 2   |\n",
       "| 2   | 3   | 5   |  7  | 5   | 23  | 3   | 4   | 6   |  3  | ... | 135 | 3   | 3   |  9  |  6  | 13  | 2   | 2   | 4   | 1   |\n",
       "| 3   | 6   | 3   |  4  | 1   | 22  | 2   | 2   | 5   | 10  | ... | 192 | 1   | 8   |  7  | 13  |  9  | 4   | 3   | 7   | 6   |\n",
       "| 4   | 4   | 6   | 11  | 1   |  9  | 4   | 2   | 7   |  6  | ... | 190 | 3   | 6   | 11  |  7  | 10  | 4   | 6   | 5   | 1   |\n",
       "| 5   | 1   | 1   |  2  | 2   |  7  | 4   | 1   | 4   |  3  | ... |  37 | 2   | 3   |  4  |  1  |  1  | 1   | 1   | 5   | 3   |\n",
       "| 6   | 1   | 1   |  4  | 1   | 19  | 3   | 9   | 5   |  6  | ... | 167 | 2   | 4   | 12  |  7  |  5  | 2   | 5   | 7   | 1   |\n",
       "\n"
      ],
      "text/plain": [
       "  Y_train abbott abil abl abolish abort absolut abus accept access ... year\n",
       "1 1       4      3     8  3       20    2       4    5       7     ... 134 \n",
       "2 2       3      5     7  5       23    3       4    6       3     ... 135 \n",
       "3 3       6      3     4  1       22    2       2    5      10     ... 192 \n",
       "4 4       4      6    11  1        9    4       2    7       6     ... 190 \n",
       "5 5       1      1     2  2        7    4       1    4       3     ...  37 \n",
       "6 6       1      1     4  1       19    3       9    5       6     ... 167 \n",
       "  yearold yet york young your youth youv zero zone\n",
       "1 4       8   10    3     9   3     1    5    2   \n",
       "2 3       3    9    6    13   2     2    4    1   \n",
       "3 1       8    7   13     9   4     3    7    6   \n",
       "4 3       6   11    7    10   4     6    5    1   \n",
       "5 2       3    4    1     1   1     1    5    3   \n",
       "6 2       4   12    7     5   2     5    7    1   "
      ]
     },
     "metadata": {},
     "output_type": "display_data"
    }
   ],
   "source": [
    "df_count <- df_count + 1\n",
    "df_count"
   ]
  },
  {
   "cell_type": "markdown",
   "metadata": {},
   "source": [
    "#### The sum of each row is calculated as the total number of words for each label."
   ]
  },
  {
   "cell_type": "code",
   "execution_count": 26,
   "metadata": {},
   "outputs": [
    {
     "data": {
      "text/html": [
       "<table>\n",
       "<thead><tr><th scope=col>Label</th><th scope=col>abbott</th><th scope=col>abil</th><th scope=col>abl</th><th scope=col>abolish</th><th scope=col>abort</th><th scope=col>absolut</th><th scope=col>abus</th><th scope=col>accept</th><th scope=col>access</th><th scope=col>...</th><th scope=col>yearold</th><th scope=col>yet</th><th scope=col>york</th><th scope=col>young</th><th scope=col>your</th><th scope=col>youth</th><th scope=col>youv</th><th scope=col>zero</th><th scope=col>zone</th><th scope=col>total.num</th></tr></thead>\n",
       "<tbody>\n",
       "\t<tr><td>0    </td><td>4    </td><td>3    </td><td> 8   </td><td>3    </td><td>20   </td><td>2    </td><td>4    </td><td>5    </td><td> 7   </td><td>...  </td><td>4    </td><td>8    </td><td>10   </td><td> 3   </td><td> 9   </td><td>3    </td><td>1    </td><td>5    </td><td>2    </td><td>12182</td></tr>\n",
       "\t<tr><td>1    </td><td>3    </td><td>5    </td><td> 7   </td><td>5    </td><td>23   </td><td>3    </td><td>4    </td><td>6    </td><td> 3   </td><td>...  </td><td>3    </td><td>3    </td><td> 9   </td><td> 6   </td><td>13   </td><td>2    </td><td>2    </td><td>4    </td><td>1    </td><td>13427</td></tr>\n",
       "\t<tr><td>2    </td><td>6    </td><td>3    </td><td> 4   </td><td>1    </td><td>22   </td><td>2    </td><td>2    </td><td>5    </td><td>10   </td><td>...  </td><td>1    </td><td>8    </td><td> 7   </td><td>13   </td><td> 9   </td><td>4    </td><td>3    </td><td>7    </td><td>6    </td><td>15413</td></tr>\n",
       "\t<tr><td>3    </td><td>4    </td><td>6    </td><td>11   </td><td>1    </td><td> 9   </td><td>4    </td><td>2    </td><td>7    </td><td> 6   </td><td>...  </td><td>3    </td><td>6    </td><td>11   </td><td> 7   </td><td>10   </td><td>4    </td><td>6    </td><td>5    </td><td>1    </td><td>13832</td></tr>\n",
       "\t<tr><td>4    </td><td>1    </td><td>1    </td><td> 2   </td><td>2    </td><td> 7   </td><td>4    </td><td>1    </td><td>4    </td><td> 3   </td><td>...  </td><td>2    </td><td>3    </td><td> 4   </td><td> 1   </td><td> 1   </td><td>1    </td><td>1    </td><td>5    </td><td>3    </td><td> 6508</td></tr>\n",
       "\t<tr><td>5    </td><td>1    </td><td>1    </td><td> 4   </td><td>1    </td><td>19   </td><td>3    </td><td>9    </td><td>5    </td><td> 6   </td><td>...  </td><td>2    </td><td>4    </td><td>12   </td><td> 7   </td><td> 5   </td><td>2    </td><td>5    </td><td>7    </td><td>1    </td><td>12020</td></tr>\n",
       "</tbody>\n",
       "</table>\n"
      ],
      "text/latex": [
       "\\begin{tabular}{r|lllllllllllllllllllllllllllllllllllllllllllllllllllllllllllllllllllllllllllllllllllllllllllllllllllllllllllllllllllllllllllllllllllllllllllllllllllllllllllllllllllllllllllllllllllllllllllllllllllllllllllllllllllllllllllllllllllllllllllllllllllllllllllllllllllllllllllllllllllllllllllllllllllllllllllllllllllllllllllllllllllllllllllllllllllllllllllllllllllllllllllllllllllllllllllllllllllllllllllllllllllllllllllllllllllllllllllllllllllllllllllllllllllllllllllllllllllllllllllllllllllllllllllllllllllllllllllllllllllllllllllllllllllllllllllllllllllllllllllllllllllllllllllllllllllllllllllllllllllllllllllllllllllllllllllllllllllllllllllllllllllllllllllllllllllllllllllllllllllllllllllllllllllllllllllllllllllllllllllllllllllllllllllllllllllllllllllllllllllllllllllllllllllllllllllllllllllllllllllllllllllllllllllllllllllllllllllllllllllllllllllllllllllllllllllllllllllllllllllllllllllllllllllllllllllllllllllllllllllllllllllllllllllllllllllllllllllllllllllllllllllllllllllllllllllllllllllllllllllllllllllllllllllllllllllllllllllllllllllllllllllllllllllllllllllllllllllllllllllllllllllllllllllllllllllllllllllllllllllllllllllllllllllllllllllllllllllllllllllllllllllllllllllllllllllllllllllllllllllllllllllllllllllllllllllllllllllllllllllllllllllllllllllllllllllllllllllllllllllllllllllllllllllllllllllllllllllllllllllllllllllllllllllllllllllllllllllllllllllllllllllllllllllllllllllllllllllllllllllllllllllllllllllllllllllllllllllllllllllllllllllllllllllllllllllllllllllllllllllllllllllllllllllllllllllllllllllllllllllllllllllllllllllllllllllllllllllllllllllllllllllllllllllllllllllllllllllllllllllllllllllllllllllllllllllllllllllllllllllllllllllllllllll}\n",
       " Label & abbott & abil & abl & abolish & abort & absolut & abus & accept & access & ... & yearold & yet & york & young & your & youth & youv & zero & zone & total.num\\\\\n",
       "\\hline\n",
       "\t 0     & 4     & 3     &  8    & 3     & 20    & 2     & 4     & 5     &  7    & ...   & 4     & 8     & 10    &  3    &  9    & 3     & 1     & 5     & 2     & 12182\\\\\n",
       "\t 1     & 3     & 5     &  7    & 5     & 23    & 3     & 4     & 6     &  3    & ...   & 3     & 3     &  9    &  6    & 13    & 2     & 2     & 4     & 1     & 13427\\\\\n",
       "\t 2     & 6     & 3     &  4    & 1     & 22    & 2     & 2     & 5     & 10    & ...   & 1     & 8     &  7    & 13    &  9    & 4     & 3     & 7     & 6     & 15413\\\\\n",
       "\t 3     & 4     & 6     & 11    & 1     &  9    & 4     & 2     & 7     &  6    & ...   & 3     & 6     & 11    &  7    & 10    & 4     & 6     & 5     & 1     & 13832\\\\\n",
       "\t 4     & 1     & 1     &  2    & 2     &  7    & 4     & 1     & 4     &  3    & ...   & 2     & 3     &  4    &  1    &  1    & 1     & 1     & 5     & 3     &  6508\\\\\n",
       "\t 5     & 1     & 1     &  4    & 1     & 19    & 3     & 9     & 5     &  6    & ...   & 2     & 4     & 12    &  7    &  5    & 2     & 5     & 7     & 1     & 12020\\\\\n",
       "\\end{tabular}\n"
      ],
      "text/markdown": [
       "\n",
       "| Label | abbott | abil | abl | abolish | abort | absolut | abus | accept | access | ... | yearold | yet | york | young | your | youth | youv | zero | zone | total.num |\n",
       "|---|---|---|---|---|---|---|---|---|---|---|---|---|---|---|---|---|---|---|---|---|\n",
       "| 0     | 4     | 3     |  8    | 3     | 20    | 2     | 4     | 5     |  7    | ...   | 4     | 8     | 10    |  3    |  9    | 3     | 1     | 5     | 2     | 12182 |\n",
       "| 1     | 3     | 5     |  7    | 5     | 23    | 3     | 4     | 6     |  3    | ...   | 3     | 3     |  9    |  6    | 13    | 2     | 2     | 4     | 1     | 13427 |\n",
       "| 2     | 6     | 3     |  4    | 1     | 22    | 2     | 2     | 5     | 10    | ...   | 1     | 8     |  7    | 13    |  9    | 4     | 3     | 7     | 6     | 15413 |\n",
       "| 3     | 4     | 6     | 11    | 1     |  9    | 4     | 2     | 7     |  6    | ...   | 3     | 6     | 11    |  7    | 10    | 4     | 6     | 5     | 1     | 13832 |\n",
       "| 4     | 1     | 1     |  2    | 2     |  7    | 4     | 1     | 4     |  3    | ...   | 2     | 3     |  4    |  1    |  1    | 1     | 1     | 5     | 3     |  6508 |\n",
       "| 5     | 1     | 1     |  4    | 1     | 19    | 3     | 9     | 5     |  6    | ...   | 2     | 4     | 12    |  7    |  5    | 2     | 5     | 7     | 1     | 12020 |\n",
       "\n"
      ],
      "text/plain": [
       "  Label abbott abil abl abolish abort absolut abus accept access ... yearold\n",
       "1 0     4      3     8  3       20    2       4    5       7     ... 4      \n",
       "2 1     3      5     7  5       23    3       4    6       3     ... 3      \n",
       "3 2     6      3     4  1       22    2       2    5      10     ... 1      \n",
       "4 3     4      6    11  1        9    4       2    7       6     ... 3      \n",
       "5 4     1      1     2  2        7    4       1    4       3     ... 2      \n",
       "6 5     1      1     4  1       19    3       9    5       6     ... 2      \n",
       "  yet york young your youth youv zero zone total.num\n",
       "1 8   10    3     9   3     1    5    2    12182    \n",
       "2 3    9    6    13   2     2    4    1    13427    \n",
       "3 8    7   13     9   4     3    7    6    15413    \n",
       "4 6   11    7    10   4     6    5    1    13832    \n",
       "5 3    4    1     1   1     1    5    3     6508    \n",
       "6 4   12    7     5   2     5    7    1    12020    "
      ]
     },
     "metadata": {},
     "output_type": "display_data"
    }
   ],
   "source": [
    "df_count$Y_train   <- NULL               #dropping an unneseccary column\n",
    "df_count$total.num <- rowSums(df_count)  #summing over the rows\n",
    "df_count <- cbind(label.list, df_count)  #adding a label column\n",
    "colnames(df_count)[1] <- \"Label\"         #naming the column\n",
    "df_count"
   ]
  },
  {
   "cell_type": "markdown",
   "metadata": {},
   "source": [
    "#### Then, the probability of each label is added to the dataframe. As previously discussed this is used as our priror"
   ]
  },
  {
   "cell_type": "code",
   "execution_count": 27,
   "metadata": {},
   "outputs": [
    {
     "data": {
      "text/html": [
       "<table>\n",
       "<thead><tr><th scope=col>Label</th><th scope=col>abbott</th><th scope=col>abil</th><th scope=col>abl</th><th scope=col>abolish</th><th scope=col>abort</th><th scope=col>absolut</th><th scope=col>abus</th><th scope=col>accept</th><th scope=col>access</th><th scope=col>...</th><th scope=col>yet</th><th scope=col>york</th><th scope=col>young</th><th scope=col>your</th><th scope=col>youth</th><th scope=col>youv</th><th scope=col>zero</th><th scope=col>zone</th><th scope=col>total.num</th><th scope=col>label.density</th></tr></thead>\n",
       "<tbody>\n",
       "\t<tr><td>0         </td><td>4         </td><td>3         </td><td> 8        </td><td>3         </td><td>20        </td><td>2         </td><td>4         </td><td>5         </td><td> 7        </td><td>...       </td><td>8         </td><td>10        </td><td> 3        </td><td> 9        </td><td>3         </td><td>1         </td><td>5         </td><td>2         </td><td>12182     </td><td>0.16152344</td></tr>\n",
       "\t<tr><td>1         </td><td>3         </td><td>5         </td><td> 7        </td><td>5         </td><td>23        </td><td>3         </td><td>4         </td><td>6         </td><td> 3        </td><td>...       </td><td>3         </td><td> 9        </td><td> 6        </td><td>13        </td><td>2         </td><td>2         </td><td>4         </td><td>1         </td><td>13427     </td><td>0.19482422</td></tr>\n",
       "\t<tr><td>2         </td><td>6         </td><td>3         </td><td> 4        </td><td>1         </td><td>22        </td><td>2         </td><td>2         </td><td>5         </td><td>10        </td><td>...       </td><td>8         </td><td> 7        </td><td>13        </td><td> 9        </td><td>4         </td><td>3         </td><td>7         </td><td>6         </td><td>15413     </td><td>0.20644531</td></tr>\n",
       "\t<tr><td>3         </td><td>4         </td><td>6         </td><td>11        </td><td>1         </td><td> 9        </td><td>4         </td><td>2         </td><td>7         </td><td> 6        </td><td>...       </td><td>6         </td><td>11        </td><td> 7        </td><td>10        </td><td>4         </td><td>6         </td><td>5         </td><td>1         </td><td>13832     </td><td>0.19160156</td></tr>\n",
       "\t<tr><td>4         </td><td>1         </td><td>1         </td><td> 2        </td><td>2         </td><td> 7        </td><td>4         </td><td>1         </td><td>4         </td><td> 3        </td><td>...       </td><td>3         </td><td> 4        </td><td> 1        </td><td> 1        </td><td>1         </td><td>1         </td><td>5         </td><td>3         </td><td> 6508     </td><td>0.08193359</td></tr>\n",
       "\t<tr><td>5         </td><td>1         </td><td>1         </td><td> 4        </td><td>1         </td><td>19        </td><td>3         </td><td>9         </td><td>5         </td><td> 6        </td><td>...       </td><td>4         </td><td>12        </td><td> 7        </td><td> 5        </td><td>2         </td><td>5         </td><td>7         </td><td>1         </td><td>12020     </td><td>0.16367187</td></tr>\n",
       "</tbody>\n",
       "</table>\n"
      ],
      "text/latex": [
       "\\begin{tabular}{r|llllllllllllllllllllllllllllllllllllllllllllllllllllllllllllllllllllllllllllllllllllllllllllllllllllllllllllllllllllllllllllllllllllllllllllllllllllllllllllllllllllllllllllllllllllllllllllllllllllllllllllllllllllllllllllllllllllllllllllllllllllllllllllllllllllllllllllllllllllllllllllllllllllllllllllllllllllllllllllllllllllllllllllllllllllllllllllllllllllllllllllllllllllllllllllllllllllllllllllllllllllllllllllllllllllllllllllllllllllllllllllllllllllllllllllllllllllllllllllllllllllllllllllllllllllllllllllllllllllllllllllllllllllllllllllllllllllllllllllllllllllllllllllllllllllllllllllllllllllllllllllllllllllllllllllllllllllllllllllllllllllllllllllllllllllllllllllllllllllllllllllllllllllllllllllllllllllllllllllllllllllllllllllllllllllllllllllllllllllllllllllllllllllllllllllllllllllllllllllllllllllllllllllllllllllllllllllllllllllllllllllllllllllllllllllllllllllllllllllllllllllllllllllllllllllllllllllllllllllllllllllllllllllllllllllllllllllllllllllllllllllllllllllllllllllllllllllllllllllllllllllllllllllllllllllllllllllllllllllllllllllllllllllllllllllllllllllllllllllllllllllllllllllllllllllllllllllllllllllllllllllllllllllllllllllllllllllllllllllllllllllllllllllllllllllllllllllllllllllllllllllllllllllllllllllllllllllllllllllllllllllllllllllllllllllllllllllllllllllllllllllllllllllllllllllllllllllllllllllllllllllllllllllllllllllllllllllllllllllllllllllllllllllllllllllllllllllllllllllllllllllllllllllllllllllllllllllllllllllllllllllllllllllllllllllllllllllllllllllllllllllllllllllllllllllllllllllllllllllllllllllllllllllllllllllllllllllllllllllllllllllllllllllllllllllllllllllllllllllllllllllllllllllllllllllllllllllllllllllllllllllllllllll}\n",
       " Label & abbott & abil & abl & abolish & abort & absolut & abus & accept & access & ... & yet & york & young & your & youth & youv & zero & zone & total.num & label.density\\\\\n",
       "\\hline\n",
       "\t 0          & 4          & 3          &  8         & 3          & 20         & 2          & 4          & 5          &  7         & ...        & 8          & 10         &  3         &  9         & 3          & 1          & 5          & 2          & 12182      & 0.16152344\\\\\n",
       "\t 1          & 3          & 5          &  7         & 5          & 23         & 3          & 4          & 6          &  3         & ...        & 3          &  9         &  6         & 13         & 2          & 2          & 4          & 1          & 13427      & 0.19482422\\\\\n",
       "\t 2          & 6          & 3          &  4         & 1          & 22         & 2          & 2          & 5          & 10         & ...        & 8          &  7         & 13         &  9         & 4          & 3          & 7          & 6          & 15413      & 0.20644531\\\\\n",
       "\t 3          & 4          & 6          & 11         & 1          &  9         & 4          & 2          & 7          &  6         & ...        & 6          & 11         &  7         & 10         & 4          & 6          & 5          & 1          & 13832      & 0.19160156\\\\\n",
       "\t 4          & 1          & 1          &  2         & 2          &  7         & 4          & 1          & 4          &  3         & ...        & 3          &  4         &  1         &  1         & 1          & 1          & 5          & 3          &  6508      & 0.08193359\\\\\n",
       "\t 5          & 1          & 1          &  4         & 1          & 19         & 3          & 9          & 5          &  6         & ...        & 4          & 12         &  7         &  5         & 2          & 5          & 7          & 1          & 12020      & 0.16367187\\\\\n",
       "\\end{tabular}\n"
      ],
      "text/markdown": [
       "\n",
       "| Label | abbott | abil | abl | abolish | abort | absolut | abus | accept | access | ... | yet | york | young | your | youth | youv | zero | zone | total.num | label.density |\n",
       "|---|---|---|---|---|---|---|---|---|---|---|---|---|---|---|---|---|---|---|---|---|\n",
       "| 0          | 4          | 3          |  8         | 3          | 20         | 2          | 4          | 5          |  7         | ...        | 8          | 10         |  3         |  9         | 3          | 1          | 5          | 2          | 12182      | 0.16152344 |\n",
       "| 1          | 3          | 5          |  7         | 5          | 23         | 3          | 4          | 6          |  3         | ...        | 3          |  9         |  6         | 13         | 2          | 2          | 4          | 1          | 13427      | 0.19482422 |\n",
       "| 2          | 6          | 3          |  4         | 1          | 22         | 2          | 2          | 5          | 10         | ...        | 8          |  7         | 13         |  9         | 4          | 3          | 7          | 6          | 15413      | 0.20644531 |\n",
       "| 3          | 4          | 6          | 11         | 1          |  9         | 4          | 2          | 7          |  6         | ...        | 6          | 11         |  7         | 10         | 4          | 6          | 5          | 1          | 13832      | 0.19160156 |\n",
       "| 4          | 1          | 1          |  2         | 2          |  7         | 4          | 1          | 4          |  3         | ...        | 3          |  4         |  1         |  1         | 1          | 1          | 5          | 3          |  6508      | 0.08193359 |\n",
       "| 5          | 1          | 1          |  4         | 1          | 19         | 3          | 9          | 5          |  6         | ...        | 4          | 12         |  7         |  5         | 2          | 5          | 7          | 1          | 12020      | 0.16367187 |\n",
       "\n"
      ],
      "text/plain": [
       "  Label abbott abil abl abolish abort absolut abus accept access ... yet york\n",
       "1 0     4      3     8  3       20    2       4    5       7     ... 8   10  \n",
       "2 1     3      5     7  5       23    3       4    6       3     ... 3    9  \n",
       "3 2     6      3     4  1       22    2       2    5      10     ... 8    7  \n",
       "4 3     4      6    11  1        9    4       2    7       6     ... 6   11  \n",
       "5 4     1      1     2  2        7    4       1    4       3     ... 3    4  \n",
       "6 5     1      1     4  1       19    3       9    5       6     ... 4   12  \n",
       "  young your youth youv zero zone total.num label.density\n",
       "1  3     9   3     1    5    2    12182     0.16152344   \n",
       "2  6    13   2     2    4    1    13427     0.19482422   \n",
       "3 13     9   4     3    7    6    15413     0.20644531   \n",
       "4  7    10   4     6    5    1    13832     0.19160156   \n",
       "5  1     1   1     1    5    3     6508     0.08193359   \n",
       "6  7     5   2     5    7    1    12020     0.16367187   "
      ]
     },
     "metadata": {},
     "output_type": "display_data"
    }
   ],
   "source": [
    "label.density          <- hm$density[hm$density >0]    #!!don't forget to run the reading data cell, hm is read from there!!\n",
    "df_count$label.density <- label.density/2              #normalizing the probabilites to 1\n",
    "df_count"
   ]
  },
  {
   "cell_type": "markdown",
   "metadata": {},
   "source": [
    "#### Finally we calculate the probability of the occurence of each word in each label as the following:"
   ]
  },
  {
   "cell_type": "code",
   "execution_count": 28,
   "metadata": {},
   "outputs": [
    {
     "data": {
      "text/html": [
       "<table>\n",
       "<thead><tr><th scope=col>Label</th><th scope=col>abbott</th><th scope=col>abil</th><th scope=col>abl</th><th scope=col>abolish</th><th scope=col>abort</th><th scope=col>absolut</th><th scope=col>abus</th><th scope=col>accept</th><th scope=col>access</th><th scope=col>...</th><th scope=col>yet</th><th scope=col>york</th><th scope=col>young</th><th scope=col>your</th><th scope=col>youth</th><th scope=col>youv</th><th scope=col>zero</th><th scope=col>zone</th><th scope=col>total.num</th><th scope=col>label.density</th></tr></thead>\n",
       "<tbody>\n",
       "\t<tr><td>0           </td><td>3.283533e-04</td><td>2.462650e-04</td><td>0.0006567066</td><td>2.462650e-04</td><td>0.0016417665</td><td>0.0001641767</td><td>0.0003283533</td><td>0.0004104416</td><td>0.0005746183</td><td>...         </td><td>0.0006567066</td><td>0.0008208833</td><td>0.0002462650</td><td>0.0007387949</td><td>0.0002462650</td><td>8.208833e-05</td><td>0.0004104416</td><td>1.641767e-04</td><td>12182       </td><td>0.16152344  </td></tr>\n",
       "\t<tr><td>1           </td><td>2.234304e-04</td><td>3.723840e-04</td><td>0.0005213376</td><td>3.723840e-04</td><td>0.0017129664</td><td>0.0002234304</td><td>0.0002979072</td><td>0.0004468608</td><td>0.0002234304</td><td>...         </td><td>0.0002234304</td><td>0.0006702912</td><td>0.0004468608</td><td>0.0009681984</td><td>0.0001489536</td><td>1.489536e-04</td><td>0.0002979072</td><td>7.447680e-05</td><td>13427       </td><td>0.19482422  </td></tr>\n",
       "\t<tr><td>2           </td><td>3.892818e-04</td><td>1.946409e-04</td><td>0.0002595212</td><td>6.488030e-05</td><td>0.0014273665</td><td>0.0001297606</td><td>0.0001297606</td><td>0.0003244015</td><td>0.0006488030</td><td>...         </td><td>0.0005190424</td><td>0.0004541621</td><td>0.0008434438</td><td>0.0005839227</td><td>0.0002595212</td><td>1.946409e-04</td><td>0.0004541621</td><td>3.892818e-04</td><td>15413       </td><td>0.20644531  </td></tr>\n",
       "\t<tr><td>3           </td><td>2.891845e-04</td><td>4.337767e-04</td><td>0.0007952574</td><td>7.229612e-05</td><td>0.0006506651</td><td>0.0002891845</td><td>0.0001445922</td><td>0.0005060729</td><td>0.0004337767</td><td>...         </td><td>0.0004337767</td><td>0.0007952574</td><td>0.0005060729</td><td>0.0007229612</td><td>0.0002891845</td><td>4.337767e-04</td><td>0.0003614806</td><td>7.229612e-05</td><td>13832       </td><td>0.19160156  </td></tr>\n",
       "\t<tr><td>4           </td><td>1.536570e-04</td><td>1.536570e-04</td><td>0.0003073141</td><td>3.073141e-04</td><td>0.0010755993</td><td>0.0006146281</td><td>0.0001536570</td><td>0.0006146281</td><td>0.0004609711</td><td>...         </td><td>0.0004609711</td><td>0.0006146281</td><td>0.0001536570</td><td>0.0001536570</td><td>0.0001536570</td><td>1.536570e-04</td><td>0.0007682852</td><td>4.609711e-04</td><td> 6508       </td><td>0.08193359  </td></tr>\n",
       "\t<tr><td>5           </td><td>8.319468e-05</td><td>8.319468e-05</td><td>0.0003327787</td><td>8.319468e-05</td><td>0.0015806988</td><td>0.0002495840</td><td>0.0007487521</td><td>0.0004159734</td><td>0.0004991681</td><td>...         </td><td>0.0003327787</td><td>0.0009983361</td><td>0.0005823627</td><td>0.0004159734</td><td>0.0001663894</td><td>4.159734e-04</td><td>0.0005823627</td><td>8.319468e-05</td><td>12020       </td><td>0.16367187  </td></tr>\n",
       "</tbody>\n",
       "</table>\n"
      ],
      "text/latex": [
       "\\begin{tabular}{r|llllllllllllllllllllllllllllllllllllllllllllllllllllllllllllllllllllllllllllllllllllllllllllllllllllllllllllllllllllllllllllllllllllllllllllllllllllllllllllllllllllllllllllllllllllllllllllllllllllllllllllllllllllllllllllllllllllllllllllllllllllllllllllllllllllllllllllllllllllllllllllllllllllllllllllllllllllllllllllllllllllllllllllllllllllllllllllllllllllllllllllllllllllllllllllllllllllllllllllllllllllllllllllllllllllllllllllllllllllllllllllllllllllllllllllllllllllllllllllllllllllllllllllllllllllllllllllllllllllllllllllllllllllllllllllllllllllllllllllllllllllllllllllllllllllllllllllllllllllllllllllllllllllllllllllllllllllllllllllllllllllllllllllllllllllllllllllllllllllllllllllllllllllllllllllllllllllllllllllllllllllllllllllllllllllllllllllllllllllllllllllllllllllllllllllllllllllllllllllllllllllllllllllllllllllllllllllllllllllllllllllllllllllllllllllllllllllllllllllllllllllllllllllllllllllllllllllllllllllllllllllllllllllllllllllllllllllllllllllllllllllllllllllllllllllllllllllllllllllllllllllllllllllllllllllllllllllllllllllllllllllllllllllllllllllllllllllllllllllllllllllllllllllllllllllllllllllllllllllllllllllllllllllllllllllllllllllllllllllllllllllllllllllllllllllllllllllllllllllllllllllllllllllllllllllllllllllllllllllllllllllllllllllllllllllllllllllllllllllllllllllllllllllllllllllllllllllllllllllllllllllllllllllllllllllllllllllllllllllllllllllllllllllllllllllllllllllllllllllllllllllllllllllllllllllllllllllllllllllllllllllllllllllllllllllllllllllllllllllllllllllllllllllllllllllllllllllllllllllllllllllllllllllllllllllllllllllllllllllllllllllllllllllllllllllllllllllllllllllllllllllllllllllllllllllllllllllllllllllllllllllllllllll}\n",
       " Label & abbott & abil & abl & abolish & abort & absolut & abus & accept & access & ... & yet & york & young & your & youth & youv & zero & zone & total.num & label.density\\\\\n",
       "\\hline\n",
       "\t 0            & 3.283533e-04 & 2.462650e-04 & 0.0006567066 & 2.462650e-04 & 0.0016417665 & 0.0001641767 & 0.0003283533 & 0.0004104416 & 0.0005746183 & ...          & 0.0006567066 & 0.0008208833 & 0.0002462650 & 0.0007387949 & 0.0002462650 & 8.208833e-05 & 0.0004104416 & 1.641767e-04 & 12182        & 0.16152344  \\\\\n",
       "\t 1            & 2.234304e-04 & 3.723840e-04 & 0.0005213376 & 3.723840e-04 & 0.0017129664 & 0.0002234304 & 0.0002979072 & 0.0004468608 & 0.0002234304 & ...          & 0.0002234304 & 0.0006702912 & 0.0004468608 & 0.0009681984 & 0.0001489536 & 1.489536e-04 & 0.0002979072 & 7.447680e-05 & 13427        & 0.19482422  \\\\\n",
       "\t 2            & 3.892818e-04 & 1.946409e-04 & 0.0002595212 & 6.488030e-05 & 0.0014273665 & 0.0001297606 & 0.0001297606 & 0.0003244015 & 0.0006488030 & ...          & 0.0005190424 & 0.0004541621 & 0.0008434438 & 0.0005839227 & 0.0002595212 & 1.946409e-04 & 0.0004541621 & 3.892818e-04 & 15413        & 0.20644531  \\\\\n",
       "\t 3            & 2.891845e-04 & 4.337767e-04 & 0.0007952574 & 7.229612e-05 & 0.0006506651 & 0.0002891845 & 0.0001445922 & 0.0005060729 & 0.0004337767 & ...          & 0.0004337767 & 0.0007952574 & 0.0005060729 & 0.0007229612 & 0.0002891845 & 4.337767e-04 & 0.0003614806 & 7.229612e-05 & 13832        & 0.19160156  \\\\\n",
       "\t 4            & 1.536570e-04 & 1.536570e-04 & 0.0003073141 & 3.073141e-04 & 0.0010755993 & 0.0006146281 & 0.0001536570 & 0.0006146281 & 0.0004609711 & ...          & 0.0004609711 & 0.0006146281 & 0.0001536570 & 0.0001536570 & 0.0001536570 & 1.536570e-04 & 0.0007682852 & 4.609711e-04 &  6508        & 0.08193359  \\\\\n",
       "\t 5            & 8.319468e-05 & 8.319468e-05 & 0.0003327787 & 8.319468e-05 & 0.0015806988 & 0.0002495840 & 0.0007487521 & 0.0004159734 & 0.0004991681 & ...          & 0.0003327787 & 0.0009983361 & 0.0005823627 & 0.0004159734 & 0.0001663894 & 4.159734e-04 & 0.0005823627 & 8.319468e-05 & 12020        & 0.16367187  \\\\\n",
       "\\end{tabular}\n"
      ],
      "text/markdown": [
       "\n",
       "| Label | abbott | abil | abl | abolish | abort | absolut | abus | accept | access | ... | yet | york | young | your | youth | youv | zero | zone | total.num | label.density |\n",
       "|---|---|---|---|---|---|---|---|---|---|---|---|---|---|---|---|---|---|---|---|---|\n",
       "| 0            | 3.283533e-04 | 2.462650e-04 | 0.0006567066 | 2.462650e-04 | 0.0016417665 | 0.0001641767 | 0.0003283533 | 0.0004104416 | 0.0005746183 | ...          | 0.0006567066 | 0.0008208833 | 0.0002462650 | 0.0007387949 | 0.0002462650 | 8.208833e-05 | 0.0004104416 | 1.641767e-04 | 12182        | 0.16152344   |\n",
       "| 1            | 2.234304e-04 | 3.723840e-04 | 0.0005213376 | 3.723840e-04 | 0.0017129664 | 0.0002234304 | 0.0002979072 | 0.0004468608 | 0.0002234304 | ...          | 0.0002234304 | 0.0006702912 | 0.0004468608 | 0.0009681984 | 0.0001489536 | 1.489536e-04 | 0.0002979072 | 7.447680e-05 | 13427        | 0.19482422   |\n",
       "| 2            | 3.892818e-04 | 1.946409e-04 | 0.0002595212 | 6.488030e-05 | 0.0014273665 | 0.0001297606 | 0.0001297606 | 0.0003244015 | 0.0006488030 | ...          | 0.0005190424 | 0.0004541621 | 0.0008434438 | 0.0005839227 | 0.0002595212 | 1.946409e-04 | 0.0004541621 | 3.892818e-04 | 15413        | 0.20644531   |\n",
       "| 3            | 2.891845e-04 | 4.337767e-04 | 0.0007952574 | 7.229612e-05 | 0.0006506651 | 0.0002891845 | 0.0001445922 | 0.0005060729 | 0.0004337767 | ...          | 0.0004337767 | 0.0007952574 | 0.0005060729 | 0.0007229612 | 0.0002891845 | 4.337767e-04 | 0.0003614806 | 7.229612e-05 | 13832        | 0.19160156   |\n",
       "| 4            | 1.536570e-04 | 1.536570e-04 | 0.0003073141 | 3.073141e-04 | 0.0010755993 | 0.0006146281 | 0.0001536570 | 0.0006146281 | 0.0004609711 | ...          | 0.0004609711 | 0.0006146281 | 0.0001536570 | 0.0001536570 | 0.0001536570 | 1.536570e-04 | 0.0007682852 | 4.609711e-04 |  6508        | 0.08193359   |\n",
       "| 5            | 8.319468e-05 | 8.319468e-05 | 0.0003327787 | 8.319468e-05 | 0.0015806988 | 0.0002495840 | 0.0007487521 | 0.0004159734 | 0.0004991681 | ...          | 0.0003327787 | 0.0009983361 | 0.0005823627 | 0.0004159734 | 0.0001663894 | 4.159734e-04 | 0.0005823627 | 8.319468e-05 | 12020        | 0.16367187   |\n",
       "\n"
      ],
      "text/plain": [
       "  Label abbott       abil         abl          abolish      abort       \n",
       "1 0     3.283533e-04 2.462650e-04 0.0006567066 2.462650e-04 0.0016417665\n",
       "2 1     2.234304e-04 3.723840e-04 0.0005213376 3.723840e-04 0.0017129664\n",
       "3 2     3.892818e-04 1.946409e-04 0.0002595212 6.488030e-05 0.0014273665\n",
       "4 3     2.891845e-04 4.337767e-04 0.0007952574 7.229612e-05 0.0006506651\n",
       "5 4     1.536570e-04 1.536570e-04 0.0003073141 3.073141e-04 0.0010755993\n",
       "6 5     8.319468e-05 8.319468e-05 0.0003327787 8.319468e-05 0.0015806988\n",
       "  absolut      abus         accept       access       ... yet         \n",
       "1 0.0001641767 0.0003283533 0.0004104416 0.0005746183 ... 0.0006567066\n",
       "2 0.0002234304 0.0002979072 0.0004468608 0.0002234304 ... 0.0002234304\n",
       "3 0.0001297606 0.0001297606 0.0003244015 0.0006488030 ... 0.0005190424\n",
       "4 0.0002891845 0.0001445922 0.0005060729 0.0004337767 ... 0.0004337767\n",
       "5 0.0006146281 0.0001536570 0.0006146281 0.0004609711 ... 0.0004609711\n",
       "6 0.0002495840 0.0007487521 0.0004159734 0.0004991681 ... 0.0003327787\n",
       "  york         young        your         youth        youv         zero        \n",
       "1 0.0008208833 0.0002462650 0.0007387949 0.0002462650 8.208833e-05 0.0004104416\n",
       "2 0.0006702912 0.0004468608 0.0009681984 0.0001489536 1.489536e-04 0.0002979072\n",
       "3 0.0004541621 0.0008434438 0.0005839227 0.0002595212 1.946409e-04 0.0004541621\n",
       "4 0.0007952574 0.0005060729 0.0007229612 0.0002891845 4.337767e-04 0.0003614806\n",
       "5 0.0006146281 0.0001536570 0.0001536570 0.0001536570 1.536570e-04 0.0007682852\n",
       "6 0.0009983361 0.0005823627 0.0004159734 0.0001663894 4.159734e-04 0.0005823627\n",
       "  zone         total.num label.density\n",
       "1 1.641767e-04 12182     0.16152344   \n",
       "2 7.447680e-05 13427     0.19482422   \n",
       "3 3.892818e-04 15413     0.20644531   \n",
       "4 7.229612e-05 13832     0.19160156   \n",
       "5 4.609711e-04  6508     0.08193359   \n",
       "6 8.319468e-05 12020     0.16367187   "
      ]
     },
     "metadata": {},
     "output_type": "display_data"
    }
   ],
   "source": [
    "no.col <- ncol(df_count) -2         #keeping the number of word columns (without the sum and density column)\n",
    "\n",
    "for (i in 1:length(label.list))     #looping on the 5 labels (5 rows)\n",
    "    {df_count[i,2:no.col]  <- df_count[i, 2: no.col]/df_count$total.num[i]} #loop on 5 indexes\n",
    "nbc <- df_count\n",
    "nbc"
   ]
  },
  {
   "cell_type": "markdown",
   "metadata": {},
   "source": [
    "### The above dataframe is our multinomial naive bayes classifer, which can be used for prediction"
   ]
  },
  {
   "cell_type": "markdown",
   "metadata": {},
   "source": [
    "## Building the Predictor <a class=\"anchor\" id=\"pred\"></a>"
   ]
  },
  {
   "cell_type": "markdown",
   "metadata": {},
   "source": [
    "Now having our classifer we write a predictor which takes a sample as the input and predicts its label:"
   ]
  },
  {
   "cell_type": "code",
   "execution_count": 29,
   "metadata": {},
   "outputs": [],
   "source": [
    "# cat(\"words matching:\", all(colnames(nbc[2:as.numeric(ncol(nbc)-2)]) == colnames(X_test)))"
   ]
  },
  {
   "cell_type": "markdown",
   "metadata": {},
   "source": [
    "#### Let's have a look our test set:"
   ]
  },
  {
   "cell_type": "code",
   "execution_count": 30,
   "metadata": {},
   "outputs": [
    {
     "data": {
      "text/html": [
       "<table>\n",
       "<thead><tr><th></th><th scope=col>abbott</th><th scope=col>abil</th><th scope=col>abl</th><th scope=col>abolish</th><th scope=col>abort</th><th scope=col>absolut</th><th scope=col>abus</th><th scope=col>accept</th><th scope=col>access</th><th scope=col>accid</th><th scope=col>...</th><th scope=col>year</th><th scope=col>yearold</th><th scope=col>yet</th><th scope=col>york</th><th scope=col>young</th><th scope=col>your</th><th scope=col>youth</th><th scope=col>youv</th><th scope=col>zero</th><th scope=col>zone</th></tr></thead>\n",
       "<tbody>\n",
       "\t<tr><th scope=row>2255</th><td>0  </td><td>0  </td><td>0  </td><td>0  </td><td>0  </td><td>0  </td><td>0  </td><td>0  </td><td>0  </td><td>0  </td><td>...</td><td>0  </td><td>0  </td><td>0  </td><td>0  </td><td>0  </td><td>0  </td><td>0  </td><td>0  </td><td>0  </td><td>0  </td></tr>\n",
       "\t<tr><th scope=row>6859</th><td>0  </td><td>0  </td><td>0  </td><td>0  </td><td>0  </td><td>0  </td><td>0  </td><td>0  </td><td>0  </td><td>0  </td><td>...</td><td>0  </td><td>0  </td><td>0  </td><td>0  </td><td>0  </td><td>0  </td><td>0  </td><td>0  </td><td>0  </td><td>0  </td></tr>\n",
       "\t<tr><th scope=row>1833</th><td>0  </td><td>0  </td><td>0  </td><td>0  </td><td>0  </td><td>0  </td><td>0  </td><td>0  </td><td>0  </td><td>0  </td><td>...</td><td>0  </td><td>0  </td><td>0  </td><td>0  </td><td>0  </td><td>0  </td><td>0  </td><td>0  </td><td>0  </td><td>0  </td></tr>\n",
       "</tbody>\n",
       "</table>\n"
      ],
      "text/latex": [
       "\\begin{tabular}{r|lllllllllllllllllllllllllllllllllllllllllllllllllllllllllllllllllllllllllllllllllllllllllllllllllllllllllllllllllllllllllllllllllllllllllllllllllllllllllllllllllllllllllllllllllllllllllllllllllllllllllllllllllllllllllllllllllllllllllllllllllllllllllllllllllllllllllllllllllllllllllllllllllllllllllllllllllllllllllllllllllllllllllllllllllllllllllllllllllllllllllllllllllllllllllllllllllllllllllllllllllllllllllllllllllllllllllllllllllllllllllllllllllllllllllllllllllllllllllllllllllllllllllllllllllllllllllllllllllllllllllllllllllllllllllllllllllllllllllllllllllllllllllllllllllllllllllllllllllllllllllllllllllllllllllllllllllllllllllllllllllllllllllllllllllllllllllllllllllllllllllllllllllllllllllllllllllllllllllllllllllllllllllllllllllllllllllllllllllllllllllllllllllllllllllllllllllllllllllllllllllllllllllllllllllllllllllllllllllllllllllllllllllllllllllllllllllllllllllllllllllllllllllllllllllllllllllllllllllllllllllllllllllllllllllllllllllllllllllllllllllllllllllllllllllllllllllllllllllllllllllllllllllllllllllllllllllllllllllllllllllllllllllllllllllllllllllllllllllllllllllllllllllllllllllllllllllllllllllllllllllllllllllllllllllllllllllllllllllllllllllllllllllllllllllllllllllllllllllllllllllllllllllllllllllllllllllllllllllllllllllllllllllllllllllllllllllllllllllllllllllllllllllllllllllllllllllllllllllllllllllllllllllllllllllllllllllllllllllllllllllllllllllllllllllllllllllllllllllllllllllllllllllllllllllllllllllllllllllllllllllllllllllllllllllllllllllllllllllllllllllllllllllllllllllllllllllllllllllllllllllllllllllllllllllllllllllllllllllllllllllllllllllllllllllllllllllllllllllllllllllllllllllllllllllllllllllllllllllllllllllllllllll}\n",
       "  & abbott & abil & abl & abolish & abort & absolut & abus & accept & access & accid & ... & year & yearold & yet & york & young & your & youth & youv & zero & zone\\\\\n",
       "\\hline\n",
       "\t2255 & 0   & 0   & 0   & 0   & 0   & 0   & 0   & 0   & 0   & 0   & ... & 0   & 0   & 0   & 0   & 0   & 0   & 0   & 0   & 0   & 0  \\\\\n",
       "\t6859 & 0   & 0   & 0   & 0   & 0   & 0   & 0   & 0   & 0   & 0   & ... & 0   & 0   & 0   & 0   & 0   & 0   & 0   & 0   & 0   & 0  \\\\\n",
       "\t1833 & 0   & 0   & 0   & 0   & 0   & 0   & 0   & 0   & 0   & 0   & ... & 0   & 0   & 0   & 0   & 0   & 0   & 0   & 0   & 0   & 0  \\\\\n",
       "\\end{tabular}\n"
      ],
      "text/markdown": [
       "\n",
       "| <!--/--> | abbott | abil | abl | abolish | abort | absolut | abus | accept | access | accid | ... | year | yearold | yet | york | young | your | youth | youv | zero | zone |\n",
       "|---|---|---|---|---|---|---|---|---|---|---|---|---|---|---|---|---|---|---|---|---|---|\n",
       "| 2255 | 0   | 0   | 0   | 0   | 0   | 0   | 0   | 0   | 0   | 0   | ... | 0   | 0   | 0   | 0   | 0   | 0   | 0   | 0   | 0   | 0   |\n",
       "| 6859 | 0   | 0   | 0   | 0   | 0   | 0   | 0   | 0   | 0   | 0   | ... | 0   | 0   | 0   | 0   | 0   | 0   | 0   | 0   | 0   | 0   |\n",
       "| 1833 | 0   | 0   | 0   | 0   | 0   | 0   | 0   | 0   | 0   | 0   | ... | 0   | 0   | 0   | 0   | 0   | 0   | 0   | 0   | 0   | 0   |\n",
       "\n"
      ],
      "text/plain": [
       "     abbott abil abl abolish abort absolut abus accept access accid ... year\n",
       "2255 0      0    0   0       0     0       0    0      0      0     ... 0   \n",
       "6859 0      0    0   0       0     0       0    0      0      0     ... 0   \n",
       "1833 0      0    0   0       0     0       0    0      0      0     ... 0   \n",
       "     yearold yet york young your youth youv zero zone\n",
       "2255 0       0   0    0     0    0     0    0    0   \n",
       "6859 0       0   0    0     0    0     0    0    0   \n",
       "1833 0       0   0    0     0    0     0    0    0   "
      ]
     },
     "metadata": {},
     "output_type": "display_data"
    }
   ],
   "source": [
    "head(X_test, 3)"
   ]
  },
  {
   "cell_type": "markdown",
   "metadata": {},
   "source": [
    "like before we have each row pointing out to a sample and the number of repetition of each word in that sample. For each sample the label is predicted and then we compare them to the real labels to find the accuracy of the model."
   ]
  },
  {
   "cell_type": "markdown",
   "metadata": {},
   "source": [
    "#### The following function takes a test sample as input and predicts it corresponding label"
   ]
  },
  {
   "cell_type": "code",
   "execution_count": 38,
   "metadata": {},
   "outputs": [],
   "source": [
    "df.one.func <- function(x, output){\n",
    "    prob.finder      <- function(x, ouput){return(prod(x[2:length(x)]))}  #a function which stores the product of all probs.  \n",
    "    df.one           <<- nbc[, c(1, ncol(nbc), which(x == 1) + 1)]        #used for reading the probs of words from classifer\n",
    "    df.final         <<- cbind(df.one, Label.Prob = apply(df.one, 1, prob.finder)) #dataframe of porbs for each sample \n",
    "    predicted_label  <- df.final$Label[which(df.final$Label.Prob == max(df.final$Label.Prob))] #the final predicted label \n",
    "    return(predicted_label)}\n",
    "\n",
    "X_test_all <- cbind(X_test, predicted_label= apply(X_test ,1,df.one.func)) #adding the prediceted labels to the test set\n",
    "Y_pred     <- X_test_all$predicted_label                                   #reading the prediction seperately"
   ]
  },
  {
   "cell_type": "markdown",
   "metadata": {},
   "source": [
    "Considering a specific sample in test dataset, first we retrieve the words residing in that sample. Then we read the probabilty of each word occuring in a the correpsonding label from our predictor table. "
   ]
  },
  {
   "cell_type": "markdown",
   "metadata": {},
   "source": [
    "#### The following dataframe would be constructed as the result for each sample in the test set"
   ]
  },
  {
   "cell_type": "code",
   "execution_count": 40,
   "metadata": {},
   "outputs": [
    {
     "data": {
      "text/html": [
       "<table>\n",
       "<thead><tr><th scope=col>Label</th><th scope=col>label.density</th><th scope=col>avoid</th><th scope=col>bill</th><th scope=col>financ</th><th scope=col>florida</th><th scope=col>give</th><th scope=col>gov</th><th scope=col>law</th><th scope=col>offici</th><th scope=col>person</th><th scope=col>public</th><th scope=col>rick</th><th scope=col>scott</th><th scope=col>sign</th><th scope=col>way</th><th scope=col>Label.Prob</th></tr></thead>\n",
       "<tbody>\n",
       "\t<tr><td>0           </td><td>0.16152344  </td><td>0.0001641767</td><td>0.004679035 </td><td>4.104416e-04</td><td>0.002380561 </td><td>0.0014775899</td><td>0.001970120 </td><td>0.004268593 </td><td>0.0009850599</td><td>0.0009850599</td><td>0.003037268 </td><td>0.0012313249</td><td>0.002380561 </td><td>0.0010671483</td><td>0.0004925300</td><td>6.840427e-42</td></tr>\n",
       "\t<tr><td>1           </td><td>0.19482422  </td><td>0.0002234304</td><td>0.005138899 </td><td>2.234304e-04</td><td>0.002159827 </td><td>0.0018619200</td><td>0.002606688 </td><td>0.004096224 </td><td>0.0004468608</td><td>0.0010426752</td><td>0.002010874 </td><td>0.0015640128</td><td>0.003574886 </td><td>0.0008937216</td><td>0.0005958144</td><td>5.986490e-42</td></tr>\n",
       "\t<tr><td>2           </td><td>0.20644531  </td><td>0.0003892818</td><td>0.004346980 </td><td>3.244015e-04</td><td>0.002919613 </td><td>0.0011029650</td><td>0.001622007 </td><td>0.003568416 </td><td>0.0003892818</td><td>0.0007785636</td><td>0.002530332 </td><td>0.0016220074</td><td>0.002011289 </td><td>0.0009083241</td><td>0.0007785636</td><td>3.737256e-42</td></tr>\n",
       "\t<tr><td>3           </td><td>0.19160156  </td><td>0.0001445922</td><td>0.004193175 </td><td>7.229612e-05</td><td>0.002747253 </td><td>0.0010121457</td><td>0.001373626 </td><td>0.003253326 </td><td>0.0002891845</td><td>0.0015905147</td><td>0.002168884 </td><td>0.0014459225</td><td>0.001445922 </td><td>0.0009398496</td><td>0.0005783690</td><td>1.183157e-43</td></tr>\n",
       "\t<tr><td>4           </td><td>0.08193359  </td><td>0.0001536570</td><td>0.004609711 </td><td>4.609711e-04</td><td>0.001843884 </td><td>0.0007682852</td><td>0.002612170 </td><td>0.003073141 </td><td>0.0006146281</td><td>0.0010755993</td><td>0.001382913 </td><td>0.0019975415</td><td>0.003380455 </td><td>0.0004609711</td><td>0.0004609711</td><td>3.990967e-43</td></tr>\n",
       "\t<tr><td>5           </td><td>0.16367187  </td><td>0.0002495840</td><td>0.003577371 </td><td>4.159734e-04</td><td>0.002412646 </td><td>0.0007487521</td><td>0.001081531 </td><td>0.003161398 </td><td>0.0006655574</td><td>0.0009151414</td><td>0.002412646 </td><td>0.0008319468</td><td>0.001081531 </td><td>0.0005823627</td><td>0.0005823627</td><td>1.683677e-43</td></tr>\n",
       "</tbody>\n",
       "</table>\n"
      ],
      "text/latex": [
       "\\begin{tabular}{r|lllllllllllllllll}\n",
       " Label & label.density & avoid & bill & financ & florida & give & gov & law & offici & person & public & rick & scott & sign & way & Label.Prob\\\\\n",
       "\\hline\n",
       "\t 0            & 0.16152344   & 0.0001641767 & 0.004679035  & 4.104416e-04 & 0.002380561  & 0.0014775899 & 0.001970120  & 0.004268593  & 0.0009850599 & 0.0009850599 & 0.003037268  & 0.0012313249 & 0.002380561  & 0.0010671483 & 0.0004925300 & 6.840427e-42\\\\\n",
       "\t 1            & 0.19482422   & 0.0002234304 & 0.005138899  & 2.234304e-04 & 0.002159827  & 0.0018619200 & 0.002606688  & 0.004096224  & 0.0004468608 & 0.0010426752 & 0.002010874  & 0.0015640128 & 0.003574886  & 0.0008937216 & 0.0005958144 & 5.986490e-42\\\\\n",
       "\t 2            & 0.20644531   & 0.0003892818 & 0.004346980  & 3.244015e-04 & 0.002919613  & 0.0011029650 & 0.001622007  & 0.003568416  & 0.0003892818 & 0.0007785636 & 0.002530332  & 0.0016220074 & 0.002011289  & 0.0009083241 & 0.0007785636 & 3.737256e-42\\\\\n",
       "\t 3            & 0.19160156   & 0.0001445922 & 0.004193175  & 7.229612e-05 & 0.002747253  & 0.0010121457 & 0.001373626  & 0.003253326  & 0.0002891845 & 0.0015905147 & 0.002168884  & 0.0014459225 & 0.001445922  & 0.0009398496 & 0.0005783690 & 1.183157e-43\\\\\n",
       "\t 4            & 0.08193359   & 0.0001536570 & 0.004609711  & 4.609711e-04 & 0.001843884  & 0.0007682852 & 0.002612170  & 0.003073141  & 0.0006146281 & 0.0010755993 & 0.001382913  & 0.0019975415 & 0.003380455  & 0.0004609711 & 0.0004609711 & 3.990967e-43\\\\\n",
       "\t 5            & 0.16367187   & 0.0002495840 & 0.003577371  & 4.159734e-04 & 0.002412646  & 0.0007487521 & 0.001081531  & 0.003161398  & 0.0006655574 & 0.0009151414 & 0.002412646  & 0.0008319468 & 0.001081531  & 0.0005823627 & 0.0005823627 & 1.683677e-43\\\\\n",
       "\\end{tabular}\n"
      ],
      "text/markdown": [
       "\n",
       "| Label | label.density | avoid | bill | financ | florida | give | gov | law | offici | person | public | rick | scott | sign | way | Label.Prob |\n",
       "|---|---|---|---|---|---|---|---|---|---|---|---|---|---|---|---|---|\n",
       "| 0            | 0.16152344   | 0.0001641767 | 0.004679035  | 4.104416e-04 | 0.002380561  | 0.0014775899 | 0.001970120  | 0.004268593  | 0.0009850599 | 0.0009850599 | 0.003037268  | 0.0012313249 | 0.002380561  | 0.0010671483 | 0.0004925300 | 6.840427e-42 |\n",
       "| 1            | 0.19482422   | 0.0002234304 | 0.005138899  | 2.234304e-04 | 0.002159827  | 0.0018619200 | 0.002606688  | 0.004096224  | 0.0004468608 | 0.0010426752 | 0.002010874  | 0.0015640128 | 0.003574886  | 0.0008937216 | 0.0005958144 | 5.986490e-42 |\n",
       "| 2            | 0.20644531   | 0.0003892818 | 0.004346980  | 3.244015e-04 | 0.002919613  | 0.0011029650 | 0.001622007  | 0.003568416  | 0.0003892818 | 0.0007785636 | 0.002530332  | 0.0016220074 | 0.002011289  | 0.0009083241 | 0.0007785636 | 3.737256e-42 |\n",
       "| 3            | 0.19160156   | 0.0001445922 | 0.004193175  | 7.229612e-05 | 0.002747253  | 0.0010121457 | 0.001373626  | 0.003253326  | 0.0002891845 | 0.0015905147 | 0.002168884  | 0.0014459225 | 0.001445922  | 0.0009398496 | 0.0005783690 | 1.183157e-43 |\n",
       "| 4            | 0.08193359   | 0.0001536570 | 0.004609711  | 4.609711e-04 | 0.001843884  | 0.0007682852 | 0.002612170  | 0.003073141  | 0.0006146281 | 0.0010755993 | 0.001382913  | 0.0019975415 | 0.003380455  | 0.0004609711 | 0.0004609711 | 3.990967e-43 |\n",
       "| 5            | 0.16367187   | 0.0002495840 | 0.003577371  | 4.159734e-04 | 0.002412646  | 0.0007487521 | 0.001081531  | 0.003161398  | 0.0006655574 | 0.0009151414 | 0.002412646  | 0.0008319468 | 0.001081531  | 0.0005823627 | 0.0005823627 | 1.683677e-43 |\n",
       "\n"
      ],
      "text/plain": [
       "  Label label.density avoid        bill        financ       florida    \n",
       "1 0     0.16152344    0.0001641767 0.004679035 4.104416e-04 0.002380561\n",
       "2 1     0.19482422    0.0002234304 0.005138899 2.234304e-04 0.002159827\n",
       "3 2     0.20644531    0.0003892818 0.004346980 3.244015e-04 0.002919613\n",
       "4 3     0.19160156    0.0001445922 0.004193175 7.229612e-05 0.002747253\n",
       "5 4     0.08193359    0.0001536570 0.004609711 4.609711e-04 0.001843884\n",
       "6 5     0.16367187    0.0002495840 0.003577371 4.159734e-04 0.002412646\n",
       "  give         gov         law         offici       person       public     \n",
       "1 0.0014775899 0.001970120 0.004268593 0.0009850599 0.0009850599 0.003037268\n",
       "2 0.0018619200 0.002606688 0.004096224 0.0004468608 0.0010426752 0.002010874\n",
       "3 0.0011029650 0.001622007 0.003568416 0.0003892818 0.0007785636 0.002530332\n",
       "4 0.0010121457 0.001373626 0.003253326 0.0002891845 0.0015905147 0.002168884\n",
       "5 0.0007682852 0.002612170 0.003073141 0.0006146281 0.0010755993 0.001382913\n",
       "6 0.0007487521 0.001081531 0.003161398 0.0006655574 0.0009151414 0.002412646\n",
       "  rick         scott       sign         way          Label.Prob  \n",
       "1 0.0012313249 0.002380561 0.0010671483 0.0004925300 6.840427e-42\n",
       "2 0.0015640128 0.003574886 0.0008937216 0.0005958144 5.986490e-42\n",
       "3 0.0016220074 0.002011289 0.0009083241 0.0007785636 3.737256e-42\n",
       "4 0.0014459225 0.001445922 0.0009398496 0.0005783690 1.183157e-43\n",
       "5 0.0019975415 0.003380455 0.0004609711 0.0004609711 3.990967e-43\n",
       "6 0.0008319468 0.001081531 0.0005823627 0.0005823627 1.683677e-43"
      ]
     },
     "metadata": {},
     "output_type": "display_data"
    }
   ],
   "source": [
    "head(df.final) #it is for a specific sample"
   ]
  },
  {
   "cell_type": "markdown",
   "metadata": {},
   "source": [
    "Then according to naive bayes algorithm the porbability of each label is the row product of all columns residing in the above table. We do the multipication and store the label with maximum probability as the predicted label for that specific test sample."
   ]
  },
  {
   "cell_type": "markdown",
   "metadata": {},
   "source": [
    "#### The previous process is repeated on all the samples in the test set and a column of predicted lables is obtained at the end "
   ]
  },
  {
   "cell_type": "markdown",
   "metadata": {},
   "source": [
    "#### The final output will be like the following; each sample, and its predicted label"
   ]
  },
  {
   "cell_type": "code",
   "execution_count": 41,
   "metadata": {},
   "outputs": [
    {
     "data": {
      "text/html": [
       "<table>\n",
       "<thead><tr><th></th><th scope=col>abbott</th><th scope=col>abil</th><th scope=col>abl</th><th scope=col>abolish</th><th scope=col>abort</th><th scope=col>absolut</th><th scope=col>abus</th><th scope=col>accept</th><th scope=col>access</th><th scope=col>accid</th><th scope=col>...</th><th scope=col>yearold</th><th scope=col>yet</th><th scope=col>york</th><th scope=col>young</th><th scope=col>your</th><th scope=col>youth</th><th scope=col>youv</th><th scope=col>zero</th><th scope=col>zone</th><th scope=col>predicted_label</th></tr></thead>\n",
       "<tbody>\n",
       "\t<tr><th scope=row>2255</th><td>0  </td><td>0  </td><td>0  </td><td>0  </td><td>0  </td><td>0  </td><td>0  </td><td>0  </td><td>0  </td><td>0  </td><td>...</td><td>0  </td><td>0  </td><td>0  </td><td>0  </td><td>0  </td><td>0  </td><td>0  </td><td>0  </td><td>0  </td><td>1  </td></tr>\n",
       "\t<tr><th scope=row>6859</th><td>0  </td><td>0  </td><td>0  </td><td>0  </td><td>0  </td><td>0  </td><td>0  </td><td>0  </td><td>0  </td><td>0  </td><td>...</td><td>0  </td><td>0  </td><td>0  </td><td>0  </td><td>0  </td><td>0  </td><td>0  </td><td>0  </td><td>0  </td><td>3  </td></tr>\n",
       "\t<tr><th scope=row>1833</th><td>0  </td><td>0  </td><td>0  </td><td>0  </td><td>0  </td><td>0  </td><td>0  </td><td>0  </td><td>0  </td><td>0  </td><td>...</td><td>0  </td><td>0  </td><td>0  </td><td>0  </td><td>0  </td><td>0  </td><td>0  </td><td>0  </td><td>0  </td><td>2  </td></tr>\n",
       "</tbody>\n",
       "</table>\n"
      ],
      "text/latex": [
       "\\begin{tabular}{r|llllllllllllllllllllllllllllllllllllllllllllllllllllllllllllllllllllllllllllllllllllllllllllllllllllllllllllllllllllllllllllllllllllllllllllllllllllllllllllllllllllllllllllllllllllllllllllllllllllllllllllllllllllllllllllllllllllllllllllllllllllllllllllllllllllllllllllllllllllllllllllllllllllllllllllllllllllllllllllllllllllllllllllllllllllllllllllllllllllllllllllllllllllllllllllllllllllllllllllllllllllllllllllllllllllllllllllllllllllllllllllllllllllllllllllllllllllllllllllllllllllllllllllllllllllllllllllllllllllllllllllllllllllllllllllllllllllllllllllllllllllllllllllllllllllllllllllllllllllllllllllllllllllllllllllllllllllllllllllllllllllllllllllllllllllllllllllllllllllllllllllllllllllllllllllllllllllllllllllllllllllllllllllllllllllllllllllllllllllllllllllllllllllllllllllllllllllllllllllllllllllllllllllllllllllllllllllllllllllllllllllllllllllllllllllllllllllllllllllllllllllllllllllllllllllllllllllllllllllllllllllllllllllllllllllllllllllllllllllllllllllllllllllllllllllllllllllllllllllllllllllllllllllllllllllllllllllllllllllllllllllllllllllllllllllllllllllllllllllllllllllllllllllllllllllllllllllllllllllllllllllllllllllllllllllllllllllllllllllllllllllllllllllllllllllllllllllllllllllllllllllllllllllllllllllllllllllllllllllllllllllllllllllllllllllllllllllllllllllllllllllllllllllllllllllllllllllllllllllllllllllllllllllllllllllllllllllllllllllllllllllllllllllllllllllllllllllllllllllllllllllllllllllllllllllllllllllllllllllllllllllllllllllllllllllllllllllllllllllllllllllllllllllllllllllllllllllllllllllllllllllllllllllllllllllllllllllllllllllllllllllllllllllllllllllllllllllllllllllllllllllllllllllllllllllllllllllllllllllllllllllllllll}\n",
       "  & abbott & abil & abl & abolish & abort & absolut & abus & accept & access & accid & ... & yearold & yet & york & young & your & youth & youv & zero & zone & predicted\\_label\\\\\n",
       "\\hline\n",
       "\t2255 & 0   & 0   & 0   & 0   & 0   & 0   & 0   & 0   & 0   & 0   & ... & 0   & 0   & 0   & 0   & 0   & 0   & 0   & 0   & 0   & 1  \\\\\n",
       "\t6859 & 0   & 0   & 0   & 0   & 0   & 0   & 0   & 0   & 0   & 0   & ... & 0   & 0   & 0   & 0   & 0   & 0   & 0   & 0   & 0   & 3  \\\\\n",
       "\t1833 & 0   & 0   & 0   & 0   & 0   & 0   & 0   & 0   & 0   & 0   & ... & 0   & 0   & 0   & 0   & 0   & 0   & 0   & 0   & 0   & 2  \\\\\n",
       "\\end{tabular}\n"
      ],
      "text/markdown": [
       "\n",
       "| <!--/--> | abbott | abil | abl | abolish | abort | absolut | abus | accept | access | accid | ... | yearold | yet | york | young | your | youth | youv | zero | zone | predicted_label |\n",
       "|---|---|---|---|---|---|---|---|---|---|---|---|---|---|---|---|---|---|---|---|---|---|\n",
       "| 2255 | 0   | 0   | 0   | 0   | 0   | 0   | 0   | 0   | 0   | 0   | ... | 0   | 0   | 0   | 0   | 0   | 0   | 0   | 0   | 0   | 1   |\n",
       "| 6859 | 0   | 0   | 0   | 0   | 0   | 0   | 0   | 0   | 0   | 0   | ... | 0   | 0   | 0   | 0   | 0   | 0   | 0   | 0   | 0   | 3   |\n",
       "| 1833 | 0   | 0   | 0   | 0   | 0   | 0   | 0   | 0   | 0   | 0   | ... | 0   | 0   | 0   | 0   | 0   | 0   | 0   | 0   | 0   | 2   |\n",
       "\n"
      ],
      "text/plain": [
       "     abbott abil abl abolish abort absolut abus accept access accid ... yearold\n",
       "2255 0      0    0   0       0     0       0    0      0      0     ... 0      \n",
       "6859 0      0    0   0       0     0       0    0      0      0     ... 0      \n",
       "1833 0      0    0   0       0     0       0    0      0      0     ... 0      \n",
       "     yet york young your youth youv zero zone predicted_label\n",
       "2255 0   0    0     0    0     0    0    0    1              \n",
       "6859 0   0    0     0    0     0    0    0    3              \n",
       "1833 0   0    0     0    0     0    0    0    2              "
      ]
     },
     "metadata": {},
     "output_type": "display_data"
    }
   ],
   "source": [
    "head(X_test_all, 3)"
   ]
  },
  {
   "cell_type": "markdown",
   "metadata": {},
   "source": [
    "#### The accuracy of the prediction is defined as the number of correct predictions over total number of predictions:"
   ]
  },
  {
   "cell_type": "code",
   "execution_count": 42,
   "metadata": {},
   "outputs": [],
   "source": [
    "score <- function(Y_test, Y_pred){length(Y_test[Y_test == Y_pred])/length(Y_test)} "
   ]
  },
  {
   "cell_type": "markdown",
   "metadata": {},
   "source": [
    "## Now Let's Wrap Up Everything Together! <a class=\"anchor\" id=\"wrap\"></a>"
   ]
  },
  {
   "cell_type": "markdown",
   "metadata": {},
   "source": [
    "## Cleaning and Filtering the Dataset [Compact Version]"
   ]
  },
  {
   "cell_type": "code",
   "execution_count": 29,
   "metadata": {},
   "outputs": [],
   "source": [
    "df_cleaner <- function(df, threshold, minfreq, binom){\n",
    "    \n",
    "    df_corp <- VCorpus(VectorSource(as.character(df$Text)))\n",
    "    df_corp <- tm_map(df_corp ,stripWhitespace)                #removing white spaces\n",
    "    df_dtm <-  DocumentTermMatrix(df_corp,\n",
    "                               control = list(tolower = TRUE,\n",
    "                                            removeNumbers = TRUE,\n",
    "                                            stopwords = TRUE,\n",
    "                                            removePunctuation = TRUE,\n",
    "                                            stemming = TRUE))\n",
    "if (binom==TRUE){\n",
    "\n",
    "    #finding frequent terms for each label:\n",
    "    fake_freq <- findFreqTerms(df_dtm [which(df$Labels==1), ],minfreq)\n",
    "    true_freq <- findFreqTerms(df_dtm [which(df$Labels==5), ],minfreq)\n",
    "\n",
    "    simil_words <- intersect(fake_freq,true_freq)\n",
    "\n",
    "    #finding the frequency of each word\n",
    "    frequency_true    <-  slam::col_sums(df_dtm[which(df$Labels==5), ])\n",
    "    frequency_fake    <-  slam::col_sums(df_dtm[which(df$Labels==1), ])\n",
    "\n",
    "    frequency_true    <-  frequency_true[frequency_true >= minfreq]\n",
    "    frequency_fake    <-  frequency_fake[frequency_fake >= minfreq]\n",
    "\n",
    "    frequency_df_true <-  data.frame(words  = names(frequency_true), freq.true = frequency_true , row.names = NULL)\n",
    "    frequency_df_fake <-  data.frame(words  = names(frequency_fake), freq.fake = frequency_fake , row.names = NULL)\n",
    "\n",
    "    frequency_df_true <-  frequency_df_true[order(-frequency_df_true$freq),]\n",
    "    frequency_df_fake <-  frequency_df_fake[order(-frequency_df_fake$freq),]\n",
    "\n",
    "    # cat('words among true the news:')\n",
    "    # head(frequency_df_true)\n",
    "    # cat('words among the fake news:')\n",
    "    # head(frequency_df_fake)\n",
    "\n",
    "    simil_true <- frequency_df_true[frequency_df_true$words %in% simil_words, ]\n",
    "    simil_fake <- frequency_df_fake[frequency_df_fake$words %in% simil_words, ]\n",
    "\n",
    "    all_simil  <- merge(simil_true, simil_fake, by=\"words\")\n",
    "\n",
    "    diff.func <- function(x, ouput){\n",
    "      A = as.numeric(x[2])\n",
    "      B = as.numeric(x[3])\n",
    "      rate <- 1- (min(A,B)/max(A,B))\n",
    "      return(rate)}\n",
    "    \n",
    "    all_simil <-cbind(all_simil, diff.rate= apply(all_simil ,1,diff.func))\n",
    "    # head(all_simil[order(-all_simil$diff.rate), ])\n",
    "    Word_List <- all_simil[all_simil$diff.rate < threshold, ]$words\n",
    "    # head(all_simil[all_simil$diff.rate < threshold, ])\n",
    "    \n",
    "    df_corp <- VCorpus(VectorSource(as.character(df$Text)))\n",
    "    df_corp <- tm_map(df_corp , stripWhitespace)                #removing white spaces\n",
    "    df_corp <- tm_map(df_corp , removeWords, Word_List)        #removing based on the Word List obtained via thresholding\n",
    "    df_dtm  <- DocumentTermMatrix(df_corp,\n",
    "                                   control = list(tolower = TRUE,\n",
    "                                                removeNumbers = TRUE,\n",
    "                                                stopwords = TRUE,\n",
    "                                                removePunctuation = TRUE,\n",
    "                                                stemming = TRUE))\n",
    "    }\n",
    "    \n",
    "freq_words <-  findFreqTerms(df_dtm,minfreq)  #minfreq is already defined## Threshold on frequecny of the word\n",
    "df_dtm     <-  df_dtm[,freq_words]      \n",
    " \n",
    "return(df_dtm)\n",
    "# options(repr.plot.width=4, repr.plot.height =3)  #changing size of plots\n",
    "# hist(all_simil$diff.rate)   \n",
    "}"
   ]
  },
  {
   "cell_type": "markdown",
   "metadata": {},
   "source": [
    "## Splitting Data into Train/Test Sets [Compact Version]"
   ]
  },
  {
   "cell_type": "code",
   "execution_count": 36,
   "metadata": {},
   "outputs": [],
   "source": [
    "train_test_splitter <- function(df_dtm, df, test_ratio, SEED){\n",
    "\n",
    "    X   <- data.frame(as.matrix(df_dtm), stringsAsFactors=FALSE)\n",
    "    Y   <- df$Labels\n",
    "    \n",
    "    set.seed(SEED)\n",
    "    test_size  <- as.integer(nrow(X)* test_ratio)\n",
    "    train_size <- nrow(X) - test_size\n",
    "\n",
    "    test_index <- sample(seq(1:nrow(X)), test_size)\n",
    "\n",
    "    X_test    <<- X[test_index, ]         #reading the features from the document term matrix\n",
    "    Y_test    <<- Y[test_index  ]     #reading the labels from the initial dataframe\n",
    "\n",
    "    X_train   <<- X[! seq(1:nrow(X)) %in% test_index, ]\n",
    "    Y_train   <<- Y[! seq(1:nrow(X)) %in% test_index  ]\n",
    "    \n",
    "    X_val     <<- X_train[1: (as.integer(nrow(X_train) * 0.18)),]\n",
    "    Y_val     <<- Y_train[1: (as.integer(nrow(X_train) * 0.18)) ]\n",
    "    \n",
    "    \n",
    "    X_train   <<- X_train[((as.integer(nrow(X_train)   * 0.18))+1) : nrow(X_train) ,  ] \n",
    "    Y_train   <<- Y_train[((as.integer(length(Y_train) * 0.18))+1) : length(Y_train)  ]\n",
    "}"
   ]
  },
  {
   "cell_type": "markdown",
   "metadata": {},
   "source": [
    "## The Classifier and The Predictor Functions"
   ]
  },
  {
   "cell_type": "code",
   "execution_count": 54,
   "metadata": {},
   "outputs": [],
   "source": [
    "Train <- function(X_train, Y_train){\n",
    "    df_count <- aggregate(.~Y_train, cbind(X_train, Y_train), sum) #grouping by labels and counting the frequency\n",
    "    df_count <- df_count + 1 #adding one to all the counts\n",
    "    df_count$Y_train <- NULL\n",
    "    df_count$total.num <- rowSums(df_count)\n",
    "    df_count <- cbind(label.list, df_count)\n",
    "    colnames(df_count)[1] <- \"Label\"\n",
    "    label.density <- hm$density[hm$density >0]\n",
    "    df_count$label.density <- label.density ;no.col <- ncol(df_count) -2\n",
    "    for (i in 1:length(label.list)){df_count[i,2:no.col]  <- df_count[i, 2: no.col]/df_count$total.num[i]} #loop on 5 indexes\n",
    "    return(df_count)}\n",
    "\n",
    "Predict <- function(nbc, X_test){\n",
    "\n",
    "    df.one.func <- function(x, output){\n",
    "        \n",
    "        df.one <- nbc[, c(1, ncol(nbc), which(x != 0) + 1)]\n",
    "\n",
    "        power       <-  c(1,1, x[which(x != 0 )])\n",
    "        power.func  <- function(x, ouput){return(x <- x**power)} #each prob to the power of repeatence        \n",
    "        df.one      <- t(apply(df.one ,1, power.func))           #applyting the power function\n",
    "        df.one      <- data.frame(df.one)\n",
    "        \n",
    "        prob.finder <- function(x, ouput){return(prod(x[2:length(x)]))}\n",
    "        df.final    <-cbind(df.one, Label.Prob = apply(df.one, 1, prob.finder))\n",
    "        \n",
    "        predicted_label <- df.final$Label[which(df.final$Label.Prob == max(df.final$Label.Prob))]\n",
    "\n",
    "        return(predicted_label)}\n",
    "    \n",
    "    X_test_all <-cbind(X_test, predicted_label= apply(X_test ,1,df.one.func))\n",
    "    return(X_test_all$predicted_label)}"
   ]
  },
  {
   "cell_type": "code",
   "execution_count": 32,
   "metadata": {},
   "outputs": [],
   "source": [
    "score <- function(Y_train, Y_pred){length(Y_train[Y_train == Y_pred])/length(Y_train)}"
   ]
  },
  {
   "cell_type": "markdown",
   "metadata": {},
   "source": [
    "## Now we repeat the previous procedure using functions [Multinomial Classification] <a class=\"anchor\" id=\"multi\"></a>"
   ]
  },
  {
   "cell_type": "markdown",
   "metadata": {},
   "source": [
    "### Reading the Data"
   ]
  },
  {
   "cell_type": "code",
   "execution_count": 36,
   "metadata": {},
   "outputs": [
    {
     "name": "stdout",
     "output_type": "stream",
     "text": [
      "filtered dataset size: 10240"
     ]
    }
   ],
   "source": [
    "#=======filtering the dataset keeping just the label 5:true and 1:false========#\n",
    "\n",
    "label.list <- c(0,1,2,3,4,5)   #the labels:0,1,2,3,4,5\n",
    "\n",
    "#==============================================================================#\n",
    "\n",
    "options(repr.plot.width=5, repr.plot.height =3)    #changing size of plots\n",
    "df <- DF[DF$Labels %in% label.list, ] #the labels:0,1,2,3,4,5\n",
    "cat(\"filtered dataset size:\", nrow(df))\n",
    "hm <- hist(df$Labels, plot = FALSE)  #saving for later use in the predictor function"
   ]
  },
  {
   "cell_type": "markdown",
   "metadata": {},
   "source": [
    "### Preprocessing on Data"
   ]
  },
  {
   "cell_type": "code",
   "execution_count": 37,
   "metadata": {},
   "outputs": [],
   "source": [
    "df_dtm <- df_cleaner(df, threshold= 0, minfreq = 10, binom = FALSE)"
   ]
  },
  {
   "cell_type": "markdown",
   "metadata": {},
   "source": [
    "### Splitting Dataset into Train/Test Set"
   ]
  },
  {
   "cell_type": "code",
   "execution_count": 38,
   "metadata": {},
   "outputs": [
    {
     "name": "stdout",
     "output_type": "stream",
     "text": [
      "Train Set Size: 7138\n",
      "Test  Set Size: 1536\n",
      "Validation Set Size: 1566"
     ]
    }
   ],
   "source": [
    "train_test_splitter(df_dtm, df, test_ratio=0.15, SEED= 5)"
   ]
  },
  {
   "cell_type": "markdown",
   "metadata": {},
   "source": [
    "### Training the Model"
   ]
  },
  {
   "cell_type": "code",
   "execution_count": 50,
   "metadata": {},
   "outputs": [],
   "source": [
    "nbc <- Train(X_train, Y_train)"
   ]
  },
  {
   "cell_type": "markdown",
   "metadata": {},
   "source": [
    "### Predicting the Labels on Test Set"
   ]
  },
  {
   "cell_type": "code",
   "execution_count": 51,
   "metadata": {},
   "outputs": [],
   "source": [
    "Y_pred_train <- Predict(nbc, X_train)\n",
    "Y_pred       <- Predict(nbc, X_test)"
   ]
  },
  {
   "cell_type": "markdown",
   "metadata": {},
   "source": [
    "### Accuracy of the Prediction"
   ]
  },
  {
   "cell_type": "code",
   "execution_count": 52,
   "metadata": {},
   "outputs": [
    {
     "name": "stdout",
     "output_type": "stream",
     "text": [
      "Train accuracy: 0.4819277\n",
      "Test  accuracy: 0.2063802"
     ]
    }
   ],
   "source": [
    "cat(\"Train accuracy:\",     score(Y_train, Y_pred_train))\n",
    "cat(\"\\nTest  accuracy:\",   score(Y_test, Y_pred))"
   ]
  },
  {
   "cell_type": "markdown",
   "metadata": {},
   "source": [
    "### The Accuracy so low?! What's the problem? Are we doing something wrong in the code?"
   ]
  },
  {
   "cell_type": "markdown",
   "metadata": {},
   "source": [
    "### Let's See What is Result using Libraries: "
   ]
  },
  {
   "cell_type": "markdown",
   "metadata": {},
   "source": [
    "### NaiveBayes classifer from e1071 library"
   ]
  },
  {
   "cell_type": "markdown",
   "metadata": {},
   "source": [
    "It seems that this library needs also some other modification to perfrom properly:"
   ]
  },
  {
   "cell_type": "code",
   "execution_count": 44,
   "metadata": {},
   "outputs": [],
   "source": [
    "convert_counts <- function(x){x <- ifelse(x>0,\"Yes\",\"No\") }\n",
    "x_train <-  apply(X_train ,  MARGIN = 2,convert_counts)\n",
    "x_test  <-  apply(X_test  ,  MARGIN = 2,convert_counts)"
   ]
  },
  {
   "cell_type": "code",
   "execution_count": 46,
   "metadata": {},
   "outputs": [],
   "source": [
    "NBC <- naiveBayes(x_train, Y_train) #Navive Bayesian Classifer\n",
    "\n",
    "Y_train_pred <- predict(NBC, x_train)\n",
    "Y_pred       <- predict(NBC, x_test)"
   ]
  },
  {
   "cell_type": "code",
   "execution_count": 47,
   "metadata": {},
   "outputs": [
    {
     "data": {
      "text/plain": [
       "            Y_train\n",
       "Y_train_pred   0   1   2   3   4   5\n",
       "           0 529 157 168 131  52  84\n",
       "           1 150 668 195 152  67 137\n",
       "           2 157 165 633 155  37 137\n",
       "           3 135 160 203 664  45 161\n",
       "           4  78 107  98  67 342  80\n",
       "           5 111 137 182 184  40 570"
      ]
     },
     "metadata": {},
     "output_type": "display_data"
    },
    {
     "name": "stdout",
     "output_type": "stream",
     "text": [
      "Train accuracy: 0.4771645\n",
      "Test  accuracy: 0.2148438"
     ]
    }
   ],
   "source": [
    "table_train  <- table(Y_train_pred ,Y_train)\n",
    "table_train\n",
    "\n",
    "cat(\"Train accuracy:\",     score(Y_train, Y_train_pred))\n",
    "cat(\"\\nTest  accuracy:\",   score(Y_test, Y_pred))"
   ]
  },
  {
   "cell_type": "markdown",
   "metadata": {},
   "source": [
    "### NaiveBayes classifer from fastnaive library"
   ]
  },
  {
   "cell_type": "code",
   "execution_count": null,
   "metadata": {},
   "outputs": [],
   "source": [
    "fast.NBC     <- fnb.multinomial(X_train, Y_train)\n",
    "\n",
    "Y_train_pred <- predict(fast.NBC, X_train)\n",
    "Y_pred       <- predict(fast.NBC, X_test)\n",
    "\n",
    "cat(\"Train accuracy:\",     score(Y_train, Y_pred_train))\n",
    "cat(\"\\nTest  accuracy:\",   score(Y_test, Y_pred))"
   ]
  },
  {
   "cell_type": "markdown",
   "metadata": {},
   "source": [
    "## Also Not Good Accuracies with other Libraries"
   ]
  },
  {
   "cell_type": "markdown",
   "metadata": {},
   "source": [
    "## Let's Consider a Simpler Case for a moment, A case with only true or false Labels:"
   ]
  },
  {
   "cell_type": "markdown",
   "metadata": {},
   "source": [
    "# Binomial Classification <a class=\"anchor\" id=\"bino\"></a>"
   ]
  },
  {
   "cell_type": "markdown",
   "metadata": {},
   "source": [
    "#### Now we try the case with only two labels, True = 5, Fake = 1 . All the prcodures are similar to the multinomial case"
   ]
  },
  {
   "cell_type": "code",
   "execution_count": 1,
   "metadata": {},
   "outputs": [],
   "source": [
    "DF <- read.csv(\"./data/train.csv\")"
   ]
  },
  {
   "cell_type": "code",
   "execution_count": 2,
   "metadata": {},
   "outputs": [
    {
     "name": "stdout",
     "output_type": "stream",
     "text": [
      "filtered dataset size: 3671"
     ]
    }
   ],
   "source": [
    "#=======filtering the dataset keeping just the label 5:true and 1:false========#\n",
    "\n",
    "label.list <- c(1,5)   #the labels:0,1,2,3,4,5\n",
    "\n",
    "#==============================================================================#\n",
    "\n",
    "options(repr.plot.width=5, repr.plot.height =3)    #changing size of plots\n",
    "df <- DF[DF$Labels %in% label.list, ] #the labels:0,1,2,3,4,5\n",
    "cat(\"filtered dataset size:\", nrow(df))\n",
    "hm <- hist(df$Labels, plot = FALSE)  #saving for later use in the predictor function"
   ]
  },
  {
   "cell_type": "code",
   "execution_count": 3,
   "metadata": {},
   "outputs": [
    {
     "ename": "ERROR",
     "evalue": "Error in df_cleaner(df, threshold = 0.3, minfreq = 10, binom = TRUE): could not find function \"df_cleaner\"\n",
     "output_type": "error",
     "traceback": [
      "Error in df_cleaner(df, threshold = 0.3, minfreq = 10, binom = TRUE): could not find function \"df_cleaner\"\nTraceback:\n"
     ]
    }
   ],
   "source": [
    "df_dtm <- df_cleaner(df, threshold= 0.3, minfreq = 10, binom = TRUE)\n",
    "train_test_splitter(df_dtm, df, test_ratio=0.15, SEED= 5)\n",
    "nbc <- Train(X_train, Y_train)\n",
    "Y_pred_train <- Predict(nbc, X_train)\n",
    "Y_pred       <- Predict(nbc, X_test)"
   ]
  },
  {
   "cell_type": "code",
   "execution_count": 60,
   "metadata": {},
   "outputs": [
    {
     "name": "stdout",
     "output_type": "stream",
     "text": [
      "Train accuracy: 0.7246094\n",
      "Test  accuracy: 0.5818182"
     ]
    }
   ],
   "source": [
    "cat(\"Train accuracy:\",     score(Y_train, Y_pred_train))\n",
    "cat(\"\\nTest  accuracy:\",   score(Y_test, Y_pred))"
   ]
  },
  {
   "cell_type": "markdown",
   "metadata": {},
   "source": [
    "#### The Accuracy in the case of binomial classification is pretty higher but still not something significant."
   ]
  },
  {
   "cell_type": "markdown",
   "metadata": {},
   "source": [
    "### Let's take a deeper look into the dataframe:"
   ]
  },
  {
   "cell_type": "markdown",
   "metadata": {},
   "source": [
    "## A Survey on The Terms and Words of the Dataset [for the binomial case] <a class=\"anchor\" id=\"deep\"></a>"
   ]
  },
  {
   "cell_type": "markdown",
   "metadata": {},
   "source": [
    "In this part we examine the freqeuncy of each words in each label (1 or 5). Just as an example, considering the word \"allow\". We see that it is repeated 70 times in label 1 and 60 times in label 5. This small differnce deos not help the model to be well trained. But on the other hand when a word has been like 40 times in label 1 and 10 times in label 5. This large differnce will help the classifer to distinguish the label 1 from label 5. "
   ]
  },
  {
   "cell_type": "markdown",
   "metadata": {},
   "source": [
    "#### The idea is to set a threshold on the differnce of a specific word in both labels. The words not meeting this criteria will be removed"
   ]
  },
  {
   "cell_type": "markdown",
   "metadata": {},
   "source": [
    "We set the mean frequcny as the following:"
   ]
  },
  {
   "cell_type": "code",
   "execution_count": 87,
   "metadata": {},
   "outputs": [],
   "source": [
    "minfreq   <- 10 "
   ]
  },
  {
   "cell_type": "code",
   "execution_count": 88,
   "metadata": {},
   "outputs": [],
   "source": [
    "# fake_freq <- findFreqTerms(df_dtm [which(df$Labels==1), ], minfreq)\n",
    "# true_freq <- findFreqTerms(df_dtm [which(df$Labels==5), ], minfreq)"
   ]
  },
  {
   "cell_type": "markdown",
   "metadata": {},
   "source": [
    "#### We apply the process on similar words (otherwise how we are supposed to meausre the differnce)"
   ]
  },
  {
   "cell_type": "code",
   "execution_count": 89,
   "metadata": {},
   "outputs": [],
   "source": [
    "simil_words <- intersect(fake_freq,true_freq)"
   ]
  },
  {
   "cell_type": "code",
   "execution_count": 90,
   "metadata": {},
   "outputs": [],
   "source": [
    "#finding the frequency of each word\n",
    "frequency_true    <-  slam::col_sums(df_dtm[which(df$Labels==5), ])\n",
    "frequency_fake    <-  slam::col_sums(df_dtm[which(df$Labels==1), ])"
   ]
  },
  {
   "cell_type": "markdown",
   "metadata": {},
   "source": [
    "#### Then sperate two lables and filter them with the minfreq as the minimum frequcny \n"
   ]
  },
  {
   "cell_type": "code",
   "execution_count": 91,
   "metadata": {},
   "outputs": [],
   "source": [
    "frequency_true    <-  frequency_true[frequency_true >= minfreq]\n",
    "frequency_fake    <-  frequency_fake[frequency_fake >= minfreq]"
   ]
  },
  {
   "cell_type": "code",
   "execution_count": 92,
   "metadata": {},
   "outputs": [],
   "source": [
    "#some calculations done here but there is no new concept\n",
    "frequency_df_true <-  data.frame(words  = names(frequency_true), freq.true = frequency_true , row.names = NULL)\n",
    "frequency_df_fake <-  data.frame(words  = names(frequency_fake), freq.fake = frequency_fake , row.names = NULL)"
   ]
  },
  {
   "cell_type": "code",
   "execution_count": 93,
   "metadata": {},
   "outputs": [],
   "source": [
    "frequency_df_true <-  frequency_df_true[order(-frequency_df_true$freq),]\n",
    "frequency_df_fake <-  frequency_df_fake[order(-frequency_df_fake$freq),]"
   ]
  },
  {
   "cell_type": "markdown",
   "metadata": {},
   "source": [
    "#### We can see the freqency of each word in each label"
   ]
  },
  {
   "cell_type": "code",
   "execution_count": 94,
   "metadata": {},
   "outputs": [
    {
     "name": "stdout",
     "output_type": "stream",
     "text": [
      "words among the true news:"
     ]
    },
    {
     "data": {
      "text/html": [
       "<table>\n",
       "<thead><tr><th></th><th scope=col>words</th><th scope=col>freq.true</th></tr></thead>\n",
       "<tbody>\n",
       "\t<tr><th scope=row>243</th><td>say    </td><td>338    </td></tr>\n",
       "\t<tr><th scope=row>198</th><td>percent</td><td>243    </td></tr>\n",
       "\t<tr><th scope=row>263</th><td>state  </td><td>127    </td></tr>\n",
       "\t<tr><th scope=row>310</th><td>year   </td><td>120    </td></tr>\n",
       "\t<tr><th scope=row>185</th><td>obama  </td><td> 94    </td></tr>\n",
       "\t<tr><th scope=row>128</th><td>health </td><td> 91    </td></tr>\n",
       "</tbody>\n",
       "</table>\n"
      ],
      "text/latex": [
       "\\begin{tabular}{r|ll}\n",
       "  & words & freq.true\\\\\n",
       "\\hline\n",
       "\t243 & say     & 338    \\\\\n",
       "\t198 & percent & 243    \\\\\n",
       "\t263 & state   & 127    \\\\\n",
       "\t310 & year    & 120    \\\\\n",
       "\t185 & obama   &  94    \\\\\n",
       "\t128 & health  &  91    \\\\\n",
       "\\end{tabular}\n"
      ],
      "text/markdown": [
       "\n",
       "| <!--/--> | words | freq.true |\n",
       "|---|---|---|\n",
       "| 243 | say     | 338     |\n",
       "| 198 | percent | 243     |\n",
       "| 263 | state   | 127     |\n",
       "| 310 | year    | 120     |\n",
       "| 185 | obama   |  94     |\n",
       "| 128 | health  |  91     |\n",
       "\n"
      ],
      "text/plain": [
       "    words   freq.true\n",
       "243 say     338      \n",
       "198 percent 243      \n",
       "263 state   127      \n",
       "310 year    120      \n",
       "185 obama    94      \n",
       "128 health   91      "
      ]
     },
     "metadata": {},
     "output_type": "display_data"
    },
    {
     "name": "stdout",
     "output_type": "stream",
     "text": [
      "words among the fake news:"
     ]
    },
    {
     "data": {
      "text/html": [
       "<table>\n",
       "<thead><tr><th></th><th scope=col>words</th><th scope=col>freq.fake</th></tr></thead>\n",
       "<tbody>\n",
       "\t<tr><th scope=row>272</th><td>say    </td><td>504    </td></tr>\n",
       "\t<tr><th scope=row>207</th><td>obama  </td><td>190    </td></tr>\n",
       "\t<tr><th scope=row>231</th><td>presid </td><td>155    </td></tr>\n",
       "\t<tr><th scope=row>221</th><td>percent</td><td>152    </td></tr>\n",
       "\t<tr><th scope=row>142</th><td>health </td><td>137    </td></tr>\n",
       "\t<tr><th scope=row>294</th><td>state  </td><td>121    </td></tr>\n",
       "</tbody>\n",
       "</table>\n"
      ],
      "text/latex": [
       "\\begin{tabular}{r|ll}\n",
       "  & words & freq.fake\\\\\n",
       "\\hline\n",
       "\t272 & say     & 504    \\\\\n",
       "\t207 & obama   & 190    \\\\\n",
       "\t231 & presid  & 155    \\\\\n",
       "\t221 & percent & 152    \\\\\n",
       "\t142 & health  & 137    \\\\\n",
       "\t294 & state   & 121    \\\\\n",
       "\\end{tabular}\n"
      ],
      "text/markdown": [
       "\n",
       "| <!--/--> | words | freq.fake |\n",
       "|---|---|---|\n",
       "| 272 | say     | 504     |\n",
       "| 207 | obama   | 190     |\n",
       "| 231 | presid  | 155     |\n",
       "| 221 | percent | 152     |\n",
       "| 142 | health  | 137     |\n",
       "| 294 | state   | 121     |\n",
       "\n"
      ],
      "text/plain": [
       "    words   freq.fake\n",
       "272 say     504      \n",
       "207 obama   190      \n",
       "231 presid  155      \n",
       "221 percent 152      \n",
       "142 health  137      \n",
       "294 state   121      "
      ]
     },
     "metadata": {},
     "output_type": "display_data"
    }
   ],
   "source": [
    "cat('words among the true news:')\n",
    "head(frequency_df_true)\n",
    "cat('words among the fake news:')\n",
    "head(frequency_df_fake)"
   ]
  },
  {
   "cell_type": "markdown",
   "metadata": {},
   "source": [
    "and putting those tables together we get:"
   ]
  },
  {
   "cell_type": "code",
   "execution_count": 95,
   "metadata": {},
   "outputs": [
    {
     "data": {
      "text/html": [
       "<table>\n",
       "<thead><tr><th scope=col>words</th><th scope=col>freq.true</th><th scope=col>freq.fake</th></tr></thead>\n",
       "<tbody>\n",
       "\t<tr><td>abort    </td><td>24       </td><td>42       </td></tr>\n",
       "\t<tr><td>act      </td><td>13       </td><td>24       </td></tr>\n",
       "\t<tr><td>actual   </td><td>24       </td><td>18       </td></tr>\n",
       "\t<tr><td>administr</td><td>17       </td><td>29       </td></tr>\n",
       "\t<tr><td>ago      </td><td>21       </td><td>11       </td></tr>\n",
       "\t<tr><td>allow    </td><td>15       </td><td>16       </td></tr>\n",
       "</tbody>\n",
       "</table>\n"
      ],
      "text/latex": [
       "\\begin{tabular}{r|lll}\n",
       " words & freq.true & freq.fake\\\\\n",
       "\\hline\n",
       "\t abort     & 24        & 42       \\\\\n",
       "\t act       & 13        & 24       \\\\\n",
       "\t actual    & 24        & 18       \\\\\n",
       "\t administr & 17        & 29       \\\\\n",
       "\t ago       & 21        & 11       \\\\\n",
       "\t allow     & 15        & 16       \\\\\n",
       "\\end{tabular}\n"
      ],
      "text/markdown": [
       "\n",
       "| words | freq.true | freq.fake |\n",
       "|---|---|---|\n",
       "| abort     | 24        | 42        |\n",
       "| act       | 13        | 24        |\n",
       "| actual    | 24        | 18        |\n",
       "| administr | 17        | 29        |\n",
       "| ago       | 21        | 11        |\n",
       "| allow     | 15        | 16        |\n",
       "\n"
      ],
      "text/plain": [
       "  words     freq.true freq.fake\n",
       "1 abort     24        42       \n",
       "2 act       13        24       \n",
       "3 actual    24        18       \n",
       "4 administr 17        29       \n",
       "5 ago       21        11       \n",
       "6 allow     15        16       "
      ]
     },
     "metadata": {},
     "output_type": "display_data"
    }
   ],
   "source": [
    "simil_true <- frequency_df_true[frequency_df_true$words %in% simil_words, ]\n",
    "simil_fake <- frequency_df_fake[frequency_df_fake$words %in% simil_words, ]\n",
    "all_simil  <- merge(simil_true, simil_fake, by=\"words\")\n",
    "head(all_simil)"
   ]
  },
  {
   "cell_type": "markdown",
   "metadata": {},
   "source": [
    "#### Now having the frequency of each label for each word, we can calculate a kind of differnce between those two frequencies. The following function does that:"
   ]
  },
  {
   "cell_type": "code",
   "execution_count": 96,
   "metadata": {},
   "outputs": [],
   "source": [
    "diff.func <- function(x, ouput){\n",
    "      A = as.numeric(x[2])\n",
    "      B = as.numeric(x[3])\n",
    "      rate <- 1- (min(A,B)/max(A,B))\n",
    "      return(rate)}"
   ]
  },
  {
   "cell_type": "code",
   "execution_count": 97,
   "metadata": {},
   "outputs": [
    {
     "data": {
      "text/html": [
       "<table>\n",
       "<thead><tr><th scope=col>words</th><th scope=col>freq.true</th><th scope=col>freq.fake</th><th scope=col>diff.rate</th></tr></thead>\n",
       "<tbody>\n",
       "\t<tr><td>abort    </td><td>24       </td><td>42       </td><td>0.4285714</td></tr>\n",
       "\t<tr><td>act      </td><td>13       </td><td>24       </td><td>0.4583333</td></tr>\n",
       "\t<tr><td>actual   </td><td>24       </td><td>18       </td><td>0.2500000</td></tr>\n",
       "\t<tr><td>administr</td><td>17       </td><td>29       </td><td>0.4137931</td></tr>\n",
       "\t<tr><td>ago      </td><td>21       </td><td>11       </td><td>0.4761905</td></tr>\n",
       "\t<tr><td>allow    </td><td>15       </td><td>16       </td><td>0.0625000</td></tr>\n",
       "</tbody>\n",
       "</table>\n"
      ],
      "text/latex": [
       "\\begin{tabular}{r|llll}\n",
       " words & freq.true & freq.fake & diff.rate\\\\\n",
       "\\hline\n",
       "\t abort     & 24        & 42        & 0.4285714\\\\\n",
       "\t act       & 13        & 24        & 0.4583333\\\\\n",
       "\t actual    & 24        & 18        & 0.2500000\\\\\n",
       "\t administr & 17        & 29        & 0.4137931\\\\\n",
       "\t ago       & 21        & 11        & 0.4761905\\\\\n",
       "\t allow     & 15        & 16        & 0.0625000\\\\\n",
       "\\end{tabular}\n"
      ],
      "text/markdown": [
       "\n",
       "| words | freq.true | freq.fake | diff.rate |\n",
       "|---|---|---|---|\n",
       "| abort     | 24        | 42        | 0.4285714 |\n",
       "| act       | 13        | 24        | 0.4583333 |\n",
       "| actual    | 24        | 18        | 0.2500000 |\n",
       "| administr | 17        | 29        | 0.4137931 |\n",
       "| ago       | 21        | 11        | 0.4761905 |\n",
       "| allow     | 15        | 16        | 0.0625000 |\n",
       "\n"
      ],
      "text/plain": [
       "  words     freq.true freq.fake diff.rate\n",
       "1 abort     24        42        0.4285714\n",
       "2 act       13        24        0.4583333\n",
       "3 actual    24        18        0.2500000\n",
       "4 administr 17        29        0.4137931\n",
       "5 ago       21        11        0.4761905\n",
       "6 allow     15        16        0.0625000"
      ]
     },
     "metadata": {},
     "output_type": "display_data"
    }
   ],
   "source": [
    "all_simil <-cbind(all_simil, diff.rate= apply(all_simil ,1,diff.func))\n",
    "# head(all_simil[order(-all_simil$diff.rate), ])\n",
    "head(all_simil)"
   ]
  },
  {
   "cell_type": "markdown",
   "metadata": {},
   "source": [
    "#### Plotting the histogram of these differences leads to:"
   ]
  },
  {
   "cell_type": "code",
   "execution_count": 98,
   "metadata": {},
   "outputs": [
    {
     "data": {
      "image/png": "[encoded data removed]",
      "text/plain": [
       "Plot with title \"Histogram of all_simil$diff.rate\""
      ]
     },
     "metadata": {},
     "output_type": "display_data"
    }
   ],
   "source": [
    "hist(all_simil$diff.rate)"
   ]
  },
  {
   "cell_type": "markdown",
   "metadata": {},
   "source": [
    "#### Now we set a threshold on these differences"
   ]
  },
  {
   "cell_type": "code",
   "execution_count": 99,
   "metadata": {},
   "outputs": [],
   "source": [
    "threshold <- 0.3"
   ]
  },
  {
   "cell_type": "markdown",
   "metadata": {},
   "source": [
    "#### Then we drop all the words not meeting this threshold using the function df_cleaner."
   ]
  },
  {
   "cell_type": "code",
   "execution_count": 100,
   "metadata": {},
   "outputs": [],
   "source": [
    "Word_List <- all_simil[all_simil$diff.rate < threshold, ]$words\n",
    "# head(all_simil[all_simil$diff.rate < threshold, ])"
   ]
  },
  {
   "cell_type": "code",
   "execution_count": 101,
   "metadata": {},
   "outputs": [],
   "source": [
    "# df_corp <- VCorpus(VectorSource(as.character(df$Text)))\n",
    "# df_corp <- tm_map(df_corp , stripWhitespace)                #removing white spaces\n",
    "# df_corp <- tm_map(df_corp , removeWords, Word_List)        #removing based on the Word List obtained via thresholding\n",
    "# df_dtm  <- DocumentTermMatrix(df_corp,\n",
    "#                                control = list(tolower = TRUE,\n",
    "#                                             removeNumbers = TRUE,\n",
    "#                                             stopwords = TRUE,\n",
    "#                                             removePunctuation = TRUE,\n",
    "#                                             stemming = TRUE))"
   ]
  },
  {
   "cell_type": "markdown",
   "metadata": {},
   "source": [
    "### ...and the reuslt?"
   ]
  },
  {
   "cell_type": "code",
   "execution_count": 102,
   "metadata": {},
   "outputs": [
    {
     "name": "stdout",
     "output_type": "stream",
     "text": [
      "Train Set Size: 2560\n",
      "Test  Set Size: 550\n",
      "Validation Set Size: 561"
     ]
    }
   ],
   "source": [
    "df_dtm <- df_cleaner(df, threshold= 0.3, minfreq = 10, binom = TRUE)\n",
    "train_test_splitter(df_dtm, df, test_ratio=0.15, SEED= 5)\n",
    "nbc <- Train(X_train, Y_train)\n",
    "Y_pred_train <- Predict(nbc, X_train)\n",
    "Y_pred       <- Predict(nbc, X_test)"
   ]
  },
  {
   "cell_type": "code",
   "execution_count": 103,
   "metadata": {},
   "outputs": [
    {
     "name": "stdout",
     "output_type": "stream",
     "text": [
      "Train accuracy: 0.7246094\n",
      "Test  accuracy: 0.6163636"
     ]
    }
   ],
   "source": [
    "cat(\"Train accuracy:\",     score(Y_train, Y_pred_train))\n",
    "cat(\"\\nTest  accuracy:\",   score(Y_test, Y_pred))"
   ]
  },
  {
   "cell_type": "markdown",
   "metadata": {},
   "source": [
    "As we can see the train accuracy is the same but now the test accuracy seems to be little larger! Indeed a valid investigation of  the effect of thresholding should involve averaging over differnt seeds, but let's keep this parameter as a way to reduce the complexity of the model."
   ]
  },
  {
   "cell_type": "markdown",
   "metadata": {},
   "source": [
    "## Hyper Parameter Tuning (Multinomial Case) <a class=\"anchor\" id=\"hyper\"></a>"
   ]
  },
  {
   "cell_type": "markdown",
   "metadata": {},
   "source": [
    "As an essential part of any machine learning task we perform hyper paramter tuning to reduce the train a better predictor and also reduce the complexity of the model. For the Multinomial case we only consider minfreq, the minimum number a word is repeated in the dataframe as our hyper parameter. Later for the case of binomial, our defined threshold will be also considered. "
   ]
  },
  {
   "cell_type": "code",
   "execution_count": 59,
   "metadata": {},
   "outputs": [],
   "source": [
    "minfreq.list   <- c(10, 15, 20, 25, 30)   #minfreq > 10"
   ]
  },
  {
   "cell_type": "code",
   "execution_count": 70,
   "metadata": {},
   "outputs": [],
   "source": [
    "label.list <- c(0,1,2,3,4,5)   #the labels:0,1,2,3,4,5\n",
    "df <- DF[DF$Labels %in% label.list, ] #the labels:0,1,2,3,4,5\n",
    "hm <- hist(df$Labels, plot = FALSE)  #saving for later use in the predictor function"
   ]
  },
  {
   "cell_type": "code",
   "execution_count": 71,
   "metadata": {},
   "outputs": [],
   "source": [
    "grid <- data.frame(matrix(ncol = 3, nrow = 0))\n",
    "params <- c(\"min.frequecny\", \"train.acc\", \"val.acc\")\n",
    "colnames(grid) <- params"
   ]
  },
  {
   "cell_type": "code",
   "execution_count": 72,
   "metadata": {},
   "outputs": [],
   "source": [
    "# for (minfreq in minfreq.list){\n",
    "#     df_dtm <- df_cleaner(df, threshold=0, minfreq, binom = FALSE)\n",
    "#     train.acc <- vector() ; val.acc  <- vector()\n",
    "#     for (SEED in 1:20){               #averaging over some number of seeds\n",
    "#         train_test_splitter(df_dtm, df, test_ratio = 0.15, SEED)\n",
    "#         nbc <-Train(X_train, Y_train) #training process\n",
    "#         #         train.acc <- append(train.acc, score(Y_train, Predict(nbc, X_train)))  #storing the train accuracy\n",
    "#         train.acc <- 1\n",
    "#         val.acc  <-  append(val.acc,  score(Y_val,  Predict(nbc, X_val )))     #storing the validation accuracy\n",
    "#         }\n",
    "\n",
    "#     grid[nrow(grid) + 1,] = c(minfreq, mean(train.acc), mean(val.acc))\n",
    "#     }\n",
    "\n",
    "# write.csv(grid, \"./data_res/gridsearch_multi_new.csv\")"
   ]
  },
  {
   "cell_type": "code",
   "execution_count": 91,
   "metadata": {},
   "outputs": [],
   "source": [
    "grid <- read.csv(\"./data_res/gridsearch_multi.csv\")"
   ]
  },
  {
   "cell_type": "code",
   "execution_count": 92,
   "metadata": {},
   "outputs": [
    {
     "data": {
      "text/html": [
       "<table>\n",
       "<thead><tr><th></th><th scope=col>X</th><th scope=col>min.frequecny</th><th scope=col>train.acc</th><th scope=col>val.acc</th></tr></thead>\n",
       "<tbody>\n",
       "\t<tr><th scope=row>1</th><td>1        </td><td>10       </td><td>0.4688428</td><td>0.2279693</td></tr>\n",
       "\t<tr><th scope=row>4</th><td>4        </td><td>25       </td><td>0.3797282</td><td>0.2269476</td></tr>\n",
       "\t<tr><th scope=row>2</th><td>2        </td><td>15       </td><td>0.4340852</td><td>0.2263729</td></tr>\n",
       "\t<tr><th scope=row>5</th><td>5        </td><td>30       </td><td>0.3648641</td><td>0.2243295</td></tr>\n",
       "\t<tr><th scope=row>3</th><td>3        </td><td>20       </td><td>0.4028019</td><td>0.2226692</td></tr>\n",
       "</tbody>\n",
       "</table>\n"
      ],
      "text/latex": [
       "\\begin{tabular}{r|llll}\n",
       "  & X & min.frequecny & train.acc & val.acc\\\\\n",
       "\\hline\n",
       "\t1 & 1         & 10        & 0.4688428 & 0.2279693\\\\\n",
       "\t4 & 4         & 25        & 0.3797282 & 0.2269476\\\\\n",
       "\t2 & 2         & 15        & 0.4340852 & 0.2263729\\\\\n",
       "\t5 & 5         & 30        & 0.3648641 & 0.2243295\\\\\n",
       "\t3 & 3         & 20        & 0.4028019 & 0.2226692\\\\\n",
       "\\end{tabular}\n"
      ],
      "text/markdown": [
       "\n",
       "| <!--/--> | X | min.frequecny | train.acc | val.acc |\n",
       "|---|---|---|---|---|\n",
       "| 1 | 1         | 10        | 0.4688428 | 0.2279693 |\n",
       "| 4 | 4         | 25        | 0.3797282 | 0.2269476 |\n",
       "| 2 | 2         | 15        | 0.4340852 | 0.2263729 |\n",
       "| 5 | 5         | 30        | 0.3648641 | 0.2243295 |\n",
       "| 3 | 3         | 20        | 0.4028019 | 0.2226692 |\n",
       "\n"
      ],
      "text/plain": [
       "  X min.frequecny train.acc val.acc  \n",
       "1 1 10            0.4688428 0.2279693\n",
       "4 4 25            0.3797282 0.2269476\n",
       "2 2 15            0.4340852 0.2263729\n",
       "5 5 30            0.3648641 0.2243295\n",
       "3 3 20            0.4028019 0.2226692"
      ]
     },
     "metadata": {},
     "output_type": "display_data"
    }
   ],
   "source": [
    "head(grid[order(-grid$val.acc),])"
   ]
  },
  {
   "cell_type": "markdown",
   "metadata": {},
   "source": [
    "## Hyper Parameter Tuning (Binomial Case) <a class=\"anchor\" id=\"hyperbino\"></a>"
   ]
  },
  {
   "cell_type": "markdown",
   "metadata": {},
   "source": [
    "Now we repeat the tuning for binomial case. This time considering both minfreq and threshold as our hyper paramters:"
   ]
  },
  {
   "cell_type": "code",
   "execution_count": 93,
   "metadata": {},
   "outputs": [],
   "source": [
    "minfreq.list   <- c(5, 10, 15, 20,   25)   #minfreq > 1\n",
    "threshold.list <- c(0, 0.1,0.3, 0.5, 0.7)"
   ]
  },
  {
   "cell_type": "code",
   "execution_count": 94,
   "metadata": {},
   "outputs": [],
   "source": [
    "label.list <- c(1,5)   #the labels:0,1,2,3,4,5\n",
    "df <- DF[DF$Labels %in% label.list, ] #the labels:0,1,2,3,4,5\n",
    "hm <- hist(df$Labels, plot = FALSE)  #saving for later use in the predictor function"
   ]
  },
  {
   "cell_type": "code",
   "execution_count": 95,
   "metadata": {},
   "outputs": [],
   "source": [
    "grid <- data.frame(matrix(ncol = 4, nrow = 0))\n",
    "params <- c(\"min.frequecny\",\"threshold\", \"train.acc\", \"val.acc\")\n",
    "colnames(grid) <- params"
   ]
  },
  {
   "cell_type": "code",
   "execution_count": 96,
   "metadata": {},
   "outputs": [],
   "source": [
    "# for (threshold in threshold.list){\n",
    "#     for (minfreq in minfreq.list){\n",
    "#         df_dtm <- df_cleaner(df_2, threshold, minfreq, binom = TRUE)\n",
    "#         train.acc <- vector() ; val.acc  <- vector()\n",
    "#         for (SEED in 1:20){          #averaging over a number of seeds\n",
    "#             train_test_splitter(df_dtm, df_2, test_ratio = 0.15, SEED)\n",
    "#             nbc <- Train(X_train, Y_train) #training process\n",
    "#             train.acc <- append(train.acc, score(Y_train, Predict(nbc, X_train)))\n",
    "#             val.acc  <- append(val.acc,  score(Y_val,  Predict(nbc, X_val )))\n",
    "                 \n",
    "#             }\n",
    "        \n",
    "#         grid[nrow(grid) + 1,] = c(minfreq,threshold, mean(train.acc), mean(val.acc))\n",
    "#     }\n",
    "# }\n",
    "\n",
    "# write.csv(grid, \"./data_res/gridsearch_binom_new.csv\")"
   ]
  },
  {
   "cell_type": "code",
   "execution_count": 97,
   "metadata": {},
   "outputs": [
    {
     "data": {
      "text/html": [
       "<table>\n",
       "<thead><tr><th></th><th scope=col>X</th><th scope=col>min.frequecny</th><th scope=col>threshold</th><th scope=col>train.acc</th><th scope=col>val.acc</th></tr></thead>\n",
       "<tbody>\n",
       "\t<tr><th scope=row>14</th><td>14       </td><td>20       </td><td>0.3      </td><td>0.6803125</td><td>0.6570410</td></tr>\n",
       "\t<tr><th scope=row>5</th><td> 5       </td><td>25       </td><td>0.0      </td><td>0.6683594</td><td>0.6547237</td></tr>\n",
       "\t<tr><th scope=row>9</th><td> 9       </td><td>20       </td><td>0.1      </td><td>0.6813281</td><td>0.6518717</td></tr>\n",
       "\t<tr><th scope=row>15</th><td>15       </td><td>25       </td><td>0.3      </td><td>0.6703125</td><td>0.6511586</td></tr>\n",
       "\t<tr><th scope=row>25</th><td>25       </td><td>25       </td><td>0.7      </td><td>0.6632031</td><td>0.6509804</td></tr>\n",
       "\t<tr><th scope=row>4</th><td> 4       </td><td>20       </td><td>0.0      </td><td>0.6760156</td><td>0.6508021</td></tr>\n",
       "</tbody>\n",
       "</table>\n"
      ],
      "text/latex": [
       "\\begin{tabular}{r|lllll}\n",
       "  & X & min.frequecny & threshold & train.acc & val.acc\\\\\n",
       "\\hline\n",
       "\t14 & 14        & 20        & 0.3       & 0.6803125 & 0.6570410\\\\\n",
       "\t5 &  5        & 25        & 0.0       & 0.6683594 & 0.6547237\\\\\n",
       "\t9 &  9        & 20        & 0.1       & 0.6813281 & 0.6518717\\\\\n",
       "\t15 & 15        & 25        & 0.3       & 0.6703125 & 0.6511586\\\\\n",
       "\t25 & 25        & 25        & 0.7       & 0.6632031 & 0.6509804\\\\\n",
       "\t4 &  4        & 20        & 0.0       & 0.6760156 & 0.6508021\\\\\n",
       "\\end{tabular}\n"
      ],
      "text/markdown": [
       "\n",
       "| <!--/--> | X | min.frequecny | threshold | train.acc | val.acc |\n",
       "|---|---|---|---|---|---|\n",
       "| 14 | 14        | 20        | 0.3       | 0.6803125 | 0.6570410 |\n",
       "| 5 |  5        | 25        | 0.0       | 0.6683594 | 0.6547237 |\n",
       "| 9 |  9        | 20        | 0.1       | 0.6813281 | 0.6518717 |\n",
       "| 15 | 15        | 25        | 0.3       | 0.6703125 | 0.6511586 |\n",
       "| 25 | 25        | 25        | 0.7       | 0.6632031 | 0.6509804 |\n",
       "| 4 |  4        | 20        | 0.0       | 0.6760156 | 0.6508021 |\n",
       "\n"
      ],
      "text/plain": [
       "   X  min.frequecny threshold train.acc val.acc  \n",
       "14 14 20            0.3       0.6803125 0.6570410\n",
       "5   5 25            0.0       0.6683594 0.6547237\n",
       "9   9 20            0.1       0.6813281 0.6518717\n",
       "15 15 25            0.3       0.6703125 0.6511586\n",
       "25 25 25            0.7       0.6632031 0.6509804\n",
       "4   4 20            0.0       0.6760156 0.6508021"
      ]
     },
     "metadata": {},
     "output_type": "display_data"
    }
   ],
   "source": [
    "grid <- read.csv(\"./data_res/gridsearch_binom.csv\")\n",
    "head(grid[order(-grid$val.acc),])"
   ]
  },
  {
   "cell_type": "code",
   "execution_count": 125,
   "metadata": {},
   "outputs": [
    {
     "data": {
      "image/png": "[encoded data removed]",
      "text/plain": [
       "plot without title"
      ]
     },
     "metadata": {},
     "output_type": "display_data"
    }
   ],
   "source": [
    "options(repr.plot.width=7, repr.plot.height =3)  #changing size of plots\n",
    "train <- levelplot(train.acc ~ threshold*min.frequecny, data=grid,   main= \"Train Accuracy\")  \n",
    "val   <- levelplot(val.acc   ~ threshold*min.frequecny, data=grid,   main= \"Validation Accuracy\")  \n",
    "grid.arrange(train, val ,ncol=2)"
   ]
  },
  {
   "cell_type": "markdown",
   "metadata": {},
   "source": [
    "# Comparing the Accuracies <a class=\"anchor\" id=\"acc\"></a>"
   ]
  },
  {
   "cell_type": "markdown",
   "metadata": {},
   "source": [
    "Now with tuned models we can carry out the main part of the project. Evaluating the performance of the models on the test set.\n",
    "We test all three NaiveBayes classifers discussed so far. Different sets of labels are considered. The parameters are chosen as the best ones obtained through tuning processes:"
   ]
  },
  {
   "cell_type": "code",
   "execution_count": 128,
   "metadata": {},
   "outputs": [],
   "source": [
    "best.minfreq   <- 20   #20 is the best minfreq both for binmoal and the multilabel cases \n",
    "best.threshold <- 0.3  #best for the binomial, not used for the multilabel case"
   ]
  },
  {
   "cell_type": "code",
   "execution_count": 129,
   "metadata": {},
   "outputs": [],
   "source": [
    "df.acc <- data.frame(matrix(ncol = 7, nrow = 0))\n",
    "params <- c(\"No.of.Labels\",\n",
    "            \"Train.Acc.e1071\", \"Test.Acc.e1071\",\"Train.Acc.fastnaive\",\n",
    "            \"Test.Acc.fastnaive\", \"Train.Acc.Model\", \"Test.Acc.Model\")\n",
    "\n",
    "colnames(df.acc) <- params"
   ]
  },
  {
   "cell_type": "code",
   "execution_count": 12,
   "metadata": {
    "collapsed": true
   },
   "outputs": [
    {
     "name": "stdout",
     "output_type": "stream",
     "text": [
      "Train Set Size: 2409\n",
      "Test  Set Size: 734\n",
      "Validation Set Size: 528\n",
      "The sum of Samples: 3671Train Set Size: 2409\n",
      "Test  Set Size: 734\n",
      "Validation Set Size: 528\n",
      "The sum of Samples: 3671Train Set Size: 2409\n",
      "Test  Set Size: 734\n",
      "Validation Set Size: 528\n",
      "The sum of Samples: 3671words matching: TRUEwords matching: TRUETrain Set Size: 2409\n",
      "Test  Set Size: 734\n",
      "Validation Set Size: 528\n",
      "The sum of Samples: 3671Train Set Size: 2409\n",
      "Test  Set Size: 734\n",
      "Validation Set Size: 528\n",
      "The sum of Samples: 3671Train Set Size: 2409\n",
      "Test  Set Size: 734\n",
      "Validation Set Size: 528\n",
      "The sum of Samples: 3671words matching: TRUEwords matching: TRUETrain Set Size: 2409\n",
      "Test  Set Size: 734\n",
      "Validation Set Size: 528\n",
      "The sum of Samples: 3671Train Set Size: 2409\n",
      "Test  Set Size: 734\n",
      "Validation Set Size: 528\n",
      "The sum of Samples: 3671Train Set Size: 2409\n",
      "Test  Set Size: 734\n",
      "Validation Set Size: 528\n",
      "The sum of Samples: 3671words matching: TRUEwords matching: TRUETrain Set Size: 2409\n",
      "Test  Set Size: 734\n",
      "Validation Set Size: 528\n",
      "The sum of Samples: 3671Train Set Size: 2409\n",
      "Test  Set Size: 734\n",
      "Validation Set Size: 528\n",
      "The sum of Samples: 3671Train Set Size: 2409\n",
      "Test  Set Size: 734\n",
      "Validation Set Size: 528\n",
      "The sum of Samples: 3671words matching: TRUEwords matching: TRUETrain Set Size: 2409\n",
      "Test  Set Size: 734\n",
      "Validation Set Size: 528\n",
      "The sum of Samples: 3671Train Set Size: 2409\n",
      "Test  Set Size: 734\n",
      "Validation Set Size: 528\n",
      "The sum of Samples: 3671Train Set Size: 2409\n",
      "Test  Set Size: 734\n",
      "Validation Set Size: 528\n",
      "The sum of Samples: 3671words matching: TRUEwords matching: TRUETrain Set Size: 2959\n",
      "Test  Set Size: 902\n",
      "Validation Set Size: 649\n",
      "The sum of Samples: 4510Train Set Size: 2959\n",
      "Test  Set Size: 902\n",
      "Validation Set Size: 649\n",
      "The sum of Samples: 4510Train Set Size: 2959\n",
      "Test  Set Size: 902\n",
      "Validation Set Size: 649\n",
      "The sum of Samples: 4510words matching: TRUEwords matching: TRUETrain Set Size: 2959\n",
      "Test  Set Size: 902\n",
      "Validation Set Size: 649\n",
      "The sum of Samples: 4510Train Set Size: 2959\n",
      "Test  Set Size: 902\n",
      "Validation Set Size: 649\n",
      "The sum of Samples: 4510Train Set Size: 2959\n",
      "Test  Set Size: 902\n",
      "Validation Set Size: 649\n",
      "The sum of Samples: 4510words matching: TRUEwords matching: TRUETrain Set Size: 2959\n",
      "Test  Set Size: 902\n",
      "Validation Set Size: 649\n",
      "The sum of Samples: 4510Train Set Size: 2959\n",
      "Test  Set Size: 902\n",
      "Validation Set Size: 649\n",
      "The sum of Samples: 4510Train Set Size: 2959\n",
      "Test  Set Size: 902\n",
      "Validation Set Size: 649\n",
      "The sum of Samples: 4510words matching: TRUEwords matching: TRUETrain Set Size: 2959\n",
      "Test  Set Size: 902\n",
      "Validation Set Size: 649\n",
      "The sum of Samples: 4510Train Set Size: 2959\n",
      "Test  Set Size: 902\n",
      "Validation Set Size: 649\n",
      "The sum of Samples: 4510Train Set Size: 2959\n",
      "Test  Set Size: 902\n",
      "Validation Set Size: 649\n",
      "The sum of Samples: 4510words matching: TRUEwords matching: TRUETrain Set Size: 2959\n",
      "Test  Set Size: 902\n",
      "Validation Set Size: 649\n",
      "The sum of Samples: 4510Train Set Size: 2959\n",
      "Test  Set Size: 902\n",
      "Validation Set Size: 649\n",
      "The sum of Samples: 4510Train Set Size: 2959\n",
      "Test  Set Size: 902\n",
      "Validation Set Size: 649\n",
      "The sum of Samples: 4510words matching: TRUEwords matching: TRUETrain Set Size: 4346\n",
      "Test  Set Size: 1324\n",
      "Validation Set Size: 954\n",
      "The sum of Samples: 6624Train Set Size: 4346\n",
      "Test  Set Size: 1324\n",
      "Validation Set Size: 954\n",
      "The sum of Samples: 6624Train Set Size: 4346\n",
      "Test  Set Size: 1324\n",
      "Validation Set Size: 954\n",
      "The sum of Samples: 6624words matching: TRUEwords matching: TRUETrain Set Size: 4346\n",
      "Test  Set Size: 1324\n",
      "Validation Set Size: 954\n",
      "The sum of Samples: 6624Train Set Size: 4346\n",
      "Test  Set Size: 1324\n",
      "Validation Set Size: 954\n",
      "The sum of Samples: 6624Train Set Size: 4346\n",
      "Test  Set Size: 1324\n",
      "Validation Set Size: 954\n",
      "The sum of Samples: 6624words matching: TRUEwords matching: TRUETrain Set Size: 4346\n",
      "Test  Set Size: 1324\n",
      "Validation Set Size: 954\n",
      "The sum of Samples: 6624Train Set Size: 4346\n",
      "Test  Set Size: 1324\n",
      "Validation Set Size: 954\n",
      "The sum of Samples: 6624Train Set Size: 4346\n",
      "Test  Set Size: 1324\n",
      "Validation Set Size: 954\n",
      "The sum of Samples: 6624words matching: TRUEwords matching: TRUETrain Set Size: 4346\n",
      "Test  Set Size: 1324\n",
      "Validation Set Size: 954\n",
      "The sum of Samples: 6624Train Set Size: 4346\n",
      "Test  Set Size: 1324\n",
      "Validation Set Size: 954\n",
      "The sum of Samples: 6624Train Set Size: 4346\n",
      "Test  Set Size: 1324\n",
      "Validation Set Size: 954\n",
      "The sum of Samples: 6624words matching: TRUEwords matching: TRUETrain Set Size: 4346\n",
      "Test  Set Size: 1324\n",
      "Validation Set Size: 954\n",
      "The sum of Samples: 6624Train Set Size: 4346\n",
      "Test  Set Size: 1324\n",
      "Validation Set Size: 954\n",
      "The sum of Samples: 6624Train Set Size: 4346\n",
      "Test  Set Size: 1324\n",
      "Validation Set Size: 954\n",
      "The sum of Samples: 6624words matching: TRUEwords matching: TRUETrain Set Size: 5431\n",
      "Test  Set Size: 1655\n",
      "Validation Set Size: 1192\n",
      "The sum of Samples: 8278Train Set Size: 5431\n",
      "Test  Set Size: 1655\n",
      "Validation Set Size: 1192\n",
      "The sum of Samples: 8278Train Set Size: 5431\n",
      "Test  Set Size: 1655\n",
      "Validation Set Size: 1192\n",
      "The sum of Samples: 8278words matching: TRUEwords matching: TRUETrain Set Size: 5431\n",
      "Test  Set Size: 1655\n",
      "Validation Set Size: 1192\n",
      "The sum of Samples: 8278Train Set Size: 5431\n",
      "Test  Set Size: 1655\n",
      "Validation Set Size: 1192\n",
      "The sum of Samples: 8278Train Set Size: 5431\n",
      "Test  Set Size: 1655\n",
      "Validation Set Size: 1192\n",
      "The sum of Samples: 8278words matching: TRUEwords matching: TRUETrain Set Size: 5431\n",
      "Test  Set Size: 1655\n",
      "Validation Set Size: 1192\n",
      "The sum of Samples: 8278Train Set Size: 5431\n",
      "Test  Set Size: 1655\n",
      "Validation Set Size: 1192\n",
      "The sum of Samples: 8278Train Set Size: 5431\n",
      "Test  Set Size: 1655\n",
      "Validation Set Size: 1192\n",
      "The sum of Samples: 8278words matching: TRUEwords matching: TRUETrain Set Size: 5431\n",
      "Test  Set Size: 1655\n",
      "Validation Set Size: 1192\n",
      "The sum of Samples: 8278Train Set Size: 5431\n",
      "Test  Set Size: 1655\n",
      "Validation Set Size: 1192\n",
      "The sum of Samples: 8278Train Set Size: 5431\n",
      "Test  Set Size: 1655\n",
      "Validation Set Size: 1192\n",
      "The sum of Samples: 8278words matching: TRUEwords matching: TRUETrain Set Size: 5431\n",
      "Test  Set Size: 1655\n",
      "Validation Set Size: 1192\n",
      "The sum of Samples: 8278Train Set Size: 5431\n",
      "Test  Set Size: 1655\n",
      "Validation Set Size: 1192\n",
      "The sum of Samples: 8278Train Set Size: 5431\n",
      "Test  Set Size: 1655\n",
      "Validation Set Size: 1192\n",
      "The sum of Samples: 8278words matching: TRUEwords matching: TRUETrain Set Size: 6718\n",
      "Test  Set Size: 2048\n",
      "Validation Set Size: 1474\n",
      "The sum of Samples: 10240Train Set Size: 6718\n",
      "Test  Set Size: 2048\n",
      "Validation Set Size: 1474\n",
      "The sum of Samples: 10240Train Set Size: 6718\n",
      "Test  Set Size: 2048\n",
      "Validation Set Size: 1474\n",
      "The sum of Samples: 10240words matching: TRUEwords matching: TRUETrain Set Size: 6718\n",
      "Test  Set Size: 2048\n",
      "Validation Set Size: 1474\n",
      "The sum of Samples: 10240Train Set Size: 6718\n",
      "Test  Set Size: 2048\n",
      "Validation Set Size: 1474\n",
      "The sum of Samples: 10240Train Set Size: 6718\n",
      "Test  Set Size: 2048\n",
      "Validation Set Size: 1474\n",
      "The sum of Samples: 10240words matching: TRUEwords matching: TRUETrain Set Size: 6718\n",
      "Test  Set Size: 2048\n",
      "Validation Set Size: 1474\n",
      "The sum of Samples: 10240Train Set Size: 6718\n",
      "Test  Set Size: 2048\n",
      "Validation Set Size: 1474\n",
      "The sum of Samples: 10240Train Set Size: 6718\n",
      "Test  Set Size: 2048\n",
      "Validation Set Size: 1474\n",
      "The sum of Samples: 10240words matching: TRUEwords matching: TRUETrain Set Size: 6718\n",
      "Test  Set Size: 2048\n",
      "Validation Set Size: 1474\n",
      "The sum of Samples: 10240Train Set Size: 6718\n",
      "Test  Set Size: 2048\n",
      "Validation Set Size: 1474\n",
      "The sum of Samples: 10240Train Set Size: 6718\n",
      "Test  Set Size: 2048\n",
      "Validation Set Size: 1474\n",
      "The sum of Samples: 10240words matching: TRUEwords matching: TRUETrain Set Size: 6718\n",
      "Test  Set Size: 2048\n",
      "Validation Set Size: 1474\n",
      "The sum of Samples: 10240Train Set Size: 6718\n",
      "Test  Set Size: 2048\n",
      "Validation Set Size: 1474\n",
      "The sum of Samples: 10240Train Set Size: 6718\n",
      "Test  Set Size: 2048\n",
      "Validation Set Size: 1474\n",
      "The sum of Samples: 10240words matching: TRUEwords matching: TRUE"
     ]
    }
   ],
   "source": [
    "#We so the train and testing using differnt sets of labels\n",
    "Label_List <- list(c(1,5), c(1,4,5), c(1,2,4,5), c(0,1,2,4,5), c(0,1,2,3,4,5))\n",
    "\n",
    "\n",
    "for (label.list in Label_List){\n",
    "    binom <- FALSE ; best.threshold <- 0    #for multi-label cases, here best.threshold is dummy\n",
    "    if (length(label.list) == 2) {binom = TRUE ; best.threshold <- 0.3} #for the binomial case\n",
    "    \n",
    "    df <- read.csv(\"./data/train.csv\")       #these line are the preprocessing which are same for all classifers\n",
    "    df  <- df[df$Labels %in% label.list, ] \n",
    "    hm    <- hist(df$Labels, plot =FALSE)    \n",
    "    df_dtm <- df_cleaner(df, threshold=best.threshold , minfreq=best.minfreq, binom )\n",
    "    \n",
    "    train.e10 <- vector() ; train.fastnaive <- vector(); train.model <- vector()\n",
    "    test.e10  <- vector() ; test.fastnaive  <- vector(); test.model  <- vector()\n",
    "    \n",
    "    for (SEED in 1:5){    #considering an ensemble of 5 for stabilizing the result\n",
    "\n",
    "        #===========e1071============#\n",
    "        train_test_splitter(df_dtm, df, 0.2, SEED)\n",
    "        NBC <- naiveBayes(X_train, Y_train)\n",
    "        train.e10 <- append(train.e10, score(Y_train, predict(NBC, X_train)))  #storing the scores\n",
    "        test.e10  <- append(test.e10,  score(Y_test,  predict(NBC, X_test )))    \n",
    "        \n",
    "        #==========fastnaive========#\n",
    "        train_test_splitter(df_dtm, df, 0.2, SEED)\n",
    "        fast_nbc <- fnb.multinomial(X_train, Y_train)\n",
    "        train.fastnaive <- append(train.fastnaive, score(Y_train, predict(fast_nbc, X_train)))\n",
    "        test.fastnaive  <- append(test.fastnaive,  score(Y_test,  predict(fast_nbc, X_test ))) \n",
    "        \n",
    "        #==========model============#\n",
    "        train_test_splitter(df_dtm, df, 0.2, SEED)\n",
    "        nbc <- Train(X_train, Y_train) \n",
    "        train.model <- append(train.model, score(Y_train, Predict(nbc, X_train)))\n",
    "        test.model  <- append(test.model,  score(Y_test,  Predict(nbc, X_test )))       \n",
    "        \n",
    "        }\n",
    "    \n",
    "    df.acc[nrow(df.acc) + 1,] <- c(length(label.list), \n",
    "                                  mean(train.e10), mean(test.e10),\n",
    "                                  mean(train.fastnaive), mean(test.fastnaive),\n",
    "                                  mean(train.model), mean(test.model)) \n",
    "   }\n"
   ]
  },
  {
   "cell_type": "code",
   "execution_count": null,
   "metadata": {},
   "outputs": [],
   "source": [
    "# write.csv(df.acc, \"./all_acc_new.csv\")"
   ]
  },
  {
   "cell_type": "code",
   "execution_count": 131,
   "metadata": {},
   "outputs": [],
   "source": [
    "df.acc <- read.csv(\"./all_acc_new.csv\")"
   ]
  },
  {
   "cell_type": "code",
   "execution_count": 46,
   "metadata": {},
   "outputs": [
    {
     "data": {
      "image/png": "[encoded data removed]",
      "text/plain": [
       "plot without title"
      ]
     },
     "metadata": {
      "image/png": {
       "height": 540,
       "width": 600
      }
     },
     "output_type": "display_data"
    }
   ],
   "source": [
    "options(repr.plot.width=10, repr.plot.height =9)  #changing size of plots\n",
    "\n",
    "ggplot(data = df.acc, aes(x = No.of.Labels)) +\n",
    "  geom_line(aes(y = Test.Acc.Model, colour = \"Model Test\"),         lwd=1) + \n",
    "  geom_line(aes(y = Test.Acc.fastnaive, colour = \"Fastnaive Test\"), lwd=1) + \n",
    "  geom_line(aes(y = Test.Acc.e1071, colour = \"e1071 Test\"),         lwd=1) + \n",
    "  \n",
    "  geom_line(aes(y = Train.Acc.Model, colour = \"Model Train\", ), linetype = \"dashed\",  lwd=1) + \n",
    "  geom_line(aes(y = Train.Acc.fastnaive, colour = \"Fastnaive Train\"),linetype = \"dashed\", lwd=1) + \n",
    "  geom_line(aes(y = Train.Acc.e1071, colour = \"e1071 Train\"),  linetype = \"dashed\",       lwd=1) + \n",
    "\n",
    "  labs(title = \"Accuracy of Different Models per Number of Labels\",\n",
    "         x = \"Number of Labels\",\n",
    "         y = \"Accuracy\") +\n",
    "  theme(legend.text = element_text(size = 14),\n",
    "      axis.text.y = element_text(face=\"bold\", size=18),\n",
    "      axis.text.x = element_text(face=\"bold\", size=18),  \n",
    "      axis.title.x = element_text(size = 20),\n",
    "      axis.title.y = element_text(size = 20),\n",
    "      title =element_text(size=20, face='bold'))"
   ]
  },
  {
   "cell_type": "markdown",
   "metadata": {},
   "source": [
    "The classifer which is refered as \"Model\" is the one we manually built."
   ]
  },
  {
   "cell_type": "markdown",
   "metadata": {},
   "source": [
    "## Computation Time <a class=\"anchor\" id=\"comp\"></a>"
   ]
  },
  {
   "cell_type": "markdown",
   "metadata": {},
   "source": [
    "Finally we perform a computation time evaluation over the three discussed methods:"
   ]
  },
  {
   "cell_type": "code",
   "execution_count": null,
   "metadata": {},
   "outputs": [],
   "source": [
    "df_5 <- read.csv(\"./data/train.csv\")\n",
    "label.list <- c(0,1,2,3,4,5)   #the labels:0,1,2,3,4,5\n",
    "df_5  <- df_5[df_5$Labels %in% label.list, ]\n",
    "hm    <- hist(df_5$Labels, plot =FALSE)    \n",
    "cat(\"dataset size:\", nrow(df_5))"
   ]
  },
  {
   "cell_type": "code",
   "execution_count": null,
   "metadata": {},
   "outputs": [],
   "source": [
    "comp.time <- data.frame(matrix(ncol = 7, nrow = 0))\n",
    "params <- c(\"Dataset.Size\",\n",
    "            \"Comp.Time.e1071 [s]\", \"Comp.Time.fastnaive [s]\", \"Comp.Time.model [s]\", \n",
    "            \"Test.Acc.e1071\",    \"Test.Acc.fastnaive\", \"Test.Acc.model\")\n",
    "\n",
    "colnames(comp.time) <- params"
   ]
  },
  {
   "cell_type": "code",
   "execution_count": null,
   "metadata": {},
   "outputs": [],
   "source": [
    "#N: Dataset Size\n",
    "N <- seq(1000, 10000, 1000)    # min>200\n",
    "\n",
    "for (n in N){\n",
    "    df <- sample_n(df_5,n)    #we measure the computation time using whole set of lables\n",
    "    hm <- hist(df$Labels, plot =FALSE)\n",
    "    df_dtm <- df_cleaner(df, 0.3, 25, binom= FALSE)\n",
    "    train_test_splitter(df_dtm, df, 0.2, SEED = 5)\n",
    "    \n",
    " #==========Our Model======================# \n",
    "    start.time <- Sys.time()\n",
    "    \n",
    "    nbc <- Train(X_train, Y_train)\n",
    "    Y_pred <- Predict(nbc, X_test )\n",
    "    \n",
    "    end.time <- Sys.time()\n",
    "    runtime.model <-  end.time - start.time\n",
    "    test.acc.model <- score(Y_test,  Y_pred)\n",
    " #=========================================#\n",
    "    \n",
    " #==========fastnaive========================# \n",
    "    train_test_splitter(df_dtm, df, 0.2, SEED = 6)\n",
    "    start.time <- Sys.time()\n",
    "    \n",
    "    fast_nbc <- fnb.multinomial(X_train, Y_train)\n",
    "    Y_pred <- predict(fast_nbc, X_test)\n",
    "    \n",
    "    end.time  <- Sys.time()\n",
    "    runtime.fastnaive <- end.time - start.time\n",
    "    test.acc.fastnaive <- score(Y_test,  Y_pred)  \n",
    " #=========================================#\n",
    "    \n",
    " #==========e1071========================# \n",
    "    train_test_splitter(df_dtm, df, 0.2, SEED = 6)\n",
    "    start.time <- Sys.time()\n",
    "    \n",
    "    NBC <- naiveBayes(X_train, Y_train) #training process\n",
    "    Y_pred <- predict(NBC, X_test)\n",
    "    \n",
    "    end.time  <- Sys.time()\n",
    "    runtime.e1071  <- end.time - start.time\n",
    "    test.acc.e1071 <- score(Y_test,  Y_pred)  \n",
    " #=========================================#    \n",
    "    \n",
    "    comp.time[nrow(comp.time) + 1,] = c(n, runtime.e1071, runtime.fastnaive,runtime.model, \n",
    "                                        test.acc.e1071, test.acc.fastnaive, test.acc.model)\n",
    "    }\n",
    "\n",
    "# write.csv(comp.time, \"./comp_time_new.csv\")"
   ]
  },
  {
   "cell_type": "code",
   "execution_count": null,
   "metadata": {},
   "outputs": [],
   "source": [
    "comp.time <- read.csv(\"./comp_time_new.csv\")\n",
    "\n",
    "options(repr.plot.width=10, repr.plot.height =9)  #changing size of plots\n",
    "\n",
    "ggplot(data = comp.time, aes(x = Dataset.Size)) +\n",
    "  geom_line(aes(y = Comp.Time.e1071..s.    ,     colour = \"e1071 \"),    lwd=1) + \n",
    "  geom_line(aes(y = Comp.Time.fastnaive..s.,     colour = \"Fastnaive\"), lwd=1) + \n",
    "  geom_line(aes(y = Comp.Time.model..s.    ,     colour = \"Model\"),     lwd=1) + \n",
    "  \n",
    "  labs(title = \"Computation Time [Train+Predict] of Different Models per Dataset Size\",\n",
    "       x = \"Dataset Size\",\n",
    "       y = \"Time [S]\") +\n",
    "  theme(legend.text = element_text(size = 14),\n",
    "      axis.text.y = element_text(face=\"bold\", size=18),\n",
    "      axis.text.x = element_text(face=\"bold\", size=18),  \n",
    "      axis.title.x = element_text(size = 20),\n",
    "      axis.title.y = element_text(size = 20),\n",
    "      title =element_text(size=20, face='bold'))"
   ]
  },
  {
   "cell_type": "markdown",
   "metadata": {},
   "source": [
    "## Testing on The dataset without labels <a class=\"anchor\" id=\"less\"></a>"
   ]
  },
  {
   "cell_type": "code",
   "execution_count": null,
   "metadata": {},
   "outputs": [],
   "source": [
    "DF <- read.csv(\"./data/train.csv\")\n",
    "DF2<- read.csv(\"./data/test.csv\")\n",
    "df_sub<-DF[,-1]\n",
    "DF_comb<-rbind(df_sub,DF2)\n",
    "head(DF_comb)\n",
    "cat(\"dataset size:\", nrow(DF_comb))"
   ]
  },
  {
   "cell_type": "code",
   "execution_count": null,
   "metadata": {},
   "outputs": [],
   "source": [
    "label.list <- c(0,1,2,3,4,5)   #the labels:0,1,2,3,4,5\n",
    "df <- DF[DF$Labels %in% label.list, ] #the labels:0,1,2,3,4,5\n"
   ]
  },
  {
   "cell_type": "code",
   "execution_count": null,
   "metadata": {},
   "outputs": [],
   "source": [
    "df_dtm <- df_cleaner(DF_comb, threshold= 0.3, minfreq = 10, binom = TRUE)\n",
    "df_dtm"
   ]
  },
  {
   "cell_type": "code",
   "execution_count": null,
   "metadata": {},
   "outputs": [],
   "source": [
    "X<- data.frame(as.matrix(df_dtm), stringsAsFactors=FALSE)\n",
    "Y<- df$Labels"
   ]
  },
  {
   "cell_type": "code",
   "execution_count": null,
   "metadata": {},
   "outputs": [],
   "source": [
    "X_train   <- X[1:10240, ]\n",
    "X_test    <- X[10241:11507, ]\n",
    "Y_train   <- Y"
   ]
  },
  {
   "cell_type": "markdown",
   "metadata": {},
   "source": [
    "# Conclusion <a class=\"anchor\" id=\"con\"></a>"
   ]
  },
  {
   "cell_type": "markdown",
   "metadata": {},
   "source": [
    "In this project we tried to build a Naive Bayes Classifer which is supposed to distinguish between fake and true news. We started with a multinomial classifer, constructed the train and predictor. A training dataset can be given as the input and a corresponding model is build based on that. Then we use our predict function to test the new samples. Although there were some progress when moving from a multinomial to a binomial case, but the accuracy we get in both cases is not so sufficiently large.  We think that in order to increase the accuracy we need a larger dataset for the model to be well trained on. "
   ]
  },
  {
   "cell_type": "markdown",
   "metadata": {},
   "source": [
    "# Bibliography <a class=\"anchor\" id=\"bib\"></a>"
   ]
  },
  {
   "cell_type": "markdown",
   "metadata": {},
   "source": [
    "Chen, Y., Conroy, N.J., Rubin, V.L., 2015. News in an online world: The need for an ”automatic crap detector”, in: Proceedings of the 78th\n",
    "ASIS&T Annual Meeting: Information Science with Impact: Research in and for the Community, American Society for Information Science,\n",
    "Silver Springs, MD, USA. pp. 81:1–81:4. URL: http://dl.acm.org/citation.cfm?id=2857070.2857151"
   ]
  }
 ],
 "metadata": {
  "kernelspec": {
   "display_name": "R",
   "language": "R",
   "name": "ir"
  },
  "language_info": {
   "codemirror_mode": "r",
   "file_extension": ".r",
   "mimetype": "text/x-r-source",
   "name": "R",
   "pygments_lexer": "r",
   "version": "3.6.1"
  }
 },
 "nbformat": 4,
 "nbformat_minor": 2
}
